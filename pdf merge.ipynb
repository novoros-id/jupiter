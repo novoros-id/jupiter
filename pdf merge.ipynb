{
 "cells": [
  {
   "cell_type": "code",
   "execution_count": 1,
   "metadata": {},
   "outputs": [],
   "source": [
    "from PyPDF2 import PdfFileMerger"
   ]
  },
  {
   "cell_type": "code",
   "execution_count": 18,
   "metadata": {},
   "outputs": [],
   "source": [
    "pdfs = ['/Users/alexeyvaganov/doc/files/voen1.pdf',\n",
    "        '/Users/alexeyvaganov/doc/files/voen2.pdf',\n",
    "        '/Users/alexeyvaganov/doc/files/voen3.pdf',\n",
    "        '/Users/alexeyvaganov/doc/files/voen4.pdf',\n",
    "        '/Users/alexeyvaganov/doc/files/voen5.pdf',\n",
    "        '/Users/alexeyvaganov/doc/files/voen6.pdf',\n",
    "        '/Users/alexeyvaganov/doc/files/voen7.pdf',\n",
    "        '/Users/alexeyvaganov/doc/files/voen8.pdf'\n",
    "       ]"
   ]
  },
  {
   "cell_type": "code",
   "execution_count": 19,
   "metadata": {},
   "outputs": [],
   "source": [
    "merger = PdfFileMerger()"
   ]
  },
  {
   "cell_type": "code",
   "execution_count": 20,
   "metadata": {},
   "outputs": [],
   "source": [
    "for pdf in pdfs:\n",
    "    merger.append(pdf)"
   ]
  },
  {
   "cell_type": "code",
   "execution_count": 21,
   "metadata": {},
   "outputs": [],
   "source": [
    "merger.write(\"/Users/alexeyvaganov/doc/files/voen.pdf\")\n",
    "merger.close()"
   ]
  }
 ],
 "metadata": {
  "kernelspec": {
   "display_name": "Python 3",
   "language": "python",
   "name": "python3"
  },
  "language_info": {
   "codemirror_mode": {
    "name": "ipython",
    "version": 3
   },
   "file_extension": ".py",
   "mimetype": "text/x-python",
   "name": "python",
   "nbconvert_exporter": "python",
   "pygments_lexer": "ipython3",
   "version": "3.7.6"
  }
 },
 "nbformat": 4,
 "nbformat_minor": 4
}
