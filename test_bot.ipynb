{
 "cells": [
  {
   "cell_type": "code",
   "execution_count": 1,
   "id": "4c1c737b",
   "metadata": {},
   "outputs": [],
   "source": [
    "import telebot"
   ]
  },
  {
   "cell_type": "code",
   "execution_count": 2,
   "id": "7b3681d4",
   "metadata": {},
   "outputs": [],
   "source": [
    "bot = telebot.TeleBot('1599191304:AAGQ-k36x36_VaL1HV_UvlAsH9H9Ip9xkAg')"
   ]
  },
  {
   "cell_type": "code",
   "execution_count": 3,
   "id": "b0bdc622",
   "metadata": {},
   "outputs": [],
   "source": [
    "def start_message(message):\n",
    "    bot.send_message(message.chat.id,\"Привет ✌️ \")\n",
    "    bot.infinity_poling()"
   ]
  },
  {
   "cell_type": "code",
   "execution_count": null,
   "id": "9b9ff957",
   "metadata": {},
   "outputs": [],
   "source": []
  }
 ],
 "metadata": {
  "kernelspec": {
   "display_name": "Python 3 (ipykernel)",
   "language": "python",
   "name": "python3"
  },
  "language_info": {
   "codemirror_mode": {
    "name": "ipython",
    "version": 3
   },
   "file_extension": ".py",
   "mimetype": "text/x-python",
   "name": "python",
   "nbconvert_exporter": "python",
   "pygments_lexer": "ipython3",
   "version": "3.9.10"
  }
 },
 "nbformat": 4,
 "nbformat_minor": 5
}
