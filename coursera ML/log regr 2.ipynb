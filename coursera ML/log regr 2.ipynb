{
 "cells": [
  {
   "cell_type": "code",
   "execution_count": 1,
   "metadata": {},
   "outputs": [
    {
     "name": "stdout",
     "output_type": "stream",
     "text": [
      "0.9318095238095236\n",
      "0.9319047619047619\n"
     ]
    },
    {
     "name": "stderr",
     "output_type": "stream",
     "text": [
      "/Users/alexeyvaganov/opt/anaconda3/lib/python3.7/site-packages/sklearn/linear_model/_logistic.py:1505: UserWarning: Setting penalty='none' will ignore the C and l1_ratio parameters\n",
      "  \"Setting penalty='none' will ignore the C and l1_ratio \"\n"
     ]
    }
   ],
   "source": [
    "from sklearn.linear_model import LogisticRegression\n",
    "\n",
    "from sklearn.metrics import roc_auc_score\n",
    "\n",
    "import pandas as pd\n",
    "\n",
    "train_set = \"data-logistic.csv\";\n",
    "\n",
    "df_train = pd.read_csv(train_set, index_col=None, header=None)\n",
    "\n",
    "X_train = df_train.loc[:, 1:]\n",
    "\n",
    "y_train = df_train[0].tolist()\n",
    "\n",
    "model = LogisticRegression(random_state=0, C=10,penalty=\"none\")\n",
    "\n",
    "model.fit(X_train, y_train)\n",
    "\n",
    "print (roc_auc_score(y_train, model.decision_function(X_train)))\n",
    "\n",
    "model = LogisticRegression(random_state=0, C=10,penalty=\"l2\")\n",
    "\n",
    "model.fit(X_train, y_train)\n",
    "\n",
    "print (roc_auc_score(y_train, model.decision_function(X_train)))\n",
    "\n"
   ]
  }
 ],
 "metadata": {
  "kernelspec": {
   "display_name": "Python 3",
   "language": "python",
   "name": "python3"
  },
  "language_info": {
   "codemirror_mode": {
    "name": "ipython",
    "version": 3
   },
   "file_extension": ".py",
   "mimetype": "text/x-python",
   "name": "python",
   "nbconvert_exporter": "python",
   "pygments_lexer": "ipython3",
   "version": "3.7.6"
  }
 },
 "nbformat": 4,
 "nbformat_minor": 4
}
