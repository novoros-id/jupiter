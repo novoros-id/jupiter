{
 "cells": [
  {
   "cell_type": "code",
   "execution_count": 15,
   "metadata": {
    "code_folding": [
     0
    ]
   },
   "outputs": [],
   "source": [
    "# определения\n",
    "\n",
    "import pandas as pd\n",
    "import numpy as np\n",
    "import seaborn as sns\n",
    "import re\n",
    "import pickle\n",
    "import pymorphy2\n",
    "import matplotlib.pyplot as plt\n",
    "\n",
    "from sklearn.model_selection import train_test_split\n",
    "from sklearn.tree import DecisionTreeClassifier\n",
    "from sklearn.metrics import accuracy_score, classification_report, f1_score\n",
    "from sklearn.feature_extraction.text import CountVectorizer\n",
    "from sklearn.ensemble import RandomForestClassifier\n",
    "from sklearn.model_selection import GridSearchCV\n",
    "from sklearn.model_selection import train_test_split\n",
    "from sklearn.metrics import roc_auc_score,classification_report,confusion_matrix,roc_curve,auc,precision_recall_curve,precision_score,recall_score,f1_score,accuracy_score\n",
    "\n",
    "from sklearn.decomposition import PCA\n",
    "\n",
    "morph = pymorphy2.MorphAnalyzer()\n",
    "vectorizer = CountVectorizer()\n",
    "plt.style.use('dark_background')\n",
    "# Options for pandas\n",
    "pd.set_option('display.float_format', lambda x: '%.3f' % x)\n",
    "pd.options.display.max_columns = 50\n",
    "pd.options.display.min_rows = 30"
   ]
  },
  {
   "cell_type": "code",
   "execution_count": 3,
   "metadata": {
    "code_folding": [
     0
    ]
   },
   "outputs": [],
   "source": [
    "# здесь \"на память\" описываю операторы в одну - две строчки \n",
    "\n",
    "# PANDAS\n",
    "# data.iloc[[0,3,100]] - показать строки по индексу 0,3,100\n",
    "# data[data.Survived == 0 ] - отбор по значению\n",
    "# data[data.Survived == 0 ][['Sex','Age']] - отбор  и показать только выбранные колонки\n",
    "# data['new_col'] = data['Survived'] - в новую колонку добавить значение старой колонки\n",
    "# data.rename(columns = {'new_col':'del_col'}) - переименовать колонку\n",
    "# data = data.drop(['new_col'],axis = 'columns') - удалить колонку\n",
    "# del data[\"column\"] - еще один способ удалить колонку\n",
    "# print(data.groupby(['Sex','Survived'])['PassengerId'].count()) - сгруппировать \n",
    "# по колонкам 'Sex','Survived' и подсчету по колонке PassengerId\n",
    "# data.isna().sum() - показать сколько пустых значений в каждой колонке\n",
    "# data.Survived.value_counts() - показать сколько уникальных значений в колонке  Survived\n",
    "# data.Survived.max() - показать максимальное значение в колонке  Survived\n",
    "# data.Survived.nlagerset(3) - показать 3 максимальных  значения в колонке  Survived\n",
    "# data.Survived.idxmax() - показать индекс максимальноого значения в колонке  Survived\n",
    "# data.loc[23] - показать строку 23\n",
    "# data = data.dropna() - удалить все строки с пропусками\n",
    "# data.Sex.replace('male', 0, inplace=True) - заменить значения в колонке Sex: mail - 0\n",
    "# test_out = pd.DataFrame({'PassengerId': test_df.index,'Survived': preds})\n",
    "# создать новый dataframe для выгрузки на кагл\n",
    "# data = pd.read_excel(\"resolution_100.xlsx\") - прочитать файл excel\n",
    "# data.describe() - получаем описание фрэйма, макс, мин, количество и прочее  \n",
    "# data.fillna(method='ffill', inplace=True) - заполнить все пустые предыдущими значениями\n",
    "# data = pandas.get_dummies(data,columns=['columns']) - раскрытие строк через доп. столбцы\n",
    "# data = pd.concat([data_train,data_test]) - объединение таблиц\n",
    "# data = data.assign(type_age=\"\") - добавить колонку\n",
    "# data.loc[1,\"type_age\"] = \"a\" - записать значение в колонку по строке\n",
    "# def valuation_formula(x, y): # заполнение ячеек через lambda\n",
    "#   return x * y * 0.5\n",
    "# data['price'] = data.apply(lambda row: valuation_formula(row['x'], row['y']), axis=1)\n",
    "# pandas.pivot_table - сводная таблица\n",
    "# for idx,row in anime[:2].iterrows(): - обход элементов dataframe\n",
    "#    print(idx, row)\n",
    "# data['price'] = data['price'].apply(функция) - применение функции к столбцу\n",
    "# data.map({'cat': 'kitten', 'dog': 'puppy'}) - замена значений по словарю\n",
    "\n",
    "\n",
    "\n",
    "# SEABORN\n",
    "# sns.heatmap(data.corr()) - вывести график корреляций по всем колонкам\n",
    "\n",
    "# SKLEARN\n",
    "# X_train, X_test, y_train, y_test = train_test_split(X, y, test_size=0.2,random_state=42) \n",
    "# разбить данные на тренировочную и тестовую выборку\n",
    "# 20 процентов на тестовую , случайность выборки зафиксирована\n",
    "# accuracy_score(y_test,y_pred) - коэффециент проверки на проверочной выборке\n",
    "# vectorizer.get_feature_names() - посмотреть словарь векторов текста\n",
    "# чтобы получить сгенерированный словарь, из приведенной структуры CountVectorizer, \n",
    "# стоит отметить что порядок совпадает с матрице\n",
    "# text_vector_array = text_vector.toarray() - покаазть матрицу\n",
    "\n",
    "\n",
    "# PICKLE\n",
    "# model = pickle.load(open(\"filename\", 'rb')) - загрузка модели из файла\n",
    "# pickle.dump(model, open(\"filename\", 'wb')) - сохрванение модели в файл\n",
    "\n",
    "# "
   ]
  },
  {
   "cell_type": "code",
   "execution_count": 35,
   "metadata": {},
   "outputs": [],
   "source": [
    "data_cv = pd.read_csv(\"close_prices.csv\",index_col='date')\n",
    "data_dj = pd.read_csv(\"djia_index.csv\",index_col='date')"
   ]
  },
  {
   "cell_type": "code",
   "execution_count": 47,
   "metadata": {},
   "outputs": [
    {
     "data": {
      "text/html": [
       "<div>\n",
       "<style scoped>\n",
       "    .dataframe tbody tr th:only-of-type {\n",
       "        vertical-align: middle;\n",
       "    }\n",
       "\n",
       "    .dataframe tbody tr th {\n",
       "        vertical-align: top;\n",
       "    }\n",
       "\n",
       "    .dataframe thead th {\n",
       "        text-align: right;\n",
       "    }\n",
       "</style>\n",
       "<table border=\"1\" class=\"dataframe\">\n",
       "  <thead>\n",
       "    <tr style=\"text-align: right;\">\n",
       "      <th></th>\n",
       "      <th>^DJI</th>\n",
       "    </tr>\n",
       "    <tr>\n",
       "      <th>date</th>\n",
       "      <th></th>\n",
       "    </tr>\n",
       "  </thead>\n",
       "  <tbody>\n",
       "    <tr>\n",
       "      <th>2013-09-23</th>\n",
       "      <td>15401.380</td>\n",
       "    </tr>\n",
       "    <tr>\n",
       "      <th>2013-09-24</th>\n",
       "      <td>15334.590</td>\n",
       "    </tr>\n",
       "    <tr>\n",
       "      <th>2013-09-25</th>\n",
       "      <td>15273.260</td>\n",
       "    </tr>\n",
       "    <tr>\n",
       "      <th>2013-09-26</th>\n",
       "      <td>15328.300</td>\n",
       "    </tr>\n",
       "    <tr>\n",
       "      <th>2013-09-27</th>\n",
       "      <td>15258.240</td>\n",
       "    </tr>\n",
       "    <tr>\n",
       "      <th>2013-09-30</th>\n",
       "      <td>15129.670</td>\n",
       "    </tr>\n",
       "    <tr>\n",
       "      <th>2013-10-01</th>\n",
       "      <td>15191.700</td>\n",
       "    </tr>\n",
       "    <tr>\n",
       "      <th>2013-10-02</th>\n",
       "      <td>15133.140</td>\n",
       "    </tr>\n",
       "    <tr>\n",
       "      <th>2013-10-03</th>\n",
       "      <td>14996.480</td>\n",
       "    </tr>\n",
       "    <tr>\n",
       "      <th>2013-10-04</th>\n",
       "      <td>15072.580</td>\n",
       "    </tr>\n",
       "    <tr>\n",
       "      <th>2013-10-07</th>\n",
       "      <td>14936.240</td>\n",
       "    </tr>\n",
       "    <tr>\n",
       "      <th>2013-10-08</th>\n",
       "      <td>14776.530</td>\n",
       "    </tr>\n",
       "    <tr>\n",
       "      <th>2013-10-09</th>\n",
       "      <td>14802.980</td>\n",
       "    </tr>\n",
       "    <tr>\n",
       "      <th>2013-10-10</th>\n",
       "      <td>15126.070</td>\n",
       "    </tr>\n",
       "    <tr>\n",
       "      <th>2013-10-11</th>\n",
       "      <td>15237.110</td>\n",
       "    </tr>\n",
       "    <tr>\n",
       "      <th>...</th>\n",
       "      <td>...</td>\n",
       "    </tr>\n",
       "    <tr>\n",
       "      <th>2015-02-26</th>\n",
       "      <td>18214.420</td>\n",
       "    </tr>\n",
       "    <tr>\n",
       "      <th>2015-02-27</th>\n",
       "      <td>18132.699</td>\n",
       "    </tr>\n",
       "    <tr>\n",
       "      <th>2015-03-02</th>\n",
       "      <td>18288.631</td>\n",
       "    </tr>\n",
       "    <tr>\n",
       "      <th>2015-03-03</th>\n",
       "      <td>18203.369</td>\n",
       "    </tr>\n",
       "    <tr>\n",
       "      <th>2015-03-04</th>\n",
       "      <td>18096.900</td>\n",
       "    </tr>\n",
       "    <tr>\n",
       "      <th>2015-03-05</th>\n",
       "      <td>18135.721</td>\n",
       "    </tr>\n",
       "    <tr>\n",
       "      <th>2015-03-06</th>\n",
       "      <td>17856.779</td>\n",
       "    </tr>\n",
       "    <tr>\n",
       "      <th>2015-03-09</th>\n",
       "      <td>17995.721</td>\n",
       "    </tr>\n",
       "    <tr>\n",
       "      <th>2015-03-10</th>\n",
       "      <td>17662.939</td>\n",
       "    </tr>\n",
       "    <tr>\n",
       "      <th>2015-03-11</th>\n",
       "      <td>17635.391</td>\n",
       "    </tr>\n",
       "    <tr>\n",
       "      <th>2015-03-12</th>\n",
       "      <td>17895.221</td>\n",
       "    </tr>\n",
       "    <tr>\n",
       "      <th>2015-03-13</th>\n",
       "      <td>17749.311</td>\n",
       "    </tr>\n",
       "    <tr>\n",
       "      <th>2015-03-16</th>\n",
       "      <td>17977.420</td>\n",
       "    </tr>\n",
       "    <tr>\n",
       "      <th>2015-03-17</th>\n",
       "      <td>17849.080</td>\n",
       "    </tr>\n",
       "    <tr>\n",
       "      <th>2015-03-18</th>\n",
       "      <td>18076.189</td>\n",
       "    </tr>\n",
       "  </tbody>\n",
       "</table>\n",
       "<p>374 rows × 1 columns</p>\n",
       "</div>"
      ],
      "text/plain": [
       "                ^DJI\n",
       "date                \n",
       "2013-09-23 15401.380\n",
       "2013-09-24 15334.590\n",
       "2013-09-25 15273.260\n",
       "2013-09-26 15328.300\n",
       "2013-09-27 15258.240\n",
       "2013-09-30 15129.670\n",
       "2013-10-01 15191.700\n",
       "2013-10-02 15133.140\n",
       "2013-10-03 14996.480\n",
       "2013-10-04 15072.580\n",
       "2013-10-07 14936.240\n",
       "2013-10-08 14776.530\n",
       "2013-10-09 14802.980\n",
       "2013-10-10 15126.070\n",
       "2013-10-11 15237.110\n",
       "...              ...\n",
       "2015-02-26 18214.420\n",
       "2015-02-27 18132.699\n",
       "2015-03-02 18288.631\n",
       "2015-03-03 18203.369\n",
       "2015-03-04 18096.900\n",
       "2015-03-05 18135.721\n",
       "2015-03-06 17856.779\n",
       "2015-03-09 17995.721\n",
       "2015-03-10 17662.939\n",
       "2015-03-11 17635.391\n",
       "2015-03-12 17895.221\n",
       "2015-03-13 17749.311\n",
       "2015-03-16 17977.420\n",
       "2015-03-17 17849.080\n",
       "2015-03-18 18076.189\n",
       "\n",
       "[374 rows x 1 columns]"
      ]
     },
     "execution_count": 47,
     "metadata": {},
     "output_type": "execute_result"
    }
   ],
   "source": [
    "data_dj"
   ]
  },
  {
   "cell_type": "code",
   "execution_count": 14,
   "metadata": {},
   "outputs": [
    {
     "data": {
      "text/html": [
       "<div>\n",
       "<style scoped>\n",
       "    .dataframe tbody tr th:only-of-type {\n",
       "        vertical-align: middle;\n",
       "    }\n",
       "\n",
       "    .dataframe tbody tr th {\n",
       "        vertical-align: top;\n",
       "    }\n",
       "\n",
       "    .dataframe thead th {\n",
       "        text-align: right;\n",
       "    }\n",
       "</style>\n",
       "<table border=\"1\" class=\"dataframe\">\n",
       "  <thead>\n",
       "    <tr style=\"text-align: right;\">\n",
       "      <th></th>\n",
       "      <th>date</th>\n",
       "      <th>AXP</th>\n",
       "      <th>BA</th>\n",
       "      <th>CAT</th>\n",
       "      <th>CSCO</th>\n",
       "      <th>CVX</th>\n",
       "      <th>DD</th>\n",
       "      <th>DIS</th>\n",
       "      <th>GE</th>\n",
       "      <th>GS</th>\n",
       "      <th>HD</th>\n",
       "      <th>IBM</th>\n",
       "      <th>INTC</th>\n",
       "      <th>JNJ</th>\n",
       "      <th>JPM</th>\n",
       "      <th>KO</th>\n",
       "      <th>MCD</th>\n",
       "      <th>MMM</th>\n",
       "      <th>MRK</th>\n",
       "      <th>MSFT</th>\n",
       "      <th>NKE</th>\n",
       "      <th>PFE</th>\n",
       "      <th>PG</th>\n",
       "      <th>T</th>\n",
       "      <th>TRV</th>\n",
       "      <th>UNH</th>\n",
       "      <th>UTX</th>\n",
       "      <th>V</th>\n",
       "      <th>VZ</th>\n",
       "      <th>WMT</th>\n",
       "      <th>XOM</th>\n",
       "    </tr>\n",
       "  </thead>\n",
       "  <tbody>\n",
       "    <tr>\n",
       "      <th>0</th>\n",
       "      <td>2013-09-23</td>\n",
       "      <td>76.440</td>\n",
       "      <td>117.510</td>\n",
       "      <td>85.030</td>\n",
       "      <td>24.270</td>\n",
       "      <td>125.520</td>\n",
       "      <td>59.410</td>\n",
       "      <td>64.750</td>\n",
       "      <td>24.280</td>\n",
       "      <td>165.250</td>\n",
       "      <td>75.910</td>\n",
       "      <td>190.990</td>\n",
       "      <td>23.620</td>\n",
       "      <td>89.090</td>\n",
       "      <td>51.460</td>\n",
       "      <td>38.630</td>\n",
       "      <td>97.280</td>\n",
       "      <td>121.110</td>\n",
       "      <td>47.680</td>\n",
       "      <td>32.740</td>\n",
       "      <td>68.980</td>\n",
       "      <td>28.800</td>\n",
       "      <td>79.280</td>\n",
       "      <td>34.220</td>\n",
       "      <td>86.380</td>\n",
       "      <td>71.820</td>\n",
       "      <td>109.420</td>\n",
       "      <td>196.240</td>\n",
       "      <td>47.980</td>\n",
       "      <td>76.420</td>\n",
       "      <td>87.750</td>\n",
       "    </tr>\n",
       "  </tbody>\n",
       "</table>\n",
       "</div>"
      ],
      "text/plain": [
       "         date    AXP      BA    CAT   CSCO     CVX     DD    DIS     GE  \\\n",
       "0  2013-09-23 76.440 117.510 85.030 24.270 125.520 59.410 64.750 24.280   \n",
       "\n",
       "       GS     HD     IBM   INTC    JNJ    JPM     KO    MCD     MMM    MRK  \\\n",
       "0 165.250 75.910 190.990 23.620 89.090 51.460 38.630 97.280 121.110 47.680   \n",
       "\n",
       "    MSFT    NKE    PFE     PG      T    TRV    UNH     UTX       V     VZ  \\\n",
       "0 32.740 68.980 28.800 79.280 34.220 86.380 71.820 109.420 196.240 47.980   \n",
       "\n",
       "     WMT    XOM  \n",
       "0 76.420 87.750  "
      ]
     },
     "execution_count": 14,
     "metadata": {},
     "output_type": "execute_result"
    }
   ],
   "source": [
    "data_cv[:1]"
   ]
  },
  {
   "cell_type": "code",
   "execution_count": 18,
   "metadata": {},
   "outputs": [
    {
     "data": {
      "text/plain": [
       "PCA(copy=True, iterated_power='auto', n_components=10, random_state=None,\n",
       "    svd_solver='auto', tol=0.0, whiten=False)"
      ]
     },
     "execution_count": 18,
     "metadata": {},
     "output_type": "execute_result"
    }
   ],
   "source": [
    "X = np.array(data_cv)\n",
    "pca = PCA(n_components=10)\n",
    "pca.fit(X)"
   ]
  },
  {
   "cell_type": "code",
   "execution_count": 34,
   "metadata": {},
   "outputs": [
    {
     "name": "stdout",
     "output_type": "stream",
     "text": [
      "0.9277429537836401\n"
     ]
    }
   ],
   "source": [
    "print( pca.explained_variance_ratio_[0:4].sum() )"
   ]
  },
  {
   "cell_type": "code",
   "execution_count": 37,
   "metadata": {},
   "outputs": [],
   "source": [
    "xindex1 = pd.Series( X[:,0], index=data_cv.index, name='xindex1' )"
   ]
  },
  {
   "cell_type": "code",
   "execution_count": 40,
   "metadata": {},
   "outputs": [
    {
     "data": {
      "text/plain": [
       "array([[1.        , 0.39432267],\n",
       "       [0.39432267, 1.        ]])"
      ]
     },
     "execution_count": 40,
     "metadata": {},
     "output_type": "execute_result"
    }
   ],
   "source": [
    "corr = np.corrcoef( pd.concat( [xindex1, data_dj], axis=1 ), rowvar=False )\n",
    "corr"
   ]
  },
  {
   "cell_type": "code",
   "execution_count": 42,
   "metadata": {},
   "outputs": [
    {
     "data": {
      "text/plain": [
       "array([[1.        , 0.39432267],\n",
       "       [0.39432267, 1.        ]])"
      ]
     },
     "execution_count": 42,
     "metadata": {},
     "output_type": "execute_result"
    }
   ],
   "source": [
    "corr = np.corrcoef( pd.concat( [xindex1, data_dj], axis=1 ).T )\n",
    "corr"
   ]
  },
  {
   "cell_type": "code",
   "execution_count": 44,
   "metadata": {},
   "outputs": [
    {
     "name": "stdout",
     "output_type": "stream",
     "text": [
      "V\n"
     ]
    }
   ],
   "source": [
    "print( data_cv.columns[ np.argmax( pca.components_[0] ) ] )"
   ]
  },
  {
   "cell_type": "code",
   "execution_count": 45,
   "metadata": {},
   "outputs": [],
   "source": [
    "first_comp = pd.DataFrame(pca.transform(X)[:,0])"
   ]
  },
  {
   "cell_type": "code",
   "execution_count": 48,
   "metadata": {},
   "outputs": [
    {
     "name": "stdout",
     "output_type": "stream",
     "text": [
      "Corrcoef 0.91\n"
     ]
    }
   ],
   "source": [
    "coef = np.corrcoef(first_comp.T, data_dj.T)[1,0]\n",
    "print(\"Corrcoef %0.2f\" % coef)"
   ]
  }
 ],
 "metadata": {
  "kernelspec": {
   "display_name": "Python 3",
   "language": "python",
   "name": "python3"
  },
  "language_info": {
   "codemirror_mode": {
    "name": "ipython",
    "version": 3
   },
   "file_extension": ".py",
   "mimetype": "text/x-python",
   "name": "python",
   "nbconvert_exporter": "python",
   "pygments_lexer": "ipython3",
   "version": "3.7.6"
  }
 },
 "nbformat": 4,
 "nbformat_minor": 4
}
