{
 "cells": [
  {
   "cell_type": "code",
   "execution_count": 1,
   "metadata": {},
   "outputs": [],
   "source": [
    "import numpy as np"
   ]
  },
  {
   "cell_type": "code",
   "execution_count": 8,
   "metadata": {},
   "outputs": [],
   "source": [
    "X = np.random.normal(loc=1, scale=10, size=(1000, 50))"
   ]
  },
  {
   "cell_type": "code",
   "execution_count": 9,
   "metadata": {},
   "outputs": [
    {
     "name": "stdout",
     "output_type": "stream",
     "text": [
      "[[ 10.57318974  -7.20131172 -11.36766898 ...   6.98166022  -4.30713427\n",
      "  -21.13523828]\n",
      " [ -7.39706767   1.45132507  -5.6768415  ...  -1.80010401  -5.09045089\n",
      "    4.84502194]\n",
      " [ -3.84693773  -3.39646717  -4.11819584 ...   4.30041127   0.82615656\n",
      "  -12.15424901]\n",
      " ...\n",
      " [ 11.87899116  14.25531589  -1.8209125  ...   2.0597156  -21.48801449\n",
      "   -3.75048004]\n",
      " [ 11.8455227  -14.50905934 -12.75519311 ...  -4.86707798   4.63440439\n",
      "    1.89460842]\n",
      " [ -1.88924639  -3.25890563   1.46528003 ... -19.98366374  21.35504755\n",
      "  -14.12430899]]\n"
     ]
    }
   ],
   "source": [
    "print(X)"
   ]
  },
  {
   "cell_type": "code",
   "execution_count": 10,
   "metadata": {},
   "outputs": [
    {
     "name": "stdout",
     "output_type": "stream",
     "text": [
      "[[ 0.98578107 -0.82709894 -1.38301747 ...  0.63434086 -0.53570624\n",
      "  -2.18907757]\n",
      " [-0.85248118  0.0649668  -0.77660268 ... -0.26621877 -0.6115861\n",
      "   0.38237987]\n",
      " [-0.48932167 -0.43482876 -0.61051334 ...  0.35938192 -0.03844447\n",
      "  -1.300163  ]\n",
      " ...\n",
      " [ 1.11935765  1.38502701 -0.36571474 ...  0.1296012  -2.20001773\n",
      "  -0.46838018]\n",
      " [ 1.115934   -1.58050989 -1.53087209 ... -0.58073336  0.33046041\n",
      "   0.09035574]\n",
      " [-0.2890602  -0.4206465  -0.01553795 ... -2.13092152  1.95018875\n",
      "  -1.49515433]]\n"
     ]
    }
   ],
   "source": [
    "m = np.mean(X, axis=0)\n",
    "std = np.std(X, axis=0)\n",
    "X_norm = ((X - m)  / std)\n",
    "print (X_norm)"
   ]
  },
  {
   "cell_type": "code",
   "execution_count": 11,
   "metadata": {},
   "outputs": [],
   "source": [
    "Z = np.array([[4, 5, 0], \n",
    "             [1, 9, 3],              \n",
    "             [5, 1, 1],\n",
    "             [3, 3, 3], \n",
    "             [9, 9, 9], \n",
    "             [4, 7, 1]])"
   ]
  },
  {
   "cell_type": "code",
   "execution_count": 12,
   "metadata": {},
   "outputs": [
    {
     "name": "stdout",
     "output_type": "stream",
     "text": [
      "[[4 5 0]\n",
      " [1 9 3]\n",
      " [5 1 1]\n",
      " [3 3 3]\n",
      " [9 9 9]\n",
      " [4 7 1]]\n"
     ]
    }
   ],
   "source": [
    "print (Z)"
   ]
  },
  {
   "cell_type": "code",
   "execution_count": 20,
   "metadata": {},
   "outputs": [
    {
     "name": "stdout",
     "output_type": "stream",
     "text": [
      "[ 9 13  7  9 27 12]\n",
      "(array([1, 4, 5]),)\n"
     ]
    }
   ],
   "source": [
    "r = np.sum(Z, axis=1)\n",
    "print(r)\n",
    "print (np.nonzero(r > 10))"
   ]
  },
  {
   "cell_type": "code",
   "execution_count": 21,
   "metadata": {},
   "outputs": [
    {
     "name": "stdout",
     "output_type": "stream",
     "text": [
      "[[1. 0. 0.]\n",
      " [0. 1. 0.]\n",
      " [0. 0. 1.]]\n",
      "[[1. 0. 0.]\n",
      " [0. 1. 0.]\n",
      " [0. 0. 1.]]\n"
     ]
    }
   ],
   "source": [
    "A = np.eye(3)\n",
    "B = np.eye(3)\n",
    "print (A)\n",
    "print (B)"
   ]
  },
  {
   "cell_type": "code",
   "execution_count": 22,
   "metadata": {},
   "outputs": [
    {
     "name": "stdout",
     "output_type": "stream",
     "text": [
      "[[1. 0. 0.]\n",
      " [0. 1. 0.]\n",
      " [0. 0. 1.]\n",
      " [1. 0. 0.]\n",
      " [0. 1. 0.]\n",
      " [0. 0. 1.]]\n"
     ]
    }
   ],
   "source": [
    "AB = np.vstack((A, B))\n",
    "print (AB)"
   ]
  }
 ],
 "metadata": {
  "kernelspec": {
   "display_name": "Python 3",
   "language": "python",
   "name": "python3"
  },
  "language_info": {
   "codemirror_mode": {
    "name": "ipython",
    "version": 3
   },
   "file_extension": ".py",
   "mimetype": "text/x-python",
   "name": "python",
   "nbconvert_exporter": "python",
   "pygments_lexer": "ipython3",
   "version": "3.7.6"
  }
 },
 "nbformat": 4,
 "nbformat_minor": 4
}
