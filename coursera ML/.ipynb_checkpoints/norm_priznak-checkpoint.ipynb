{
 "cells": [
  {
   "cell_type": "code",
   "execution_count": 48,
   "metadata": {},
   "outputs": [],
   "source": [
    "import pandas\n",
    "from sklearn.linear_model import Perceptron\n",
    "from sklearn.preprocessing import StandardScaler\n",
    "from sklearn.metrics import accuracy_score"
   ]
  },
  {
   "cell_type": "code",
   "execution_count": 49,
   "metadata": {},
   "outputs": [],
   "source": [
    "data_train = pandas.read_csv('perceptron-train.csv', header=None)\n",
    "data_test = pandas.read_csv('perceptron-test.csv', header=None)\n",
    "y_train = data_train[0]\n",
    "X_train = data_train.loc[:, 1:]\n",
    "y_test = data_test[0]\n",
    "X_test = data_test.loc[:, 1:]"
   ]
  },
  {
   "cell_type": "code",
   "execution_count": 53,
   "metadata": {},
   "outputs": [
    {
     "name": "stdout",
     "output_type": "stream",
     "text": [
      "accuracy before scaled:  0.655\n"
     ]
    }
   ],
   "source": [
    "clf = Perceptron(random_state=241,max_iter=5, tol=None)\n",
    "clf.fit(X_train, y_train)\n",
    "\n",
    "y_pred = clf.predict(X_test)\n",
    "accuracy_before = accuracy_score(y_test,y_pred )\n",
    "\n",
    "print ('accuracy before scaled: ', accuracy_before)"
   ]
  },
  {
   "cell_type": "code",
   "execution_count": 51,
   "metadata": {},
   "outputs": [],
   "source": [
    "scaler = StandardScaler()\n",
    "X_train_scaled = scaler.fit_transform(X_train)\n",
    "X_test_scaled = scaler.transform(X_test)"
   ]
  },
  {
   "cell_type": "code",
   "execution_count": 54,
   "metadata": {},
   "outputs": [
    {
     "name": "stdout",
     "output_type": "stream",
     "text": [
      "accuracy after scaled:  0.84\n",
      "difference:  0.18499999999999994\n"
     ]
    }
   ],
   "source": [
    "clf_sc = Perceptron(random_state=241,max_iter=5, tol=None )\n",
    "clf_sc.fit(X_train_scaled, y_train)\n",
    "y_pred_tranform = clf_sc.predict(X_test_scaled)\n",
    "accuracy_scaled = accuracy_score(y_test, y_pred_tranform)\n",
    "\n",
    "print ('accuracy after scaled: ', accuracy_scaled)\n",
    "print ('difference: ', accuracy_scaled - accuracy_before)"
   ]
  }
 ],
 "metadata": {
  "kernelspec": {
   "display_name": "Python 3",
   "language": "python",
   "name": "python3"
  },
  "language_info": {
   "codemirror_mode": {
    "name": "ipython",
    "version": 3
   },
   "file_extension": ".py",
   "mimetype": "text/x-python",
   "name": "python",
   "nbconvert_exporter": "python",
   "pygments_lexer": "ipython3",
   "version": "3.7.6"
  }
 },
 "nbformat": 4,
 "nbformat_minor": 4
}
