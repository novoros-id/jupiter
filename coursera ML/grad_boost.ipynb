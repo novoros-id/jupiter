{
 "cells": [
  {
   "cell_type": "code",
   "execution_count": 15,
   "metadata": {
    "code_folding": [
     0
    ]
   },
   "outputs": [],
   "source": [
    "# определения\n",
    "\n",
    "import pandas as pd\n",
    "import numpy as np\n",
    "import seaborn as sns\n",
    "import re\n",
    "import pickle\n",
    "import pymorphy2\n",
    "import matplotlib.pyplot as plt\n",
    "\n",
    "from sklearn.model_selection import train_test_split\n",
    "from sklearn.tree import DecisionTreeClassifier\n",
    "from sklearn.ensemble import RandomForestRegressor\n",
    "from sklearn.metrics import accuracy_score, classification_report, f1_score\n",
    "from sklearn.feature_extraction.text import CountVectorizer\n",
    "from sklearn.ensemble import RandomForestClassifier\n",
    "from sklearn.model_selection import GridSearchCV\n",
    "from sklearn.model_selection import train_test_split\n",
    "from sklearn.metrics import roc_auc_score,classification_report,confusion_matrix,roc_curve,auc,precision_recall_curve,precision_score,recall_score,f1_score,accuracy_score\n",
    "from sklearn.model_selection import KFold\n",
    "from sklearn.model_selection import cross_val_score\n",
    "from sklearn.ensemble import GradientBoostingClassifier\n",
    "from sklearn.metrics import log_loss\n",
    "\n",
    "\n",
    "morph = pymorphy2.MorphAnalyzer()\n",
    "vectorizer = CountVectorizer()\n",
    "plt.style.use('dark_background')\n",
    "# Options for pandas\n",
    "pd.set_option('display.float_format', lambda x: '%.3f' % x)\n",
    "pd.options.display.max_columns = 50\n",
    "pd.options.display.min_rows = 30"
   ]
  },
  {
   "cell_type": "code",
   "execution_count": 18,
   "metadata": {
    "code_folding": [
     0
    ]
   },
   "outputs": [],
   "source": [
    "# здесь \"на память\" описываю операторы в одну - две строчки \n",
    "\n",
    "# PANDAS\n",
    "# data.iloc[[0,3,100]] - показать строки по индексу 0,3,100\n",
    "# data[data.Survived == 0 ] - отбор по значению\n",
    "# data[data.Survived == 0 ][['Sex','Age']] - отбор  и показать только выбранные колонки\n",
    "# data['new_col'] = data['Survived'] - в новую колонку добавить значение старой колонки\n",
    "# data.rename(columns = {'new_col':'del_col'}) - переименовать колонку\n",
    "# data = data.drop(['new_col'],axis = 'columns') - удалить колонку\n",
    "# del data[\"column\"] - еще один способ удалить колонку\n",
    "# print(data.groupby(['Sex','Survived'])['PassengerId'].count()) - сгруппировать \n",
    "# по колонкам 'Sex','Survived' и подсчету по колонке PassengerId\n",
    "# data.isna().sum() - показать сколько пустых значений в каждой колонке\n",
    "# data.Survived.value_counts() - показать сколько уникальных значений в колонке  Survived\n",
    "# data.Survived.max() - показать максимальное значение в колонке  Survived\n",
    "# data.Survived.nlagerset(3) - показать 3 максимальных  значения в колонке  Survived\n",
    "# data.Survived.idxmax() - показать индекс максимальноого значения в колонке  Survived\n",
    "# data.loc[23] - показать строку 23\n",
    "# data = data.dropna() - удалить все строки с пропусками\n",
    "# data.Sex.replace('male', 0, inplace=True) - заменить значения в колонке Sex: mail - 0\n",
    "# test_out = pd.DataFrame({'PassengerId': test_df.index,'Survived': preds})\n",
    "# создать новый dataframe для выгрузки на кагл\n",
    "# data = pd.read_excel(\"resolution_100.xlsx\") - прочитать файл excel\n",
    "# data.describe() - получаем описание фрэйма, макс, мин, количество и прочее  \n",
    "# data.fillna(method='ffill', inplace=True) - заполнить все пустые предыдущими значениями\n",
    "# data = pandas.get_dummies(data,columns=['columns']) - раскрытие строк через доп. столбцы\n",
    "# data = pd.concat([data_train,data_test]) - объединение таблиц\n",
    "# data = data.assign(type_age=\"\") - добавить колонку\n",
    "# data.loc[1,\"type_age\"] = \"a\" - записать значение в колонку по строке\n",
    "# def valuation_formula(x, y): # заполнение ячеек через lambda\n",
    "#   return x * y * 0.5\n",
    "# data['price'] = data.apply(lambda row: valuation_formula(row['x'], row['y']), axis=1)\n",
    "# pandas.pivot_table - сводная таблица\n",
    "# for idx,row in anime[:2].iterrows(): - обход элементов dataframe\n",
    "#    print(idx, row)\n",
    "# data['price'] = data['price'].apply(функция) - применение функции к столбцу\n",
    "# data.map({'cat': 'kitten', 'dog': 'puppy'}) - замена значений по словарю\n",
    "\n",
    "\n",
    "\n",
    "# SEABORN\n",
    "# sns.heatmap(data.corr()) - вывести график корреляций по всем колонкам\n",
    "\n",
    "# SKLEARN\n",
    "# X_train, X_test, y_train, y_test = train_test_split(X, y, test_size=0.2,random_state=42) \n",
    "# разбить данные на тренировочную и тестовую выборку\n",
    "# 20 процентов на тестовую , случайность выборки зафиксирована\n",
    "# accuracy_score(y_test,y_pred) - коэффециент проверки на проверочной выборке\n",
    "# vectorizer.get_feature_names() - посмотреть словарь векторов текста\n",
    "# чтобы получить сгенерированный словарь, из приведенной структуры CountVectorizer, \n",
    "# стоит отметить что порядок совпадает с матрице\n",
    "# text_vector_array = text_vector.toarray() - покаазть матрицу\n",
    "\n",
    "\n",
    "# PICKLE\n",
    "# model = pickle.load(open(\"filename\", 'rb')) - загрузка модели из файла\n",
    "# pickle.dump(model, open(\"filename\", 'wb')) - сохрванение модели в файл\n",
    "\n",
    "# "
   ]
  },
  {
   "cell_type": "code",
   "execution_count": null,
   "metadata": {
    "code_folding": [
     0
    ]
   },
   "outputs": [],
   "source": [
    "# из примера титаник сайта кагл DecisionTreeClassifier\n",
    "# dt = DecisionTreeClassifier(random_state=1)\n",
    "# dt.fit(X_train, y_train)\n",
    "# preds = dt.predict(X_test)\n",
    "# acc = accuracy_score(y_true=y_test, y_pred=preds)\n",
    "# f1 = f1_score(y_true=y_test, y_pred=preds)\n",
    "# print(classification_report(y_true=y_test, y_pred=preds))"
   ]
  },
  {
   "cell_type": "code",
   "execution_count": null,
   "metadata": {
    "code_folding": [
     0
    ]
   },
   "outputs": [],
   "source": [
    "# предсказание простое RandomForestClassifier\n",
    "# clf = RandomForestClassifier(random_state=241)\n",
    "# clf.fit(X, Y)\n",
    "## расчет веса показателей\n",
    "# importances = clf.feature_importances_\n",
    "# print(importances)"
   ]
  },
  {
   "cell_type": "code",
   "execution_count": null,
   "metadata": {
    "code_folding": [
     0
    ]
   },
   "outputs": [],
   "source": [
    "# использование GridSearchCV на примере RandomForestClassifier\n",
    "\n",
    "# clf = RandomForestClassifier()\n",
    "\n",
    "# здесь пишем какие параметры будет перебирать\n",
    "\n",
    "# param_greed = {\n",
    "#    \"max_depth\" : [2,5,10],\n",
    "#    \"criterion\" : ['gini', 'entropy'],\n",
    "#    \"min_samples_split\" : [2,5,10],\n",
    "#    \"min_samples_leaf\" : [1,5,10],\n",
    "#}\n",
    "\n",
    "# пишем каие параметры перебираем scoring = как оцениваем  ,\n",
    "# cv = сколько тестовых выборок, n_jobs = -1 используем все процссоры\n",
    "#GS = GridSearchCV(clf,param_greed,scoring = 'roc_auc',cv = 6,n_jobs = -1)\n",
    "#GS.fit(X,Y)\n",
    "\n",
    "# лучший показатель\n",
    "#GS.best_score_\n",
    "\n",
    "# лучшие параметры\n",
    "# GS.best_params_\n",
    "\n",
    "# обращаемся\n",
    "# GS.best_estimator_.feature_importances_\n",
    "\n",
    "# предсказываем\n",
    "# GS.best_estimator_.predict(may_sample_dataframe)"
   ]
  },
  {
   "cell_type": "code",
   "execution_count": 2,
   "metadata": {
    "code_folding": [
     0,
     3,
     4,
     10,
     15,
     20,
     25,
     36,
     40
    ]
   },
   "outputs": [],
   "source": [
    "# универсальные функции\n",
    "\n",
    "# загрузать файл из csv\n",
    "def read_csv(path,index_c = \"\"):\n",
    "    if index_c == \"\":\n",
    "        return pd.read_csv(path)\n",
    "    else:\n",
    "        return pd.read_csv(path,index_col=index_c)\n",
    "    \n",
    "# показать все уникальные значения во всех колонках\n",
    "def columns_unique(data):\n",
    "    for col in data.columns:\n",
    "        print(col, data[col].unique())\n",
    "\n",
    "# заполнить пустые значения средним значением\n",
    "def null_to_mean(data,column):\n",
    "    num_mean = data[column].mean()\n",
    "    data[column].fillna(num_mean, inplace=True)\n",
    "\n",
    "# заполнить пустые значения модой\n",
    "def null_to_mode(data,column):\n",
    "    num_mode  = data[column].mode().values[0]\n",
    "    data[column].fillna(num_mode, inplace=True)\n",
    "\n",
    "# функция для лемматизации\n",
    "def lemmatize(text):\n",
    "    text_str = str(text)\n",
    "    text_str = re.sub(r'[^\\w\\s]+|[\\d]+', r'',text_str).strip()\n",
    "    words = text_str.split() # разбиваем текст на слова\n",
    "    res = \"\"\n",
    "    for word in words:\n",
    "        p = morph.parse(word)[0]\n",
    "        res = res + \" \" + p.normal_form\n",
    "    return res\n",
    "\n",
    "# провести лемматизацию датафрэйм\n",
    "def lemma_dataframe(data,column):\n",
    "    data[column] = data.apply(lambda row: lemmatize(row[column]), axis=1)\n",
    "    \n",
    "# векторизация, создание векторов\n",
    "def vector_text(data,column):\n",
    "    text = data[column]\n",
    "    # создаем векторы\n",
    "    return vectorizer.fit_transform(text)  "
   ]
  },
  {
   "cell_type": "code",
   "execution_count": 3,
   "metadata": {},
   "outputs": [],
   "source": [
    "data = read_csv(\"gbm-data.csv\")"
   ]
  },
  {
   "cell_type": "code",
   "execution_count": 5,
   "metadata": {},
   "outputs": [],
   "source": [
    "y = data.Activity"
   ]
  },
  {
   "cell_type": "code",
   "execution_count": 7,
   "metadata": {},
   "outputs": [],
   "source": [
    "X = data.iloc[:,1:]"
   ]
  },
  {
   "cell_type": "code",
   "execution_count": 9,
   "metadata": {},
   "outputs": [],
   "source": [
    "# Разбиение на трэйн/тест\n",
    "X_train, X_test, y_train, y_test = train_test_split(X, y, \n",
    "                                                    test_size=0.8, \n",
    "                                                    random_state=241)"
   ]
  },
  {
   "cell_type": "code",
   "execution_count": 12,
   "metadata": {},
   "outputs": [],
   "source": [
    "# Создание и обучение модели\n",
    "gb = GradientBoostingClassifier(n_estimators=250,\n",
    "                                learning_rate=0.2,\n",
    "                                verbose=True,\n",
    "                                random_state=241)"
   ]
  },
  {
   "cell_type": "code",
   "execution_count": 13,
   "metadata": {},
   "outputs": [
    {
     "name": "stdout",
     "output_type": "stream",
     "text": [
      "      Iter       Train Loss   Remaining Time \n",
      "         1           1.2613           11.46s\n",
      "         2           1.1715           10.19s\n",
      "         3           1.1009            9.75s\n",
      "         4           1.0529            9.47s\n",
      "         5           1.0130            9.29s\n",
      "         6           0.9740            9.28s\n",
      "         7           0.9475            9.11s\n",
      "         8           0.9197            9.01s\n",
      "         9           0.8979            8.89s\n",
      "        10           0.8730            8.80s\n",
      "        20           0.7207            8.22s\n",
      "        30           0.6055            7.75s\n",
      "        40           0.5244            7.58s\n",
      "        50           0.4501            7.29s\n",
      "        60           0.3908            6.86s\n",
      "        70           0.3372            6.45s\n",
      "        80           0.3009            6.06s\n",
      "        90           0.2603            5.68s\n",
      "       100           0.2327            5.31s\n",
      "       200           0.0835            1.73s\n"
     ]
    },
    {
     "data": {
      "text/plain": [
       "GradientBoostingClassifier(ccp_alpha=0.0, criterion='friedman_mse', init=None,\n",
       "                           learning_rate=0.2, loss='deviance', max_depth=3,\n",
       "                           max_features=None, max_leaf_nodes=None,\n",
       "                           min_impurity_decrease=0.0, min_impurity_split=None,\n",
       "                           min_samples_leaf=1, min_samples_split=2,\n",
       "                           min_weight_fraction_leaf=0.0, n_estimators=250,\n",
       "                           n_iter_no_change=None, presort='deprecated',\n",
       "                           random_state=241, subsample=1.0, tol=0.0001,\n",
       "                           validation_fraction=0.1, verbose=True,\n",
       "                           warm_start=False)"
      ]
     },
     "execution_count": 13,
     "metadata": {},
     "output_type": "execute_result"
    }
   ],
   "source": [
    "gb.fit(X_train, y_train)"
   ]
  },
  {
   "cell_type": "code",
   "execution_count": 17,
   "metadata": {},
   "outputs": [
    {
     "data": {
      "text/html": [
       "<div>\n",
       "<style scoped>\n",
       "    .dataframe tbody tr th:only-of-type {\n",
       "        vertical-align: middle;\n",
       "    }\n",
       "\n",
       "    .dataframe tbody tr th {\n",
       "        vertical-align: top;\n",
       "    }\n",
       "\n",
       "    .dataframe thead th {\n",
       "        text-align: right;\n",
       "    }\n",
       "</style>\n",
       "<table border=\"1\" class=\"dataframe\">\n",
       "  <thead>\n",
       "    <tr style=\"text-align: right;\">\n",
       "      <th></th>\n",
       "      <th>iter</th>\n",
       "      <th>loss</th>\n",
       "    </tr>\n",
       "  </thead>\n",
       "  <tbody>\n",
       "    <tr>\n",
       "      <th>36</th>\n",
       "      <td>37</td>\n",
       "      <td>0.530</td>\n",
       "    </tr>\n",
       "  </tbody>\n",
       "</table>\n",
       "</div>"
      ],
      "text/plain": [
       "    iter  loss\n",
       "36    37 0.530"
      ]
     },
     "execution_count": 17,
     "metadata": {},
     "output_type": "execute_result"
    }
   ],
   "source": [
    "# Получение значений лосса по итерациям\n",
    "test_loss = list()\n",
    "for i, y_pred in enumerate(gb.staged_decision_function(X_test)):\n",
    "    y_pred = 1.0 / (1.0 + np.exp(- y_pred))\n",
    "    test_loss.append([i + 1, log_loss(y_test, y_pred)])\n",
    "test_loss = pd.DataFrame(test_loss, columns=['iter','loss'])\n",
    "\n",
    "# Извлечение значения минимального лосса\n",
    "test_loss[test_loss.loss==test_loss.loss.min()]"
   ]
  },
  {
   "cell_type": "code",
   "execution_count": 18,
   "metadata": {},
   "outputs": [
    {
     "name": "stdout",
     "output_type": "stream",
     "text": [
      "      Iter       Train Loss   Remaining Time \n",
      "         1           1.0190           13.62s\n",
      "         2           0.9192           11.12s\n",
      "         3           0.8272           10.29s\n",
      "         4           0.7834            9.81s\n",
      "         5           0.7109            9.52s\n",
      "         6           0.6368            9.43s\n",
      "         7           0.5797            9.28s\n",
      "         8           0.5610            9.11s\n",
      "         9           0.5185            9.02s\n",
      "        10           0.4984            8.89s\n",
      "        20           0.1999            8.24s\n",
      "        30           0.1313            7.73s\n",
      "        40           0.0790            7.33s\n",
      "        50           0.0511            7.10s\n",
      "        60           0.0352            6.82s\n",
      "        70           0.0245            6.41s\n",
      "        80           0.0162            6.04s\n",
      "        90           0.0114            5.66s\n",
      "       100           0.0077            5.29s\n",
      "       200           0.0004            1.64s\n",
      "1.3606979892833755\n",
      "0.5822942594278475\n"
     ]
    },
    {
     "data": {
      "image/png": "[encoded data removed]",
      "text/plain": [
       "<Figure size 432x288 with 1 Axes>"
      ]
     },
     "metadata": {},
     "output_type": "display_data"
    },
    {
     "name": "stdout",
     "output_type": "stream",
     "text": [
      "      Iter       Train Loss   Remaining Time \n",
      "         1           1.1255           11.13s\n",
      "         2           1.0035           10.91s\n",
      "         3           0.9386           10.83s\n",
      "         4           0.8844           10.59s\n",
      "         5           0.8381           10.51s\n",
      "         6           0.7995           10.41s\n",
      "         7           0.7559           10.39s\n",
      "         8           0.7205           10.31s\n",
      "         9           0.6958           10.13s\n",
      "        10           0.6725            9.91s\n",
      "        20           0.4672            8.77s\n",
      "        30           0.3179            8.15s\n",
      "        40           0.2274            7.86s\n",
      "        50           0.1774            7.36s\n",
      "        60           0.1394            6.91s\n",
      "        70           0.1050            6.50s\n",
      "        80           0.0805            6.09s\n",
      "        90           0.0650            5.70s\n",
      "       100           0.0511            5.33s\n",
      "       200           0.0058            1.77s\n",
      "1.0096535791235197\n",
      "0.5584259973942154\n"
     ]
    },
    {
     "data": {
      "image/png": "[encoded data removed]",
      "text/plain": [
       "<Figure size 432x288 with 1 Axes>"
      ]
     },
     "metadata": {},
     "output_type": "display_data"
    },
    {
     "name": "stdout",
     "output_type": "stream",
     "text": [
      "      Iter       Train Loss   Remaining Time \n",
      "         1           1.2095            9.41s\n",
      "         2           1.1006            9.21s\n",
      "         3           1.0240            9.12s\n",
      "         4           0.9729            9.09s\n",
      "         5           0.9387            8.99s\n",
      "         6           0.8948            8.95s\n",
      "         7           0.8621            8.85s\n",
      "         8           0.8360            8.75s\n",
      "         9           0.8171            8.69s\n",
      "        10           0.7883            8.64s\n",
      "        20           0.6029            8.08s\n",
      "        30           0.4760            7.70s\n",
      "        40           0.3879            7.31s\n",
      "        50           0.3325            6.94s\n",
      "        60           0.2759            6.58s\n",
      "        70           0.2304            6.25s\n",
      "        80           0.1969            5.92s\n",
      "        90           0.1718            5.57s\n",
      "       100           0.1404            5.21s\n",
      "       200           0.0358            1.72s\n",
      "0.7635630391348508\n",
      "0.5432835808866866\n"
     ]
    },
    {
     "data": {
      "image/png": "[encoded data removed]",
      "text/plain": [
       "<Figure size 432x288 with 1 Axes>"
      ]
     },
     "metadata": {},
     "output_type": "display_data"
    },
    {
     "name": "stdout",
     "output_type": "stream",
     "text": [
      "      Iter       Train Loss   Remaining Time \n",
      "         1           1.2613            9.13s\n",
      "         2           1.1715            9.02s\n",
      "         3           1.1009            8.93s\n",
      "         4           1.0529            8.97s\n",
      "         5           1.0130            8.89s\n",
      "         6           0.9740            8.86s\n",
      "         7           0.9475            8.75s\n",
      "         8           0.9197            8.70s\n",
      "         9           0.8979            8.63s\n",
      "        10           0.8730            8.59s\n",
      "        20           0.7207            8.05s\n",
      "        30           0.6055            7.64s\n",
      "        40           0.5244            7.26s\n",
      "        50           0.4501            6.90s\n",
      "        60           0.3908            6.55s\n",
      "        70           0.3372            6.20s\n",
      "        80           0.3009            5.85s\n",
      "        90           0.2603            5.51s\n",
      "       100           0.2327            5.16s\n",
      "       200           0.0835            1.71s\n",
      "0.6571164721284402\n",
      "36\n",
      "0.5301645204906471\n"
     ]
    },
    {
     "data": {
      "image/png": "[encoded data removed]",
      "text/plain": [
       "<Figure size 432x288 with 1 Axes>"
      ]
     },
     "metadata": {},
     "output_type": "display_data"
    },
    {
     "name": "stdout",
     "output_type": "stream",
     "text": [
      "      Iter       Train Loss   Remaining Time \n",
      "         1           1.3199            9.35s\n",
      "         2           1.2645            9.12s\n",
      "         3           1.2170            9.07s\n",
      "         4           1.1775            8.96s\n",
      "         5           1.1404            8.89s\n",
      "         6           1.1106            8.84s\n",
      "         7           1.0844            8.78s\n",
      "         8           1.0617            8.74s\n",
      "         9           1.0411            8.71s\n",
      "        10           1.0223            8.65s\n",
      "        20           0.8864            8.14s\n",
      "        30           0.7844            7.76s\n",
      "        40           0.7176            7.36s\n",
      "        50           0.6590            6.98s\n",
      "        60           0.6120            6.61s\n",
      "        70           0.5599            6.26s\n",
      "        80           0.5242            5.90s\n",
      "        90           0.4829            5.55s\n",
      "       100           0.4473            5.20s\n",
      "       200           0.2379            1.72s\n",
      "0.6656662128911628\n",
      "0.5259049090698129\n"
     ]
    },
    {
     "data": {
      "image/png": "[encoded data removed]",
      "text/plain": [
       "<Figure size 432x288 with 1 Axes>"
      ]
     },
     "metadata": {},
     "output_type": "display_data"
    },
    {
     "name": "stdout",
     "output_type": "stream",
     "text": [
      "CPU times: user 43.1 s, sys: 388 ms, total: 43.5 s\n",
      "Wall time: 43.8 s\n"
     ]
    }
   ],
   "source": [
    "%%time\n",
    "from sklearn.metrics import log_loss\n",
    "learning_rate=[1, 0.5, 0.3, 0.2, 0.1]\n",
    "for i in range(5):\n",
    "    cf=GradientBoostingClassifier( n_estimators=250, verbose=True, random_state=241,learning_rate=learning_rate[i])\n",
    "    cf.fit(X_train,y_train)\n",
    "    test_loss = np.empty(250)\n",
    "    for m, y_decision in enumerate(cf.staged_decision_function(X_test)):\n",
    "        y_pred_test = 1.0/(1.0 + np.exp(-y_decision))\n",
    "        test_loss[m] = log_loss(y_test, y_pred_test)\n",
    "    print(test_loss.max())\n",
    "    if learning_rate[i]==0.2:\n",
    "        print(min(range(len(test_loss)), key=test_loss.__getitem__))\n",
    "    print(test_loss.min())\n",
    "\n",
    "    plt.figure()\n",
    "    plt.plot(test_loss, 'r', linewidth=2)\n",
    "    plt.show()"
   ]
  }
 ],
 "metadata": {
  "kernelspec": {
   "display_name": "Python 3",
   "language": "python",
   "name": "python3"
  },
  "language_info": {
   "codemirror_mode": {
    "name": "ipython",
    "version": 3
   },
   "file_extension": ".py",
   "mimetype": "text/x-python",
   "name": "python",
   "nbconvert_exporter": "python",
   "pygments_lexer": "ipython3",
   "version": "3.7.6"
  }
 },
 "nbformat": 4,
 "nbformat_minor": 4
}
