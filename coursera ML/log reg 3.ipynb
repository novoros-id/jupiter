{
 "cells": [
  {
   "cell_type": "code",
   "execution_count": 4,
   "metadata": {},
   "outputs": [
    {
     "name": "stdout",
     "output_type": "stream",
     "text": [
      "w1=0.27874229, w2=0.10040298\n",
      "0.9281904761904761\n",
      "w1=0.02856197, w2=0.02478366\n",
      "0.9362857142857142\n"
     ]
    }
   ],
   "source": [
    "import pandas as pd\n",
    "import numpy as np\n",
    "from sklearn.metrics import roc_auc_score\n",
    "\n",
    "data = pd.read_csv('data-logistic.csv', header=None)\n",
    "X = data.iloc[:,1:]\n",
    "y = data.iloc[:,0]\n",
    "\n",
    "w1 = 0   # вес 1\n",
    "w2 = 0   # вес 2\n",
    "k  = 0.1 # шаг\n",
    "max_iter = 10000   # максимальное кол-во итераций\n",
    "evk_min  = 0.00001 # минимальное евклидовое расcтояние\n",
    "\n",
    "\n",
    "def logistic_reqression(X, y, w1=0, w2=0, c=0, k=0.1, max_iter=100, evk_min=0.00001):\n",
    "    l = len(y)\n",
    "    for j in range(max_iter):\n",
    "        summa1 = 0\n",
    "        summa2 = 0\n",
    "        for i in range(l):\n",
    "            s = 1 - 1 / (1 + np.exp( -y[i] * (w1 * X[1][i] + w2 * X[2][i]) ))\n",
    "            summa1 = summa1 + y[i] * X[1][i] * s\n",
    "            summa2 = summa2 + y[i] * X[2][i] * s\n",
    "        w1new = w1 + k / l * summa1 - k * c * w1\n",
    "        w2new = w2 + k / l * summa2 - k * c * w2\n",
    "        evk = np.sqrt( (w1new - w1)**2 + (w2new - w2)**2 )\n",
    "#        print('Шаг', j, 'евклид. расстояние: %0.6f' %evk)\n",
    "#        print('w1=%.8f, w2=%.8f' %(w1, w2))\n",
    "        if ( evk < evk_min ): break\n",
    "        w1, w2 = w1new, w2new\n",
    "    return w1, w2\n",
    "\n",
    "def auc_roc(X, y, w1=0, w2=0):\n",
    "    l = len(y)\n",
    "    a = []\n",
    "    for i in range(l):\n",
    "        a.append( 1 / (1 + np.exp( - w1*X[1][i] - w2*X[2][i])) )\n",
    "    return roc_auc_score(y, a)\n",
    "\n",
    "ww1, ww2 = logistic_reqression(X, y, c=0)\n",
    "print('w1=%.8f, w2=%.8f' %(ww1, ww2))\n",
    "#print ('C=0:', auc_roc(X, y, ww1, ww2))\n",
    "print(roc_auc_score(y, [1/(1 + np.exp(-ww1*X[1][i] - ww2*X[2][i])) for i in range(len(y))]))\n",
    "\n",
    "ww1, ww2 = logistic_reqression(X, y, c=10)\n",
    "print('w1=%.8f, w2=%.8f' %(ww1, ww2))\n",
    "#print ('C=10:', auc_roc(X, y, ww1, ww2))\n",
    "print(roc_auc_score(y, [1/(1 + np.exp(-ww1*X[1][i] - ww2*X[2][i])) for i in range(len(y))]))"
   ]
  }
 ],
 "metadata": {
  "kernelspec": {
   "display_name": "Python 3",
   "language": "python",
   "name": "python3"
  },
  "language_info": {
   "codemirror_mode": {
    "name": "ipython",
    "version": 3
   },
   "file_extension": ".py",
   "mimetype": "text/x-python",
   "name": "python",
   "nbconvert_exporter": "python",
   "pygments_lexer": "ipython3",
   "version": "3.7.6"
  }
 },
 "nbformat": 4,
 "nbformat_minor": 4
}
