{
 "cells": [
  {
   "cell_type": "code",
   "execution_count": 5,
   "id": "0ff1832e",
   "metadata": {},
   "outputs": [],
   "source": [
    "#https://www.geeksforgeeks.org/converting-image-ascii-image-python/\n",
    "\n",
    "import sys, random, argparse\n",
    "import numpy as np\n",
    "import math\n",
    " \n",
    "from PIL import Image"
   ]
  },
  {
   "cell_type": "code",
   "execution_count": 31,
   "id": "af27b17f",
   "metadata": {},
   "outputs": [],
   "source": [
    "# 70 levels of gray\n",
    "gscale1 = \"$@B%8&WM#*oahkbdpqw!@#^&*()&*___iiiiiiiiiiii_++),.,.,.,,.,.,.,.,.,.,.,.,.,.,. \"\n",
    " "
   ]
  },
  {
   "cell_type": "code",
   "execution_count": 7,
   "id": "125aa938",
   "metadata": {},
   "outputs": [],
   "source": [
    "gscale2 = '@%#*+=-:. '"
   ]
  },
  {
   "cell_type": "code",
   "execution_count": 8,
   "id": "0dd61621",
   "metadata": {},
   "outputs": [],
   "source": [
    "def getAverageL(image):\n",
    " \n",
    "    \"\"\"\n",
    "    Given PIL Image, return average value of grayscale value\n",
    "    \"\"\"\n",
    "    # get image as numpy array\n",
    "    im = np.array(image)\n",
    " \n",
    "    # get shape\n",
    "    w,h = im.shape\n",
    " \n",
    "    # get average\n",
    "    return np.average(im.reshape(w*h))"
   ]
  },
  {
   "cell_type": "code",
   "execution_count": 9,
   "id": "3ed1fbdd",
   "metadata": {},
   "outputs": [],
   "source": [
    "def covertImageToAscii(fileName, cols, scale, moreLevels):\n",
    "    \"\"\"\n",
    "    Given Image and dims (rows, cols) returns an m*n list of Images\n",
    "    \"\"\"\n",
    "    # declare globals\n",
    "    global gscale1, gscale2\n",
    " \n",
    "    # open image and convert to grayscale\n",
    "    image = Image.open(fileName).convert('L')\n",
    " \n",
    "    # store dimensions\n",
    "    W, H = image.size[0], image.size[1]\n",
    "    print(\"input image dims: %d x %d\" % (W, H))\n",
    " \n",
    "    # compute width of tile\n",
    "    w = W/cols\n",
    " \n",
    "    # compute tile height based on aspect ratio and scale\n",
    "    h = w/scale\n",
    " \n",
    "    # compute number of rows\n",
    "    rows = int(H/h)\n",
    "     \n",
    "    print(\"cols: %d, rows: %d\" % (cols, rows))\n",
    "    print(\"tile dims: %d x %d\" % (w, h))\n",
    "    # check if image size is too small\n",
    "    if cols > W or rows > H:\n",
    "        print(\"Image too small for specified cols!\")\n",
    "        exit(0)\n",
    " \n",
    "    # ascii image is a list of character strings\n",
    "    aimg = []\n",
    "    # generate list of dimensions\n",
    "    for j in range(rows):\n",
    "        y1 = int(j*h)\n",
    "        y2 = int((j+1)*h)\n",
    " \n",
    "        # correct last tile\n",
    "        if j == rows-1:\n",
    "            y2 = H\n",
    " \n",
    "        # append an empty string\n",
    "        aimg.append(\"\")\n",
    " \n",
    "        for i in range(cols):\n",
    " \n",
    "            # crop image to tile\n",
    "            x1 = int(i*w)\n",
    "            x2 = int((i+1)*w)\n",
    " \n",
    "            # correct last tile\n",
    "            if i == cols-1:\n",
    "                x2 = W\n",
    " \n",
    "            # crop image to extract tile\n",
    "            img = image.crop((x1, y1, x2, y2))\n",
    " \n",
    "            # get average luminance\n",
    "            avg = int(getAverageL(img))\n",
    " \n",
    "            # look up ascii char\n",
    "            if moreLevels:\n",
    "                gsval = gscale1[int((avg*69)/255)]\n",
    "            else:\n",
    "                gsval = gscale2[int((avg*9)/255)]\n",
    " \n",
    "            # append ascii char to string\n",
    "            aimg[j] += gsval\n",
    "     \n",
    "    # return txt image\n",
    "    return aimg"
   ]
  },
  {
   "cell_type": "code",
   "execution_count": 33,
   "id": "a353ba60",
   "metadata": {},
   "outputs": [
    {
     "name": "stdout",
     "output_type": "stream",
     "text": [
      "input image dims: 4032 x 3024\n",
      "cols: 150, rows: 90\n",
      "tile dims: 26 x 33\n",
      "ASCII art written to /Users/alexeyvaganov/doc/files/ascii/IMG_4974_.txt\n"
     ]
    }
   ],
   "source": [
    "cols = 150\n",
    "scale = 0.8\n",
    "imgFile = \"/Users/alexeyvaganov/doc/files/ascii/IMG_4974.jpeg\"\n",
    "outFile = \"/Users/alexeyvaganov/doc/files/ascii/IMG_4974_.txt\"\n",
    "\n",
    "aimg = covertImageToAscii(imgFile, cols, scale, 'store_true')\n",
    " \n",
    "# open file\n",
    "f = open(outFile, 'w')\n",
    " \n",
    "    # write to file\n",
    "for row in aimg:\n",
    "    #print(row)\n",
    "    f.write(row + '\\n')\n",
    " \n",
    "# cleanup\n",
    "\n",
    "f.close()\n",
    "print(\"ASCII art written to %s\" % outFile)"
   ]
  },
  {
   "cell_type": "code",
   "execution_count": null,
   "id": "bba069b5",
   "metadata": {},
   "outputs": [],
   "source": []
  }
 ],
 "metadata": {
  "kernelspec": {
   "display_name": "Python 3 (ipykernel)",
   "language": "python",
   "name": "python3"
  },
  "language_info": {
   "codemirror_mode": {
    "name": "ipython",
    "version": 3
   },
   "file_extension": ".py",
   "mimetype": "text/x-python",
   "name": "python",
   "nbconvert_exporter": "python",
   "pygments_lexer": "ipython3",
   "version": "3.9.12"
  }
 },
 "nbformat": 4,
 "nbformat_minor": 5
}
