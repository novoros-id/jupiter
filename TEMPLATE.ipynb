{
 "cells": [
  {
   "cell_type": "code",
   "execution_count": 7,
   "metadata": {},
   "outputs": [],
   "source": [
    "import pandas as pd\n",
    "import numpy as np"
   ]
  },
  {
   "cell_type": "code",
   "execution_count": 18,
   "metadata": {},
   "outputs": [],
   "source": [
    "# здесь \"на память\" описываю операторы в одну - две строчку \n",
    "# на которые писать функции нецелесообразно\n",
    "\n",
    "# data.iloc[[0,3,100]] - показать строки по интексу 0,3,100\n",
    "# data[data.Survived == 0 ] - отбор по значению\n",
    "# data[data.Survived == 0 ][['Sex','Age']] - отбор  и показть только выбранные колонки\n",
    "# data['new_col'] = data['Survived'] в новую колонку добавить значение старой колонки"
   ]
  },
  {
   "cell_type": "code",
   "execution_count": 16,
   "metadata": {},
   "outputs": [],
   "source": [
    "# загрузать файл из csv\n",
    "\n",
    "def read_csv(path,index_c = \"\"):\n",
    "    if index_c == \"\":\n",
    "        data = pd.read_csv(path)\n",
    "    else:\n",
    "        data = pd.read_csv(path,index_col=index_c)"
   ]
  },
  {
   "cell_type": "code",
   "execution_count": 17,
   "metadata": {},
   "outputs": [],
   "source": [
    "data = read_csv(\"/Users/alexeyvaganov/doc/files/titanic/train.csv\")"
   ]
  }
 ],
 "metadata": {
  "kernelspec": {
   "display_name": "Python 3",
   "language": "python",
   "name": "python3"
  },
  "language_info": {
   "codemirror_mode": {
    "name": "ipython",
    "version": 3
   },
   "file_extension": ".py",
   "mimetype": "text/x-python",
   "name": "python",
   "nbconvert_exporter": "python",
   "pygments_lexer": "ipython3",
   "version": "3.7.6"
  }
 },
 "nbformat": 4,
 "nbformat_minor": 4
}
