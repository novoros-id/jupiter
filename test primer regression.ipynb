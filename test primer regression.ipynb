{
 "cells": [
  {
   "cell_type": "code",
   "execution_count": 1,
   "id": "5fcb2c08",
   "metadata": {},
   "outputs": [],
   "source": [
    "from sklearn.ensemble import RandomForestRegressor\n",
    "from sklearn.datasets import load_boston\n",
    "from sklearn.datasets import make_regression\n",
    "from sklearn.metrics import mean_squared_error\n",
    "from sklearn.model_selection import train_test_split\n",
    "from sklearn.preprocessing import scale\n",
    "import matplotlib.pyplot as plt\n",
    "from sklearn import set_config "
   ]
  },
  {
   "cell_type": "code",
   "execution_count": 6,
   "id": "41eb2229",
   "metadata": {},
   "outputs": [
    {
     "name": "stdout",
     "output_type": "stream",
     "text": [
      "[[ 0.83864158  0.71293261  0.98770524  1.52300689  0.71698078  0.07166759\n",
      "  -1.29731554 -0.73769256  0.34590846 -1.27583715]]\n",
      "[105.94701103]\n"
     ]
    }
   ],
   "source": [
    "x, y = make_regression(n_samples=5000, n_features=10)"
   ]
  },
  {
   "cell_type": "code",
   "execution_count": 15,
   "id": "ca84d900",
   "metadata": {},
   "outputs": [
    {
     "data": {
      "text/plain": [
       "array([[ 0.84190339,  0.71223495,  1.00623568, ..., -0.71866317,\n",
       "         0.33566656, -1.26865011],\n",
       "       [ 0.53205957,  1.08596927, -0.71698107, ...,  0.17942222,\n",
       "        -0.49791874, -0.55185793],\n",
       "       [ 0.36521504,  2.18414227,  0.5114593 , ..., -0.84747049,\n",
       "        -1.32863109, -0.09143991],\n",
       "       ...,\n",
       "       [-0.84665769, -2.24638691,  1.39247482, ...,  0.63070767,\n",
       "        -0.36518268,  0.5116066 ],\n",
       "       [ 0.56567472,  0.2442609 , -1.03125644, ...,  1.06137273,\n",
       "         1.18699157, -1.26479083],\n",
       "       [-0.05612651, -0.17238846,  2.11531038, ...,  2.03535552,\n",
       "         0.70485553,  0.01951735]])"
      ]
     },
     "execution_count": 15,
     "metadata": {},
     "output_type": "execute_result"
    }
   ],
   "source": [
    "x"
   ]
  },
  {
   "cell_type": "code",
   "execution_count": 7,
   "id": "b1f099b0",
   "metadata": {},
   "outputs": [],
   "source": [
    "x = scale(x)\n",
    "y = scale(y)\n",
    "xtrain, xtest, ytrain, ytest=train_test_split(x, y, test_size=0.10)"
   ]
  },
  {
   "cell_type": "code",
   "execution_count": 8,
   "id": "0fb9781b",
   "metadata": {},
   "outputs": [
    {
     "name": "stdout",
     "output_type": "stream",
     "text": [
      "[[ 0.84190339  0.71223495  1.00623568  1.53779527  0.71450068  0.07084934\n",
      "  -1.29214783 -0.71866317  0.33566656 -1.26865011]]\n",
      "[0.60760269]\n"
     ]
    }
   ],
   "source": [
    "print(x[0:1])\n",
    "print(y[0:1])"
   ]
  },
  {
   "cell_type": "code",
   "execution_count": 9,
   "id": "af498f8d",
   "metadata": {},
   "outputs": [
    {
     "name": "stdout",
     "output_type": "stream",
     "text": [
      "RandomForestRegressor(bootstrap=True, ccp_alpha=0.0, criterion='squared_error',\n",
      "                      max_depth=None, max_features=1.0, max_leaf_nodes=None,\n",
      "                      max_samples=None, min_impurity_decrease=0.0,\n",
      "                      min_samples_leaf=1, min_samples_split=2,\n",
      "                      min_weight_fraction_leaf=0.0, n_estimators=100,\n",
      "                      n_jobs=None, oob_score=False, random_state=None,\n",
      "                      verbose=0, warm_start=False)\n"
     ]
    }
   ],
   "source": [
    "set_config(print_changed_only=False) \n",
    " \n",
    "rfr = RandomForestRegressor()\n",
    "print(rfr)"
   ]
  },
  {
   "cell_type": "code",
   "execution_count": 10,
   "id": "77ff8f46",
   "metadata": {},
   "outputs": [
    {
     "name": "stdout",
     "output_type": "stream",
     "text": [
      "R-squared: 0.9786877062903266\n"
     ]
    }
   ],
   "source": [
    "rfr.fit(xtrain, ytrain)\n",
    "\n",
    "score = rfr.score(xtrain, ytrain)\n",
    "print(\"R-squared:\", score) "
   ]
  },
  {
   "cell_type": "code",
   "execution_count": 11,
   "id": "917421c0",
   "metadata": {},
   "outputs": [
    {
     "name": "stdout",
     "output_type": "stream",
     "text": [
      "MSE:  0.1460982881616133\n",
      "RMSE:  0.07304914408080665\n"
     ]
    }
   ],
   "source": [
    "ypred = rfr.predict(xtest)\n",
    "\n",
    "mse = mean_squared_error(ytest, ypred)\n",
    "print(\"MSE: \", mse)\n",
    "print(\"RMSE: \", mse*(1/2.0)) "
   ]
  },
  {
   "cell_type": "code",
   "execution_count": 12,
   "id": "568b3682",
   "metadata": {},
   "outputs": [
    {
     "data": {
      "text/plain": [
       "array([ 1.65258504,  1.02018555,  0.06793408,  0.54805044, -1.16509696,\n",
       "       -0.06542291, -0.01324423, -0.02467017, -0.52579846,  0.5362301 ])"
      ]
     },
     "execution_count": 12,
     "metadata": {},
     "output_type": "execute_result"
    }
   ],
   "source": [
    "ytrain[0:10]"
   ]
  },
  {
   "cell_type": "code",
   "execution_count": 14,
   "id": "e5908694",
   "metadata": {},
   "outputs": [
    {
     "data": {
      "text/plain": [
       "array([ 0.8615695 ,  0.15142611,  0.12873266,  0.09358975,  0.19873784,\n",
       "        0.53503416, -0.0514064 , -0.35542606,  1.02069404, -0.78718009])"
      ]
     },
     "execution_count": 14,
     "metadata": {},
     "output_type": "execute_result"
    }
   ],
   "source": [
    "ypred[0:10]"
   ]
  }
 ],
 "metadata": {
  "kernelspec": {
   "display_name": "Python 3 (ipykernel)",
   "language": "python",
   "name": "python3"
  },
  "language_info": {
   "codemirror_mode": {
    "name": "ipython",
    "version": 3
   },
   "file_extension": ".py",
   "mimetype": "text/x-python",
   "name": "python",
   "nbconvert_exporter": "python",
   "pygments_lexer": "ipython3",
   "version": "3.9.10"
  }
 },
 "nbformat": 4,
 "nbformat_minor": 5
}
