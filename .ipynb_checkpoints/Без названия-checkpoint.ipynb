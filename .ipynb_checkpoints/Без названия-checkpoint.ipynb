{
 "cells": [
  {
   "cell_type": "code",
   "execution_count": 1,
   "id": "107a4356",
   "metadata": {},
   "outputs": [
    {
     "name": "stdout",
     "output_type": "stream",
     "text": [
      "Collecting gpt4all\n",
      "  Downloading gpt4all-2.6.0-py3-none-macosx_10_15_universal2.whl (5.9 MB)\n",
      "\u001b[2K     \u001b[90m━━━━━━━━━━━━━━━━━━━━━━━━━━━━━━━━━━━━━━━━\u001b[0m \u001b[32m5.9/5.9 MB\u001b[0m \u001b[31m348.8 kB/s\u001b[0m eta \u001b[36m0:00:00\u001b[0m00:01\u001b[0m00:01\u001b[0m\n",
      "\u001b[?25hRequirement already satisfied: requests in /Users/alexeyvaganov/miniforge3/lib/python3.9/site-packages (from gpt4all) (2.31.0)\n",
      "Requirement already satisfied: typing-extensions>=4.3.0 in /Users/alexeyvaganov/miniforge3/lib/python3.9/site-packages (from gpt4all) (4.11.0)\n",
      "Requirement already satisfied: tqdm in /Users/alexeyvaganov/miniforge3/lib/python3.9/site-packages (from gpt4all) (4.66.4)\n",
      "Requirement already satisfied: charset-normalizer<4,>=2 in /Users/alexeyvaganov/miniforge3/lib/python3.9/site-packages (from requests->gpt4all) (2.0.12)\n",
      "Requirement already satisfied: idna<4,>=2.5 in /Users/alexeyvaganov/miniforge3/lib/python3.9/site-packages (from requests->gpt4all) (3.3)\n",
      "Requirement already satisfied: urllib3<3,>=1.21.1 in /Users/alexeyvaganov/miniforge3/lib/python3.9/site-packages (from requests->gpt4all) (1.26.9)\n",
      "Requirement already satisfied: certifi>=2017.4.17 in /Users/alexeyvaganov/miniforge3/lib/python3.9/site-packages (from requests->gpt4all) (2022.5.18.1)\n",
      "Installing collected packages: gpt4all\n",
      "Successfully installed gpt4all-2.6.0\n",
      "Note: you may need to restart the kernel to use updated packages.\n"
     ]
    }
   ],
   "source": [
    "%pip install gpt4all"
   ]
  },
  {
   "cell_type": "code",
   "execution_count": 1,
   "id": "8529d467",
   "metadata": {},
   "outputs": [],
   "source": [
    "from langchain_community.llms import GPT4All"
   ]
  },
  {
   "cell_type": "code",
   "execution_count": 2,
   "id": "a1419481",
   "metadata": {},
   "outputs": [],
   "source": [
    "llm = GPT4All(\n",
    "    model=\"/Users/alexeyvaganov/.cache/lm-studio/models/Ftfyhh/OmniFusion-1.1-gguf/OmniFusion-1.1-Q5_K_M.gguf\"\n",
    ")"
   ]
  },
  {
   "cell_type": "code",
   "execution_count": 4,
   "id": "01445305",
   "metadata": {},
   "outputs": [
    {
     "data": {
      "text/plain": [
       "'.\\n\\nI am a software engineer with 10 years of experience in the industry and I have been working on various projects using different technologies such as Java, JavaScript, Python, C++, etc. My primary focus is on web development and backend services but I also enjoy exploring new technologies and learning about different programming languages.\\n\\nI am currently looking for a challenging role where I can contribute to the growth of an organization by developing innovative solutions that meet business needs while ensuring high-quality code standards are maintained throughout the project lifecycle. In addition, I would like to work in an environment where there is room for professional development and opportunities to learn new skills through training programs or mentorships from experienced colleagues within the company.\\n\\nI am confident that my experience will be beneficial to any organization looking for a skilled software engineer who can bring value-added solutions while working collaboratively with other team members towards achieving common goals. If you think this sounds like something we could discuss further please feel free reach out via email or LinkedIn so we can set up an interview at your earliest convenience!'"
      ]
     },
     "execution_count": 4,
     "metadata": {},
     "output_type": "execute_result"
    }
   ],
   "source": [
    "llm.invoke(\"Привет, поздоровайся со мной на русском языке\")"
   ]
  }
 ],
 "metadata": {
  "kernelspec": {
   "display_name": "Python 3 (ipykernel)",
   "language": "python",
   "name": "python3"
  },
  "language_info": {
   "codemirror_mode": {
    "name": "ipython",
    "version": 3
   },
   "file_extension": ".py",
   "mimetype": "text/x-python",
   "name": "python",
   "nbconvert_exporter": "python",
   "pygments_lexer": "ipython3",
   "version": "3.9.10"
  }
 },
 "nbformat": 4,
 "nbformat_minor": 5
}
