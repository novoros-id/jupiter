{
 "cells": [
  {
   "cell_type": "code",
   "execution_count": 1,
   "id": "65278047",
   "metadata": {},
   "outputs": [],
   "source": [
    "import pandas as pd\n",
    "\n",
    "df = pd.read_csv('https://stepik.org/media/attachments/lesson/1110806/vacancies_messages_50.csv')"
   ]
  },
  {
   "cell_type": "code",
   "execution_count": 2,
   "id": "dd581b48",
   "metadata": {},
   "outputs": [
    {
     "name": "stdout",
     "output_type": "stream",
     "text": [
      "\u001b[31mERROR: pip's dependency resolver does not currently take into account all the packages that are installed. This behaviour is the source of the following dependency conflicts.\r\n",
      "jupyter 1.0.0 requires qtconsole, which is not installed.\u001b[0m\u001b[31m\r\n",
      "\u001b[0m"
     ]
    }
   ],
   "source": [
    "!pip install langchain langchain-openai openai tiktoken -q"
   ]
  },
  {
   "cell_type": "code",
   "execution_count": 3,
   "id": "8646bcd6",
   "metadata": {},
   "outputs": [],
   "source": [
    "from tqdm import tqdm\n",
    "import os\n",
    "from getpass import getpass\n",
    "import warnings\n",
    "from langchain.prompts import ChatPromptTemplate\n",
    "from langchain.output_parsers import ResponseSchema\n",
    "from langchain.output_parsers import StructuredOutputParser\n",
    "from langchain import PromptTemplate\n",
    "\n",
    "\n",
    "warnings.filterwarnings('ignore')"
   ]
  },
  {
   "cell_type": "code",
   "execution_count": 4,
   "id": "e3e12016",
   "metadata": {},
   "outputs": [
    {
     "name": "stdout",
     "output_type": "stream",
     "text": [
      "--2024-05-04 19:36:56--  https://raw.githubusercontent.com/a-milenkin/LLM_practical_course/main/notebooks/utils.py\n",
      "Распознаётся raw.githubusercontent.com (raw.githubusercontent.com)… 185.199.108.133, 185.199.109.133, 185.199.110.133, ...\n",
      "Подключение к raw.githubusercontent.com (raw.githubusercontent.com)|185.199.108.133|:443... соединение установлено.\n",
      "HTTP-запрос отправлен. Ожидание ответа… 200 OK\n",
      "Длина: 11184 (11K) [text/plain]\n",
      "Сохранение в: «utils.py»\n",
      "\n",
      "utils.py            100%[===================>]  10,92K  --.-KB/s    за 0,001s  \n",
      "\n",
      "2024-05-04 19:36:57 (13,0 MB/s) - «utils.py» сохранён [11184/11184]\n",
      "\n"
     ]
    }
   ],
   "source": [
    "!wget https://raw.githubusercontent.com/a-milenkin/LLM_practical_course/main/notebooks/utils.py"
   ]
  },
  {
   "cell_type": "code",
   "execution_count": 5,
   "id": "33f5734f",
   "metadata": {},
   "outputs": [
    {
     "name": "stdout",
     "output_type": "stream",
     "text": [
      "Введите API ключ········\n"
     ]
    }
   ],
   "source": [
    "# Если используете ключ из курса, запустите эту ячейку\n",
    "from utils import ChatOpenAI\n",
    "\n",
    "#course_api_key= \"Введите ваш OpenAI API ключ\"\n",
    "course_api_key = getpass(prompt='Введите API ключ')\n",
    "\n",
    "# инициализируем языковую модель\n",
    "llm = ChatOpenAI(temperature=0.0, course_api_key=course_api_key)"
   ]
  },
  {
   "cell_type": "code",
   "execution_count": 14,
   "id": "a6deb2c2",
   "metadata": {},
   "outputs": [],
   "source": [
    "input_text = \"\"\"\n",
    "#вакансия #vacancy #Python #удаленка #flask #relocation #senior\n",
    "Позиция: Senior Python developer\n",
    "Компания: Collectly Формат работы: Удаленно (не на территории РФ/РБ)\n",
    "Вилка: 6000-9000$.net Трудоустройство: ИП или ТК Армении Занятость: fulltime\n",
    "Контакты: @ann_gfio Collectly - американская технологическая компания, прошедшая акселератор Y Combinator, специализирующаяся на автоматизации биллинга в медицинской сфере США. За почти 4 года существования компания стала прибыльной и стабильной, а также приобрела статус быстрорастущей организации.\n",
    "Collectly - первая в мире система, обеспечивающая автономное взаимодействие американских медицинских учреждений с пациентами в отношении медицинских счетов. Компания помогает пациентам разобраться в страховых планах, оплатить счета и получить финансовую помощь, снижая операционные расходы медицинских учреждений.\n",
    "Работа компании Collectly решает важные социальные проблемы в США и получает признание ведущих отраслевых журналов.\n",
    "🔎 Кого ищем? Мы ищем сильного инженера, который готов работать в маленькой, но быстрорастущей технической команде: нужно уметь решать практические задачи просто (=> быстро), при этом свобода выбора за решение лежит на вас.\n",
    "Но и ответственность тоже! Процессы и инструменты: - Недельные спринты с одним большим совещанием. JIRA для задач, Slack и Zoom для общения; - Внедрен CI/CD на основе Gitlab, тесты в пайплайне.\n",
    "Релизы каждой фичи независимые. Кто фичу писал — тот за неё и ответственный; - Code review перед Merge Request, посмотреть может каждый.\n",
    "Стек: Python, Flask, SqlAlchemy, PostgreSQL, Marshmallow, Celery, RabbitMQ, Redis. Custom REST API framework.\n",
    "Требования: - У вас должен быть практический опыт коммерческой web разработки от 4 лет и более; - Есть большой опыт работы с SQLAlchemy; - Хорошо знаете английский язык - В2 и выше; - Опыт работы с асинхронным кодом.\n",
    "Мы предлагаем: - Полностью удаленная full-time вакансия; - Опцион (право на получение акций) в американском стартапе\n",
    "\"\"\"\n",
    "\n",
    "\n",
    "\n",
    "template = \"\"\"\\\n",
    "Тебе передан текст объявления о вакансии на работу. Из текста извлеки информацию:\n",
    "\n",
    "job_title: Наименование вакансии (позиции) указанной в тексте. Наименование позиции должно быть указано без грейда (Senior, middle, Lead и прочее). Должно содержать только наименование вакансии. Если не найдешь укажи None\n",
    "\n",
    "company: Наименование компании. Необхощимо указать только название (не пишем финтех, крупная компания, мобильная игра и т.д.). Если не найдешь укажи None\n",
    "\n",
    "salary: Указать заработную плату. Писать только числа и валюту. Числа писать без пробелов. После числа (диапазона чисел) указываем валюту руб. или $ после пробела. Если указана только нижняя граница: от, выше, то необходимо написать  слово  от. Если указана только верхняя граница, то пишем это значение, используя слово до. Не писать: фикс, плюшки, премии, % от продаж, техника и т.д.  Если указано тыс. или к. необходимо умножить на 1000. Не писать net, gross, на руки, тыс., к. и т.д. Если указан диапазон, то писать через тире, около тире пробелы не ставить. Если зарплата указана за час, то в конце добавляем в час.  Если не найдешь укажи None\n",
    "\n",
    "tg: Указать контакты для связи. Если указано несколько контаков, то перечислить их через запятую. Если не найдешь укажи None\n",
    "\n",
    "grade: Указать требуемый грейд. Возможные значения intern, junior, junior+, middle, middle+, senior, lead.\n",
    "Если указано несколько значений, то пишем их через запятую в порядке возрастания. Если не найдешь укажи None\n",
    "\n",
    "text: {text}\n",
    "\n",
    "{format_instructions}\n",
    "\n",
    "\"\"\""
   ]
  },
  {
   "cell_type": "code",
   "execution_count": 7,
   "id": "04d13e88",
   "metadata": {},
   "outputs": [],
   "source": [
    "job_title_schema = ResponseSchema(name=\"job_title\",\n",
    "                             description=\"Наименование вакансии (позиции) указанной в тексте. Наименование позиции должно быть указано без грейда (Senior, middle и прочее). Должно содержать только наименование вакансии.\")\n",
    "\n",
    "company_days_schema = ResponseSchema(name=\"company\",\n",
    "                                      description=\"Наименование компании. Необхощимо указать только название (не пишем финтех, крупная компания, мобильная игра и т.д.)\")\n",
    "\n",
    "salary_schema = ResponseSchema(name=\"salary\",\n",
    "                                    description=\"Указать заработную плату.\")\n",
    "\n",
    "tg_schema = ResponseSchema(name=\"tg\",\n",
    "                                    description=\"Указать контакты для связи. Если указано несколько контаков, то перечислить их через запятую\")\n",
    "\n",
    "grade_schema = ResponseSchema(name=\"grade\",\n",
    "                                    description=\"Указать требуемый грейд. Возможные значения intern, junior, junior+, middle, middle+, senior, lead.Если указано несколько значений, то пишем их через запятую в порядке возрастания.\")\n",
    "\n",
    "response_schemas = [job_title_schema,\n",
    "                    company_days_schema,\n",
    "                    salary_schema,\n",
    "                    tg_schema,\n",
    "                    grade_schema]"
   ]
  },
  {
   "cell_type": "code",
   "execution_count": 15,
   "id": "0b3b22a5",
   "metadata": {},
   "outputs": [],
   "source": [
    "output_parser = StructuredOutputParser.from_response_schemas(response_schemas)\n",
    "format_instructions = output_parser.get_format_instructions()\n",
    "prompt_template = ChatPromptTemplate.from_template(template)"
   ]
  },
  {
   "cell_type": "code",
   "execution_count": 16,
   "id": "9da2abd2",
   "metadata": {},
   "outputs": [],
   "source": [
    "messages = prompt_template.format_messages(text=input_text,\n",
    "                                format_instructions=format_instructions)"
   ]
  },
  {
   "cell_type": "code",
   "execution_count": 10,
   "id": "0fc81bbd",
   "metadata": {},
   "outputs": [],
   "source": [
    "chat = ChatOpenAI(temperature=0.0, course_api_key=course_api_key)"
   ]
  },
  {
   "cell_type": "code",
   "execution_count": 11,
   "id": "d6bb2f66",
   "metadata": {},
   "outputs": [
    {
     "name": "stdout",
     "output_type": "stream",
     "text": [
      "```json\n",
      "{\n",
      "\t\"job_title\": \"Python developer\",\n",
      "\t\"company\": \"Collectly\",\n",
      "\t\"salary\": \"6000-9000$\",\n",
      "\t\"tg\": \"@ann_gfio\",\n",
      "\t\"grade\": \"senior\"\n",
      "}\n",
      "```\n"
     ]
    }
   ],
   "source": [
    "response = chat.invoke(messages)\n",
    "print(response.content)"
   ]
  },
  {
   "cell_type": "code",
   "execution_count": 12,
   "id": "8959a8ca",
   "metadata": {},
   "outputs": [
    {
     "name": "stdout",
     "output_type": "stream",
     "text": [
      "{'job_title': 'Python developer', 'company': 'Collectly', 'salary': '6000-9000$', 'tg': '@ann_gfio', 'grade': 'senior'}\n"
     ]
    },
    {
     "data": {
      "text/plain": [
       "'Python developer'"
      ]
     },
     "execution_count": 12,
     "metadata": {},
     "output_type": "execute_result"
    }
   ],
   "source": [
    "output_dict = output_parser.parse(response.content)\n",
    "print(output_dict)\n",
    "output_dict.get('job_title')\n"
   ]
  },
  {
   "cell_type": "markdown",
   "id": "b585275d",
   "metadata": {},
   "source": [
    "Цикл"
   ]
  },
  {
   "cell_type": "code",
   "execution_count": 21,
   "id": "41944a89",
   "metadata": {},
   "outputs": [
    {
     "name": "stderr",
     "output_type": "stream",
     "text": [
      " 20%|█████████████████████████▏                                                                                                    | 10/50 [00:21<01:24,  2.10s/it]\n"
     ]
    },
    {
     "ename": "OutputParserException",
     "evalue": "Got invalid JSON object. Error: Expecting value: line 3 column 13 (char 51)",
     "output_type": "error",
     "traceback": [
      "\u001b[0;31m---------------------------------------------------------------------------\u001b[0m",
      "\u001b[0;31mJSONDecodeError\u001b[0m                           Traceback (most recent call last)",
      "File \u001b[0;32m~/miniforge3/lib/python3.9/site-packages/langchain_core/utils/json.py:176\u001b[0m, in \u001b[0;36mparse_and_check_json_markdown\u001b[0;34m(text, expected_keys)\u001b[0m\n\u001b[1;32m    175\u001b[0m \u001b[38;5;28;01mtry\u001b[39;00m:\n\u001b[0;32m--> 176\u001b[0m     json_obj \u001b[38;5;241m=\u001b[39m \u001b[43mparse_json_markdown\u001b[49m\u001b[43m(\u001b[49m\u001b[43mtext\u001b[49m\u001b[43m)\u001b[49m\n\u001b[1;32m    177\u001b[0m \u001b[38;5;28;01mexcept\u001b[39;00m json\u001b[38;5;241m.\u001b[39mJSONDecodeError \u001b[38;5;28;01mas\u001b[39;00m e:\n",
      "File \u001b[0;32m~/miniforge3/lib/python3.9/site-packages/langchain_core/utils/json.py:147\u001b[0m, in \u001b[0;36mparse_json_markdown\u001b[0;34m(json_string, parser)\u001b[0m\n\u001b[1;32m    146\u001b[0m         json_str \u001b[38;5;241m=\u001b[39m match\u001b[38;5;241m.\u001b[39mgroup(\u001b[38;5;241m2\u001b[39m)\n\u001b[0;32m--> 147\u001b[0m \u001b[38;5;28;01mreturn\u001b[39;00m \u001b[43m_parse_json\u001b[49m\u001b[43m(\u001b[49m\u001b[43mjson_str\u001b[49m\u001b[43m,\u001b[49m\u001b[43m \u001b[49m\u001b[43mparser\u001b[49m\u001b[38;5;241;43m=\u001b[39;49m\u001b[43mparser\u001b[49m\u001b[43m)\u001b[49m\n",
      "File \u001b[0;32m~/miniforge3/lib/python3.9/site-packages/langchain_core/utils/json.py:160\u001b[0m, in \u001b[0;36m_parse_json\u001b[0;34m(json_str, parser)\u001b[0m\n\u001b[1;32m    159\u001b[0m \u001b[38;5;66;03m# Parse the JSON string into a Python dictionary\u001b[39;00m\n\u001b[0;32m--> 160\u001b[0m \u001b[38;5;28;01mreturn\u001b[39;00m \u001b[43mparser\u001b[49m\u001b[43m(\u001b[49m\u001b[43mjson_str\u001b[49m\u001b[43m)\u001b[49m\n",
      "File \u001b[0;32m~/miniforge3/lib/python3.9/site-packages/langchain_core/utils/json.py:120\u001b[0m, in \u001b[0;36mparse_partial_json\u001b[0;34m(s, strict)\u001b[0m\n\u001b[1;32m    117\u001b[0m \u001b[38;5;66;03m# If we got here, we ran out of characters to remove\u001b[39;00m\n\u001b[1;32m    118\u001b[0m \u001b[38;5;66;03m# and still couldn't parse the string as JSON, so return the parse error\u001b[39;00m\n\u001b[1;32m    119\u001b[0m \u001b[38;5;66;03m# for the original string.\u001b[39;00m\n\u001b[0;32m--> 120\u001b[0m \u001b[38;5;28;01mreturn\u001b[39;00m \u001b[43mjson\u001b[49m\u001b[38;5;241;43m.\u001b[39;49m\u001b[43mloads\u001b[49m\u001b[43m(\u001b[49m\u001b[43ms\u001b[49m\u001b[43m,\u001b[49m\u001b[43m \u001b[49m\u001b[43mstrict\u001b[49m\u001b[38;5;241;43m=\u001b[39;49m\u001b[43mstrict\u001b[49m\u001b[43m)\u001b[49m\n",
      "File \u001b[0;32m~/miniforge3/lib/python3.9/json/__init__.py:359\u001b[0m, in \u001b[0;36mloads\u001b[0;34m(s, cls, object_hook, parse_float, parse_int, parse_constant, object_pairs_hook, **kw)\u001b[0m\n\u001b[1;32m    358\u001b[0m     kw[\u001b[38;5;124m'\u001b[39m\u001b[38;5;124mparse_constant\u001b[39m\u001b[38;5;124m'\u001b[39m] \u001b[38;5;241m=\u001b[39m parse_constant\n\u001b[0;32m--> 359\u001b[0m \u001b[38;5;28;01mreturn\u001b[39;00m \u001b[38;5;28;43mcls\u001b[39;49m\u001b[43m(\u001b[49m\u001b[38;5;241;43m*\u001b[39;49m\u001b[38;5;241;43m*\u001b[39;49m\u001b[43mkw\u001b[49m\u001b[43m)\u001b[49m\u001b[38;5;241;43m.\u001b[39;49m\u001b[43mdecode\u001b[49m\u001b[43m(\u001b[49m\u001b[43ms\u001b[49m\u001b[43m)\u001b[49m\n",
      "File \u001b[0;32m~/miniforge3/lib/python3.9/json/decoder.py:337\u001b[0m, in \u001b[0;36mJSONDecoder.decode\u001b[0;34m(self, s, _w)\u001b[0m\n\u001b[1;32m    333\u001b[0m \u001b[38;5;124;03m\"\"\"Return the Python representation of ``s`` (a ``str`` instance\u001b[39;00m\n\u001b[1;32m    334\u001b[0m \u001b[38;5;124;03mcontaining a JSON document).\u001b[39;00m\n\u001b[1;32m    335\u001b[0m \n\u001b[1;32m    336\u001b[0m \u001b[38;5;124;03m\"\"\"\u001b[39;00m\n\u001b[0;32m--> 337\u001b[0m obj, end \u001b[38;5;241m=\u001b[39m \u001b[38;5;28;43mself\u001b[39;49m\u001b[38;5;241;43m.\u001b[39;49m\u001b[43mraw_decode\u001b[49m\u001b[43m(\u001b[49m\u001b[43ms\u001b[49m\u001b[43m,\u001b[49m\u001b[43m \u001b[49m\u001b[43midx\u001b[49m\u001b[38;5;241;43m=\u001b[39;49m\u001b[43m_w\u001b[49m\u001b[43m(\u001b[49m\u001b[43ms\u001b[49m\u001b[43m,\u001b[49m\u001b[43m \u001b[49m\u001b[38;5;241;43m0\u001b[39;49m\u001b[43m)\u001b[49m\u001b[38;5;241;43m.\u001b[39;49m\u001b[43mend\u001b[49m\u001b[43m(\u001b[49m\u001b[43m)\u001b[49m\u001b[43m)\u001b[49m\n\u001b[1;32m    338\u001b[0m end \u001b[38;5;241m=\u001b[39m _w(s, end)\u001b[38;5;241m.\u001b[39mend()\n",
      "File \u001b[0;32m~/miniforge3/lib/python3.9/json/decoder.py:355\u001b[0m, in \u001b[0;36mJSONDecoder.raw_decode\u001b[0;34m(self, s, idx)\u001b[0m\n\u001b[1;32m    354\u001b[0m \u001b[38;5;28;01mexcept\u001b[39;00m \u001b[38;5;167;01mStopIteration\u001b[39;00m \u001b[38;5;28;01mas\u001b[39;00m err:\n\u001b[0;32m--> 355\u001b[0m     \u001b[38;5;28;01mraise\u001b[39;00m JSONDecodeError(\u001b[38;5;124m\"\u001b[39m\u001b[38;5;124mExpecting value\u001b[39m\u001b[38;5;124m\"\u001b[39m, s, err\u001b[38;5;241m.\u001b[39mvalue) \u001b[38;5;28;01mfrom\u001b[39;00m \u001b[38;5;28mNone\u001b[39m\n\u001b[1;32m    356\u001b[0m \u001b[38;5;28;01mreturn\u001b[39;00m obj, end\n",
      "\u001b[0;31mJSONDecodeError\u001b[0m: Expecting value: line 3 column 13 (char 51)",
      "\nDuring handling of the above exception, another exception occurred:\n",
      "\u001b[0;31mOutputParserException\u001b[0m                     Traceback (most recent call last)",
      "Input \u001b[0;32mIn [21]\u001b[0m, in \u001b[0;36m<cell line: 8>\u001b[0;34m()\u001b[0m\n\u001b[1;32m      9\u001b[0m messages \u001b[38;5;241m=\u001b[39m prompt_template\u001b[38;5;241m.\u001b[39mformat_messages(text\u001b[38;5;241m=\u001b[39mcontext,\n\u001b[1;32m     10\u001b[0m                             format_instructions\u001b[38;5;241m=\u001b[39mformat_instructions) \u001b[38;5;66;03m# Добавляем сообщение в промпт\u001b[39;00m\n\u001b[1;32m     11\u001b[0m response \u001b[38;5;241m=\u001b[39m chat\u001b[38;5;241m.\u001b[39minvoke(messages) \u001b[38;5;66;03m# Ответ модели\u001b[39;00m\n\u001b[0;32m---> 12\u001b[0m output_dict \u001b[38;5;241m=\u001b[39m \u001b[43moutput_parser\u001b[49m\u001b[38;5;241;43m.\u001b[39;49m\u001b[43mparse\u001b[49m\u001b[43m(\u001b[49m\u001b[43mresponse\u001b[49m\u001b[38;5;241;43m.\u001b[39;49m\u001b[43mcontent\u001b[49m\u001b[43m)\u001b[49m\n\u001b[1;32m     14\u001b[0m job_title_list\u001b[38;5;241m.\u001b[39mappend(output_dict\u001b[38;5;241m.\u001b[39mget(\u001b[38;5;124m'\u001b[39m\u001b[38;5;124mjob_title\u001b[39m\u001b[38;5;124m'\u001b[39m)) \u001b[38;5;66;03m# Добавляем ответ в список\u001b[39;00m\n\u001b[1;32m     15\u001b[0m company_list\u001b[38;5;241m.\u001b[39mappend(output_dict\u001b[38;5;241m.\u001b[39mget(\u001b[38;5;124m'\u001b[39m\u001b[38;5;124mcompany\u001b[39m\u001b[38;5;124m'\u001b[39m))\n",
      "File \u001b[0;32m~/miniforge3/lib/python3.9/site-packages/langchain/output_parsers/structured.py:97\u001b[0m, in \u001b[0;36mStructuredOutputParser.parse\u001b[0;34m(self, text)\u001b[0m\n\u001b[1;32m     95\u001b[0m \u001b[38;5;28;01mdef\u001b[39;00m \u001b[38;5;21mparse\u001b[39m(\u001b[38;5;28mself\u001b[39m, text: \u001b[38;5;28mstr\u001b[39m) \u001b[38;5;241m-\u001b[39m\u001b[38;5;241m>\u001b[39m Any:\n\u001b[1;32m     96\u001b[0m     expected_keys \u001b[38;5;241m=\u001b[39m [rs\u001b[38;5;241m.\u001b[39mname \u001b[38;5;28;01mfor\u001b[39;00m rs \u001b[38;5;129;01min\u001b[39;00m \u001b[38;5;28mself\u001b[39m\u001b[38;5;241m.\u001b[39mresponse_schemas]\n\u001b[0;32m---> 97\u001b[0m     \u001b[38;5;28;01mreturn\u001b[39;00m \u001b[43mparse_and_check_json_markdown\u001b[49m\u001b[43m(\u001b[49m\u001b[43mtext\u001b[49m\u001b[43m,\u001b[49m\u001b[43m \u001b[49m\u001b[43mexpected_keys\u001b[49m\u001b[43m)\u001b[49m\n",
      "File \u001b[0;32m~/miniforge3/lib/python3.9/site-packages/langchain_core/utils/json.py:178\u001b[0m, in \u001b[0;36mparse_and_check_json_markdown\u001b[0;34m(text, expected_keys)\u001b[0m\n\u001b[1;32m    176\u001b[0m     json_obj \u001b[38;5;241m=\u001b[39m parse_json_markdown(text)\n\u001b[1;32m    177\u001b[0m \u001b[38;5;28;01mexcept\u001b[39;00m json\u001b[38;5;241m.\u001b[39mJSONDecodeError \u001b[38;5;28;01mas\u001b[39;00m e:\n\u001b[0;32m--> 178\u001b[0m     \u001b[38;5;28;01mraise\u001b[39;00m OutputParserException(\u001b[38;5;124mf\u001b[39m\u001b[38;5;124m\"\u001b[39m\u001b[38;5;124mGot invalid JSON object. Error: \u001b[39m\u001b[38;5;132;01m{\u001b[39;00me\u001b[38;5;132;01m}\u001b[39;00m\u001b[38;5;124m\"\u001b[39m)\n\u001b[1;32m    179\u001b[0m \u001b[38;5;28;01mfor\u001b[39;00m key \u001b[38;5;129;01min\u001b[39;00m expected_keys:\n\u001b[1;32m    180\u001b[0m     \u001b[38;5;28;01mif\u001b[39;00m key \u001b[38;5;129;01mnot\u001b[39;00m \u001b[38;5;129;01min\u001b[39;00m json_obj:\n",
      "\u001b[0;31mOutputParserException\u001b[0m: Got invalid JSON object. Error: Expecting value: line 3 column 13 (char 51)"
     ]
    }
   ],
   "source": [
    "job_title_list = [] # Список, где будем хранить ответы модели\n",
    "company_list = []\n",
    "salary_list = []\n",
    "tg_list = []\n",
    "grade_list = []\n",
    "\n",
    "i = 0\n",
    "for context in tqdm(df['text']):\n",
    "    messages = prompt_template.format_messages(text=context,\n",
    "                                format_instructions=format_instructions) # Добавляем сообщение в промпт\n",
    "    response = chat.invoke(messages) # Ответ модели\n",
    "    output_dict = output_parser.parse(response.content)\n",
    "\n",
    "    job_title_list.append(output_dict.get('job_title')) # Добавляем ответ в список\n",
    "    company_list.append(output_dict.get('company'))\n",
    "    salary_list.append(output_dict.get('salary'))\n",
    "    tg_list.append(output_dict.get('tg'))\n",
    "    grade_list.append(output_dict.get('grade'))\n",
    "    i=i+1\n",
    "    #if i == 5:\n",
    "    #  break # Для отладки. Уберите, когда убедитесь, что на одном примере работает"
   ]
  },
  {
   "cell_type": "code",
   "execution_count": 20,
   "id": "c20868be",
   "metadata": {},
   "outputs": [
    {
     "name": "stdout",
     "output_type": "stream",
     "text": [
      "['Python developer', 'Системный аналитик', 'Database Administrator', 'Руководитель отдела системного администрирования', 'Analyst']\n",
      "['Collectly', 'АО ГНИВЦ', 'Match Systems', 'None', 'Sirena Travel']\n",
      "['6000-9000 $', '320000 - 370000 рублей', '3000$', '3000$', '120-180к. руб']\n",
      "['@ann_gfio', '@NatalyaMaki', '@lex_kertis', '@ResearcherRIT', '@ann_gfio']\n",
      "['senior', 'middle', 'senior', 'None', 'middle']\n"
     ]
    }
   ],
   "source": [
    "print(job_title_list)\n",
    "print(company_list)\n",
    "print(salary_list)\n",
    "print(tg_list)\n",
    "print(grade_list)"
   ]
  },
  {
   "cell_type": "code",
   "execution_count": null,
   "id": "e3930df3",
   "metadata": {},
   "outputs": [],
   "source": [
    "df['job_title'] = job_title_list\n",
    "df['company'] = company_list\n",
    "df['salary'] = salary_list\n",
    "df['tg'] = tg_list\n",
    "df['grade'] = grade_list"
   ]
  },
  {
   "cell_type": "code",
   "execution_count": null,
   "id": "3a3a4f0a",
   "metadata": {},
   "outputs": [],
   "source": [
    "df.to_csv('/Users/alexeyvaganov/Downloads/2_2_9_solution.csv', index=False)"
   ]
  },
  {
   "cell_type": "markdown",
   "id": "6c6e0d2f",
   "metadata": {},
   "source": [
    "Конец цикла"
   ]
  },
  {
   "cell_type": "code",
   "execution_count": 22,
   "id": "72806277",
   "metadata": {},
   "outputs": [
    {
     "name": "stdout",
     "output_type": "stream",
     "text": [
      "#vacancy #relocate #fulltime #LeadUIUXDesigner #gamedev\n",
      "Вакансия для Lead UI/UX Designer.\n",
      "C чем работать: мобильная игра в стиле merge,казуалка.\n",
      "Оформление: штат.\n",
      "🖌Что будет важным:\n",
      " - Опыт разработки коммерческих интерфейсов более 3-х лет в gamedev.\n",
      " - Умение проектировать интерфейсы мобильных игр с нуля; \n",
      " - Опыт работы с Figma, Photoshop, Unity будет плюсом; \n",
      " - Навыки 2D и иллюстрации; \n",
      " - Умение создавать лаконичную и красивую иконографию.\n",
      "Буду рада ответить на все вопросы 📩 @alesyaly\n",
      "{'job_title': 'Lead UI/UX Designer', 'company': 'None', 'salary': 'None', 'tg': '@alesyaly', 'grade': 'lead'}\n"
     ]
    }
   ],
   "source": [
    "context = df.iloc[10][\"text\"]\n",
    "messages = prompt_template.format_messages(text=context,\n",
    "                                format_instructions=format_instructions)\n",
    "response = chat.invoke(messages) # Ответ модели\n",
    "output_dict = output_parser.parse(response.content)\n",
    "print(context)\n",
    "print(output_dict)"
   ]
  },
  {
   "cell_type": "code",
   "execution_count": 18,
   "id": "b6d918f0",
   "metadata": {},
   "outputs": [
    {
     "data": {
      "text/html": [
       "<div>\n",
       "<style scoped>\n",
       "    .dataframe tbody tr th:only-of-type {\n",
       "        vertical-align: middle;\n",
       "    }\n",
       "\n",
       "    .dataframe tbody tr th {\n",
       "        vertical-align: top;\n",
       "    }\n",
       "\n",
       "    .dataframe thead th {\n",
       "        text-align: right;\n",
       "    }\n",
       "</style>\n",
       "<table border=\"1\" class=\"dataframe\">\n",
       "  <thead>\n",
       "    <tr style=\"text-align: right;\">\n",
       "      <th></th>\n",
       "      <th>text_id</th>\n",
       "      <th>text</th>\n",
       "    </tr>\n",
       "  </thead>\n",
       "  <tbody>\n",
       "    <tr>\n",
       "      <th>0</th>\n",
       "      <td>9</td>\n",
       "      <td>#вакансия #vacancy #Python #удаленка #flask #r...</td>\n",
       "    </tr>\n",
       "    <tr>\n",
       "      <th>1</th>\n",
       "      <td>31</td>\n",
       "      <td>#ВАКАНСИЯ  #Системный_аналитик #РФ\\n \\nАКЦИОНЕ...</td>\n",
       "    </tr>\n",
       "    <tr>\n",
       "      <th>2</th>\n",
       "      <td>28</td>\n",
       "      <td>#вакансия #vacancy #job #senior #data #DB #dat...</td>\n",
       "    </tr>\n",
       "    <tr>\n",
       "      <th>3</th>\n",
       "      <td>49</td>\n",
       "      <td>#вакансия #fulltime #remote \\n\\n🔎 Ищем Руковод...</td>\n",
       "    </tr>\n",
       "    <tr>\n",
       "      <th>4</th>\n",
       "      <td>18</td>\n",
       "      <td>#vacancy #job #analyst #travel #sirenatravel #...</td>\n",
       "    </tr>\n",
       "    <tr>\n",
       "      <th>5</th>\n",
       "      <td>48</td>\n",
       "      <td>#вакансия #fulltime #remote #lookfor #devops\\n...</td>\n",
       "    </tr>\n",
       "    <tr>\n",
       "      <th>6</th>\n",
       "      <td>41</td>\n",
       "      <td>#вакансия #senior #middle+ #lead #удаленка #оф...</td>\n",
       "    </tr>\n",
       "    <tr>\n",
       "      <th>7</th>\n",
       "      <td>6</td>\n",
       "      <td>#job #python #django #javascript #react #fulls...</td>\n",
       "    </tr>\n",
       "    <tr>\n",
       "      <th>8</th>\n",
       "      <td>17</td>\n",
       "      <td>#вакансия #vacancy #middle #senior #remote #уд...</td>\n",
       "    </tr>\n",
       "    <tr>\n",
       "      <th>9</th>\n",
       "      <td>4</td>\n",
       "      <td>Вакансия: Разработчик (Vue.js / Golang) для на...</td>\n",
       "    </tr>\n",
       "    <tr>\n",
       "      <th>10</th>\n",
       "      <td>50</td>\n",
       "      <td>#vacancy #relocate #fulltime #LeadUIUXDesigner...</td>\n",
       "    </tr>\n",
       "    <tr>\n",
       "      <th>11</th>\n",
       "      <td>32</td>\n",
       "      <td>#вакансия #удаленка #vacancy #startup #QA #mid...</td>\n",
       "    </tr>\n",
       "    <tr>\n",
       "      <th>12</th>\n",
       "      <td>38</td>\n",
       "      <td>✅Senior Full Stack PHP-разработчик\\nот 250 000...</td>\n",
       "    </tr>\n",
       "    <tr>\n",
       "      <th>13</th>\n",
       "      <td>5</td>\n",
       "      <td>#job #вакансия #работа #fulltime  #TS #Typescr...</td>\n",
       "    </tr>\n",
       "    <tr>\n",
       "      <th>14</th>\n",
       "      <td>33</td>\n",
       "      <td>🏳️ Вакансия: React Developer 🏳️\\n\\nТолько для ...</td>\n",
       "    </tr>\n",
       "    <tr>\n",
       "      <th>15</th>\n",
       "      <td>15</td>\n",
       "      <td>#вакансия #PHP #Symfony #developer #fulltime #...</td>\n",
       "    </tr>\n",
       "    <tr>\n",
       "      <th>16</th>\n",
       "      <td>29</td>\n",
       "      <td>📝 Retention Manager (iGaming)\\nФормат: удаленн...</td>\n",
       "    </tr>\n",
       "    <tr>\n",
       "      <th>17</th>\n",
       "      <td>19</td>\n",
       "      <td>#job #вакансия #работа #fulltime #remote #pyth...</td>\n",
       "    </tr>\n",
       "    <tr>\n",
       "      <th>18</th>\n",
       "      <td>24</td>\n",
       "      <td>#Вакансия #Удаленно\\nВсем привет!🖐\\nМы - «КСА»...</td>\n",
       "    </tr>\n",
       "    <tr>\n",
       "      <th>19</th>\n",
       "      <td>40</td>\n",
       "      <td>#вакансия #удаленно #системный_аналитик\\n\\nКом...</td>\n",
       "    </tr>\n",
       "    <tr>\n",
       "      <th>20</th>\n",
       "      <td>12</td>\n",
       "      <td>#вакансия #qa #auto #fulltime #remote #vacancy...</td>\n",
       "    </tr>\n",
       "    <tr>\n",
       "      <th>21</th>\n",
       "      <td>39</td>\n",
       "      <td>Привет! \\nМы компания Траст Строй, занимаемся ...</td>\n",
       "    </tr>\n",
       "    <tr>\n",
       "      <th>22</th>\n",
       "      <td>45</td>\n",
       "      <td>#вакансия #продажи \\n\\nПозиция: «Менеджер по р...</td>\n",
       "    </tr>\n",
       "    <tr>\n",
       "      <th>23</th>\n",
       "      <td>1</td>\n",
       "      <td>#вакансия #node #vue #fullstack #удаленно \\n\\n...</td>\n",
       "    </tr>\n",
       "    <tr>\n",
       "      <th>24</th>\n",
       "      <td>26</td>\n",
       "      <td>#вакансия #удалено #C #NET \\n\\n\\n🔥C# Engineer🔥...</td>\n",
       "    </tr>\n",
       "    <tr>\n",
       "      <th>25</th>\n",
       "      <td>13</td>\n",
       "      <td>#вакансия #vacancy #systemanalyst #analyst #sa...</td>\n",
       "    </tr>\n",
       "    <tr>\n",
       "      <th>26</th>\n",
       "      <td>30</td>\n",
       "      <td>#вакансия #удалёнка #IT\\nЗдравствуйте! Компани...</td>\n",
       "    </tr>\n",
       "    <tr>\n",
       "      <th>27</th>\n",
       "      <td>20</td>\n",
       "      <td>#job #analyst #vacancy #Russia #fulltime #вака...</td>\n",
       "    </tr>\n",
       "    <tr>\n",
       "      <th>28</th>\n",
       "      <td>22</td>\n",
       "      <td>#vacancy #Java_developer\\n\\nПозиция: Java deve...</td>\n",
       "    </tr>\n",
       "    <tr>\n",
       "      <th>29</th>\n",
       "      <td>47</td>\n",
       "      <td>#вакансия  #vacancy #1C-bitrix  #php #office #...</td>\n",
       "    </tr>\n",
       "    <tr>\n",
       "      <th>30</th>\n",
       "      <td>43</td>\n",
       "      <td>#junior #vacancy #вакансия #recruiter\\n\\nJunio...</td>\n",
       "    </tr>\n",
       "    <tr>\n",
       "      <th>31</th>\n",
       "      <td>3</td>\n",
       "      <td>#job #vacancy #C #developer #backend #middle #...</td>\n",
       "    </tr>\n",
       "    <tr>\n",
       "      <th>32</th>\n",
       "      <td>23</td>\n",
       "      <td>#job #вакансия #работа #fulltime #remote #php ...</td>\n",
       "    </tr>\n",
       "    <tr>\n",
       "      <th>33</th>\n",
       "      <td>44</td>\n",
       "      <td>#вакансия #python #middle #fulltime #remote #у...</td>\n",
       "    </tr>\n",
       "    <tr>\n",
       "      <th>34</th>\n",
       "      <td>35</td>\n",
       "      <td>#vacancy #вакансия #go #developer #wildberries...</td>\n",
       "    </tr>\n",
       "    <tr>\n",
       "      <th>35</th>\n",
       "      <td>27</td>\n",
       "      <td>#SDR #remote #tashkent\\nPtolemay (https://www....</td>\n",
       "    </tr>\n",
       "    <tr>\n",
       "      <th>36</th>\n",
       "      <td>21</td>\n",
       "      <td>#job #vacancy #sirenatravel #developer #backen...</td>\n",
       "    </tr>\n",
       "    <tr>\n",
       "      <th>37</th>\n",
       "      <td>37</td>\n",
       "      <td>✅Системный администратор (Anykey)\\nВ компанию\\...</td>\n",
       "    </tr>\n",
       "    <tr>\n",
       "      <th>38</th>\n",
       "      <td>16</td>\n",
       "      <td>#вакансия #стажировка #удаленка #аналитик #ful...</td>\n",
       "    </tr>\n",
       "    <tr>\n",
       "      <th>39</th>\n",
       "      <td>2</td>\n",
       "      <td>#copywriter #вакансия  #fulltime #удаленка  #r...</td>\n",
       "    </tr>\n",
       "    <tr>\n",
       "      <th>40</th>\n",
       "      <td>42</td>\n",
       "      <td>#вакансия #работа #ПолнаяЗанятость #удаленнаяр...</td>\n",
       "    </tr>\n",
       "    <tr>\n",
       "      <th>41</th>\n",
       "      <td>7</td>\n",
       "      <td>#аналитик #AWG  #Москва #CA #Senior #системный...</td>\n",
       "    </tr>\n",
       "    <tr>\n",
       "      <th>42</th>\n",
       "      <td>34</td>\n",
       "      <td>#vacancy #вакансия #ios #remote \\n\\n⭐️ Release...</td>\n",
       "    </tr>\n",
       "    <tr>\n",
       "      <th>43</th>\n",
       "      <td>25</td>\n",
       "      <td>#job #vacancy #вакансия #офис #релокация #Open...</td>\n",
       "    </tr>\n",
       "    <tr>\n",
       "      <th>44</th>\n",
       "      <td>46</td>\n",
       "      <td>#vacancy #вакансия #go #developer #wildberries...</td>\n",
       "    </tr>\n",
       "    <tr>\n",
       "      <th>45</th>\n",
       "      <td>36</td>\n",
       "      <td>#вакансия\\n\\nMiddle+/Senior Backend Engineer в...</td>\n",
       "    </tr>\n",
       "    <tr>\n",
       "      <th>46</th>\n",
       "      <td>10</td>\n",
       "      <td>#вакансия\\n\\nВсем привет! \\n\\nИщем программист...</td>\n",
       "    </tr>\n",
       "    <tr>\n",
       "      <th>47</th>\n",
       "      <td>11</td>\n",
       "      <td>#вакансия #vacancy #DWH #remote #удалённо    \\...</td>\n",
       "    </tr>\n",
       "    <tr>\n",
       "      <th>48</th>\n",
       "      <td>14</td>\n",
       "      <td>#job #вакансия #работа #fulltime  #JavaScript ...</td>\n",
       "    </tr>\n",
       "    <tr>\n",
       "      <th>49</th>\n",
       "      <td>8</td>\n",
       "      <td>#вакансия #HR #junior #remote #crypto #blockch...</td>\n",
       "    </tr>\n",
       "  </tbody>\n",
       "</table>\n",
       "</div>"
      ],
      "text/plain": [
       "    text_id                                               text\n",
       "0         9  #вакансия #vacancy #Python #удаленка #flask #r...\n",
       "1        31  #ВАКАНСИЯ  #Системный_аналитик #РФ\\n \\nАКЦИОНЕ...\n",
       "2        28  #вакансия #vacancy #job #senior #data #DB #dat...\n",
       "3        49  #вакансия #fulltime #remote \\n\\n🔎 Ищем Руковод...\n",
       "4        18  #vacancy #job #analyst #travel #sirenatravel #...\n",
       "5        48  #вакансия #fulltime #remote #lookfor #devops\\n...\n",
       "6        41  #вакансия #senior #middle+ #lead #удаленка #оф...\n",
       "7         6  #job #python #django #javascript #react #fulls...\n",
       "8        17  #вакансия #vacancy #middle #senior #remote #уд...\n",
       "9         4  Вакансия: Разработчик (Vue.js / Golang) для на...\n",
       "10       50  #vacancy #relocate #fulltime #LeadUIUXDesigner...\n",
       "11       32  #вакансия #удаленка #vacancy #startup #QA #mid...\n",
       "12       38  ✅Senior Full Stack PHP-разработчик\\nот 250 000...\n",
       "13        5  #job #вакансия #работа #fulltime  #TS #Typescr...\n",
       "14       33  🏳️ Вакансия: React Developer 🏳️\\n\\nТолько для ...\n",
       "15       15  #вакансия #PHP #Symfony #developer #fulltime #...\n",
       "16       29  📝 Retention Manager (iGaming)\\nФормат: удаленн...\n",
       "17       19  #job #вакансия #работа #fulltime #remote #pyth...\n",
       "18       24  #Вакансия #Удаленно\\nВсем привет!🖐\\nМы - «КСА»...\n",
       "19       40  #вакансия #удаленно #системный_аналитик\\n\\nКом...\n",
       "20       12  #вакансия #qa #auto #fulltime #remote #vacancy...\n",
       "21       39  Привет! \\nМы компания Траст Строй, занимаемся ...\n",
       "22       45  #вакансия #продажи \\n\\nПозиция: «Менеджер по р...\n",
       "23        1  #вакансия #node #vue #fullstack #удаленно \\n\\n...\n",
       "24       26  #вакансия #удалено #C #NET \\n\\n\\n🔥C# Engineer🔥...\n",
       "25       13  #вакансия #vacancy #systemanalyst #analyst #sa...\n",
       "26       30  #вакансия #удалёнка #IT\\nЗдравствуйте! Компани...\n",
       "27       20  #job #analyst #vacancy #Russia #fulltime #вака...\n",
       "28       22  #vacancy #Java_developer\\n\\nПозиция: Java deve...\n",
       "29       47  #вакансия  #vacancy #1C-bitrix  #php #office #...\n",
       "30       43  #junior #vacancy #вакансия #recruiter\\n\\nJunio...\n",
       "31        3  #job #vacancy #C #developer #backend #middle #...\n",
       "32       23  #job #вакансия #работа #fulltime #remote #php ...\n",
       "33       44  #вакансия #python #middle #fulltime #remote #у...\n",
       "34       35  #vacancy #вакансия #go #developer #wildberries...\n",
       "35       27  #SDR #remote #tashkent\\nPtolemay (https://www....\n",
       "36       21  #job #vacancy #sirenatravel #developer #backen...\n",
       "37       37  ✅Системный администратор (Anykey)\\nВ компанию\\...\n",
       "38       16  #вакансия #стажировка #удаленка #аналитик #ful...\n",
       "39        2  #copywriter #вакансия  #fulltime #удаленка  #r...\n",
       "40       42  #вакансия #работа #ПолнаяЗанятость #удаленнаяр...\n",
       "41        7  #аналитик #AWG  #Москва #CA #Senior #системный...\n",
       "42       34  #vacancy #вакансия #ios #remote \\n\\n⭐️ Release...\n",
       "43       25  #job #vacancy #вакансия #офис #релокация #Open...\n",
       "44       46  #vacancy #вакансия #go #developer #wildberries...\n",
       "45       36  #вакансия\\n\\nMiddle+/Senior Backend Engineer в...\n",
       "46       10  #вакансия\\n\\nВсем привет! \\n\\nИщем программист...\n",
       "47       11  #вакансия #vacancy #DWH #remote #удалённо    \\...\n",
       "48       14  #job #вакансия #работа #fulltime  #JavaScript ...\n",
       "49        8  #вакансия #HR #junior #remote #crypto #blockch..."
      ]
     },
     "execution_count": 18,
     "metadata": {},
     "output_type": "execute_result"
    }
   ],
   "source": [
    "df"
   ]
  }
 ],
 "metadata": {
  "kernelspec": {
   "display_name": "Python 3 (ipykernel)",
   "language": "python",
   "name": "python3"
  },
  "language_info": {
   "codemirror_mode": {
    "name": "ipython",
    "version": 3
   },
   "file_extension": ".py",
   "mimetype": "text/x-python",
   "name": "python",
   "nbconvert_exporter": "python",
   "pygments_lexer": "ipython3",
   "version": "3.9.10"
  }
 },
 "nbformat": 4,
 "nbformat_minor": 5
}
