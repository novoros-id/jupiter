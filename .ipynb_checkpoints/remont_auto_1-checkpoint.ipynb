{
 "cells": [
  {
   "cell_type": "code",
   "execution_count": 31,
   "metadata": {
    "code_folding": [
     0
    ]
   },
   "outputs": [],
   "source": [
    "# определения\n",
    "\n",
    "import pandas as pd\n",
    "import numpy as np\n",
    "import seaborn as sns\n",
    "import re\n",
    "import pickle\n",
    "import pymorphy2\n",
    "import matplotlib.pyplot as plt\n",
    "#import pandas_profiling\n",
    "import datetime\n",
    "\n",
    "from sklearn.model_selection import train_test_split\n",
    "from sklearn.tree import DecisionTreeClassifier\n",
    "from sklearn.ensemble import RandomForestRegressor\n",
    "from sklearn.metrics import accuracy_score, classification_report, f1_score\n",
    "from sklearn.feature_extraction.text import CountVectorizer\n",
    "from sklearn.ensemble import RandomForestClassifier\n",
    "from sklearn.model_selection import GridSearchCV\n",
    "from sklearn.model_selection import train_test_split\n",
    "from sklearn.metrics import roc_auc_score,classification_report,confusion_matrix,roc_curve,auc,precision_recall_curve,precision_score,recall_score,f1_score,accuracy_score\n",
    "from sklearn.model_selection import KFold\n",
    "from sklearn.model_selection import cross_val_score\n",
    "from sklearn.ensemble import GradientBoostingClassifier\n",
    "\n",
    "\n",
    "morph = pymorphy2.MorphAnalyzer()\n",
    "vectorizer = CountVectorizer()\n",
    "plt.style.use('dark_background')\n",
    "# Options for pandas\n",
    "pd.set_option('display.float_format', lambda x: '%.3f' % x)\n",
    "pd.options.display.max_columns = 50\n",
    "pd.options.display.min_rows = 30"
   ]
  },
  {
   "cell_type": "code",
   "execution_count": 18,
   "metadata": {
    "code_folding": []
   },
   "outputs": [],
   "source": [
    "# здесь \"на память\" описываю операторы в одну - две строчки \n",
    "\n",
    "# PANDAS\n",
    "# data.iloc[[0,3,100]] - показать строки по индексу 0,3,100\n",
    "# data.iloc[:,:8] - выбрать первые 8 колонок и все строки\n",
    "# data[data.Survived == 0 ] - отбор по значению\n",
    "# data[data.Survived == 0 ][['Sex','Age']] - отбор  и показать только выбранные колонки\n",
    "# data['new_col'] = data['Survived'] - в новую колонку добавить значение старой колонки\n",
    "# data.rename(columns = {'new_col':'del_col'}) - переименовать колонку\n",
    "# data = data.drop(['new_col'],axis = 'columns') - удалить колонку\n",
    "# del data[\"column\"] - еще один способ удалить колонку\n",
    "# print(data.groupby(['Sex','Survived'])['PassengerId'].count()) - сгруппировать \n",
    "# по колонкам 'Sex','Survived' и подсчету по колонке PassengerId\n",
    "# data.isna().sum() - показать сколько пустых значений в каждой колонке\n",
    "# data.Survived.value_counts() - показать сколько уникальных значений в колонке  Survived\n",
    "# data.Survived.max() - показать максимальное значение в колонке  Survived\n",
    "# data.Survived.nlagerset(3) - показать 3 максимальных  значения в колонке  Survived\n",
    "# data.Survived.idxmax() - показать индекс максимальноого значения в колонке  Survived\n",
    "# data.loc[23] - показать строку 23\n",
    "# data = data.dropna() - удалить все строки с пропусками\n",
    "# data.Sex.replace('male', 0, inplace=True) - заменить значения в колонке Sex: mail - 0\n",
    "# test_out = pd.DataFrame({'PassengerId': test_df.index,'Survived': preds})\n",
    "# создать новый dataframe для выгрузки на кагл\n",
    "# data = pd.read_excel(\"resolution_100.xlsx\") - прочитать файл excel\n",
    "# data.describe() - получаем описание фрэйма, макс, мин, количество и прочее  \n",
    "# data.fillna(method='ffill', inplace=True) - заполнить все пустые предыдущими значениями\n",
    "# data = pandas.get_dummies(data,columns=['columns']) - раскрытие строк через доп. столбцы\n",
    "# data = pd.concat([data_train,data_test]) - объединение таблиц\n",
    "# data = data.assign(type_age=\"\") - добавить колонку\n",
    "# data.loc[1,\"type_age\"] = \"a\" - записать значение в колонку по строке\n",
    "# pd.read_html('http://www.contextures.com/xlSampleData01.html') - на сайте найдет таблицы и считает их\n",
    "\n",
    "# def valuation_formula(x, y): # заполнение ячеек через lambda\n",
    "#   return x * y * 0.5\n",
    "# data['price'] = data.apply(lambda row: valuation_formula(row['x'], row['y']), axis=1)\n",
    "\n",
    "# for idx,row in anime[:2].iterrows(): - обход элементов dataframe\n",
    "#    print(idx, row)\n",
    "# data['price'] = data['price'].apply(функция) - применение функции к столбцу\n",
    "# data.map({'cat': 'kitten', 'dog': 'puppy'}) - замена значений по словарю\n",
    "\n",
    "# sex_stats = df.pivot_table(values='suicides_no', index=['year'], columns=['sex'], aggfunc='mean')\n",
    "# Как и в Excel, здесь есть сводные таблицы (pivot_table). Параметрами метода являются:\n",
    "# values – список переменных, по которым будут считаться статистики,\n",
    "# index – список переменных, по которым нужно сгруппировать данные, будут индексами сводной таблицы,\n",
    "# columns – список переменных, по которым нужно сгруппировать данные, будут столбцами сводной таблицы,\n",
    "# aggfunc — функция аггрегации, т.е. рассчитываемая статистика для данных\n",
    "\n",
    "#PANDAS PROFILING\n",
    "# pandas_profiling.ProfileReport(df)\n",
    "\n",
    "# SEABORN\n",
    "# sns.heatmap(data.corr()) - вывести график корреляций по всем колонкам\n",
    "# sns.boxplot(titanic['age']) - ящик с усами\n",
    "# sns.countplot(x) - строит bar по данным\n",
    "# sns.countplot(x=\"pclass\", data=titanic, hue=\"sex\") - бар по двум колонкам\n",
    "\n",
    "# SKLEARN\n",
    "# X_train, X_test, y_train, y_test = train_test_split(X, y, test_size=0.2,random_state=42) \n",
    "# разбить данные на тренировочную и тестовую выборку\n",
    "# 20 процентов на тестовую , случайность выборки зафиксирована\n",
    "# accuracy_score(y_test,y_pred) - коэффециент проверки на проверочной выборке\n",
    "# vectorizer.get_feature_names() - посмотреть словарь векторов текста\n",
    "# чтобы получить сгенерированный словарь, из приведенной структуры CountVectorizer, \n",
    "# стоит отметить что порядок совпадает с матрице\n",
    "# text_vector_array = text_vector.toarray() - покаазть матрицу\n",
    "\n",
    "# kf = KFold(n_splits=5, random_state=1, shuffle=True) подготовка кросс-валидации\n",
    "# model = RandomForestRegressor(random_state=1) объявляем модель\n",
    "# score = np.mean(cross_val_score(estimator=model, X=X, y=y, cv=kf, scoring='r2')) - рассчитываем коэффициент r2\n",
    "\n",
    "# PICKLE\n",
    "# model = pickle.load(open(\"filename\", 'rb')) - загрузка модели из файла\n",
    "# pickle.dump(model, open(\"filename\", 'wb')) - сохрванение модели в файл\n",
    "\n",
    "# MATPLOTLIB\n",
    "# plt.plot(x, y, label='sin') - нарисовать простой график\n",
    "# plt.scatter(x, y, c=colors, s=sizes, alpha=0.5, cmap='plasma',label='sin') - или рисуем точки на графике\n",
    "# plt.grid() - показать сетку\n",
    "# plt.xlabel('Ось x') - название оси Х\n",
    "# plt.colorbar() -  показать легенду цветов, если c=colors\n",
    "# plt.legend() - показать легенду\n",
    "# plt.show() - показать график\n",
    "# plt.savefig('имя_файла') - сохранение графика\n",
    "# plt.hexbin(x, y, cmap='inferno') - тепловая карта\n",
    "# plt.hist(x, color='r', orientation='horizontal') - сторим гистограмму"
   ]
  },
  {
   "cell_type": "code",
   "execution_count": null,
   "metadata": {
    "code_folding": [
     0
    ]
   },
   "outputs": [],
   "source": [
    "# из примера титаник сайта кагл DecisionTreeClassifier\n",
    "# dt = DecisionTreeClassifier(random_state=1)\n",
    "# dt.fit(X_train, y_train)\n",
    "# preds = dt.predict(X_test)\n",
    "# acc = accuracy_score(y_true=y_test, y_pred=preds)\n",
    "# f1 = f1_score(y_true=y_test, y_pred=preds)\n",
    "# print(classification_report(y_true=y_test, y_pred=preds))"
   ]
  },
  {
   "cell_type": "code",
   "execution_count": null,
   "metadata": {
    "code_folding": []
   },
   "outputs": [],
   "source": [
    "# предсказание простое RandomForestClassifier\n",
    "# clf = RandomForestClassifier(random_state=241)\n",
    "# clf.fit(X, Y)\n",
    "## расчет веса показателей\n",
    "# importances = clf.feature_importances_\n",
    "# print(importances)"
   ]
  },
  {
   "cell_type": "code",
   "execution_count": null,
   "metadata": {
    "code_folding": [
     0
    ]
   },
   "outputs": [],
   "source": [
    "# использование GridSearchCV на примере RandomForestClassifier\n",
    "\n",
    "# clf = RandomForestClassifier()\n",
    "\n",
    "# здесь пишем какие параметры будет перебирать\n",
    "\n",
    "# param_greed = {\n",
    "#    \"max_depth\" : [2,5,10],\n",
    "#    \"criterion\" : ['gini', 'entropy'],\n",
    "#    \"min_samples_split\" : [2,5,10],\n",
    "#    \"min_samples_leaf\" : [1,5,10],\n",
    "#}\n",
    "\n",
    "# пишем каие параметры перебираем scoring = как оцениваем  ,\n",
    "# cv = сколько тестовых выборок, n_jobs = -1 используем все процссоры\n",
    "#GS = GridSearchCV(clf,param_greed,scoring = 'roc_auc',cv = 6,n_jobs = -1)\n",
    "#GS.fit(X,Y)\n",
    "\n",
    "# лучший показатель\n",
    "#GS.best_score_\n",
    "\n",
    "# лучшие параметры\n",
    "# GS.best_params_\n",
    "\n",
    "# обращаемся\n",
    "# GS.best_estimator_.feature_importances_\n",
    "\n",
    "# предсказываем\n",
    "# GS.best_estimator_.predict(may_sample_dataframe)"
   ]
  },
  {
   "cell_type": "code",
   "execution_count": 51,
   "metadata": {
    "code_folding": [
     3,
     15,
     40
    ]
   },
   "outputs": [],
   "source": [
    "# универсальные функции\n",
    "\n",
    "# загрузать файл из csv\n",
    "def read_csv(path,index_c = \"\"):\n",
    "    if index_c == \"\":\n",
    "        return pd.read_csv(path)\n",
    "    else:\n",
    "        return pd.read_csv(path,index_col=index_c)\n",
    "    \n",
    "# показать все уникальные значения во всех колонках\n",
    "def columns_unique(data):\n",
    "    for col in data.columns:\n",
    "        print(col, data[col].unique())\n",
    "\n",
    "# заполнить пустые значения средним значением\n",
    "def null_to_mean(data,column):\n",
    "    num_mean = data[column].mean()\n",
    "    data[column].fillna(num_mean, inplace=True)\n",
    "\n",
    "# заполнить пустые значения модой\n",
    "def null_to_mode(data,column):\n",
    "    num_mode  = data[column].mode().values[0]\n",
    "    data[column].fillna(num_mode, inplace=True)\n",
    "\n",
    "# функция для лемматизации\n",
    "def lemmatize(text):\n",
    "    text_str = str(text)\n",
    "    text_str = re.sub(r'[^\\w\\s]+|[\\d]+', r'',text_str).strip()\n",
    "    words = text_str.split() # разбиваем текст на слова\n",
    "    res = \"\"\n",
    "    for word in words:\n",
    "        p = morph.parse(word)[0]\n",
    "        res = res + \" \" + p.normal_form\n",
    "    return res\n",
    "\n",
    "# провести лемматизацию датафрэйм\n",
    "def lemma_dataframe(data,column):\n",
    "    data[column] = data.apply(lambda row: lemmatize(row[column]), axis=1)\n",
    "    \n",
    "# векторизация, создание векторов\n",
    "def vector_text(data,column):\n",
    "    text = data[column]\n",
    "    # создаем векторы\n",
    "    return vectorizer.fit_transform(text)  "
   ]
  },
  {
   "cell_type": "code",
   "execution_count": 5,
   "metadata": {},
   "outputs": [],
   "source": [
    "data = pd.read_excel(\"/Users/alexeyvaganov/doc/files/polomki_1.xlsx\")"
   ]
  },
  {
   "cell_type": "code",
   "execution_count": 99,
   "metadata": {},
   "outputs": [],
   "source": [
    "def year_from(s_):\n",
    "    text_str = str(s_)\n",
    "    return text_str[6:10]"
   ]
  },
  {
   "cell_type": "code",
   "execution_count": 97,
   "metadata": {},
   "outputs": [
    {
     "data": {
      "text/plain": [
       "'2018'"
      ]
     },
     "execution_count": 97,
     "metadata": {},
     "output_type": "execute_result"
    }
   ],
   "source": [
    "year_from(\"13.08.2018 11:49:17\")"
   ]
  },
  {
   "cell_type": "code",
   "execution_count": 83,
   "metadata": {},
   "outputs": [],
   "source": [
    "data_ = data.loc[1:10]"
   ]
  },
  {
   "cell_type": "code",
   "execution_count": 29,
   "metadata": {},
   "outputs": [],
   "source": [
    "data[\"rem_v_posl_mes\"].fillna(0,inplace=True)\n",
    "data[\"sum_rem_v_posl_mes\"].fillna(0,inplace=True)\n",
    "data[\"prizn\"].fillna(0,inplace=True)\n",
    "data[\"stoim_rem_prizn\"].fillna(0,inplace=True)\n",
    "data[\"probeg\"].fillna(0,inplace=True)"
   ]
  },
  {
   "cell_type": "code",
   "execution_count": 54,
   "metadata": {},
   "outputs": [],
   "source": [
    "data[\"year_v\"].fillna(0,inplace=True)"
   ]
  },
  {
   "cell_type": "code",
   "execution_count": 38,
   "metadata": {},
   "outputs": [],
   "source": [
    "data['date_'] = pd.to_datetime(data['date'], format='%d.%m.%Y %H:%M:%S')"
   ]
  },
  {
   "cell_type": "code",
   "execution_count": 41,
   "metadata": {},
   "outputs": [],
   "source": [
    "del data[\"date\"]"
   ]
  },
  {
   "cell_type": "code",
   "execution_count": 130,
   "metadata": {},
   "outputs": [],
   "source": [
    "data.year_v.replace('', \"0\", inplace=True)"
   ]
  },
  {
   "cell_type": "code",
   "execution_count": 131,
   "metadata": {},
   "outputs": [],
   "source": [
    "data['year_v'] = data['year_v'].astype(int)"
   ]
  },
  {
   "cell_type": "code",
   "execution_count": 121,
   "metadata": {},
   "outputs": [],
   "source": [
    "data['prizn'] = data['prizn'].astype(int)\n",
    "data['rem_v_posl_mes'] = data['rem_v_posl_mes'].astype(int)"
   ]
  },
  {
   "cell_type": "code",
   "execution_count": 123,
   "metadata": {},
   "outputs": [
    {
     "data": {
      "text/plain": [
       "date_del              52321\n",
       "tip_ts                    0\n",
       "year_v                    0\n",
       "num_os                    0\n",
       "os                        0\n",
       "probeg                    0\n",
       "ob_st_rem                 0\n",
       "rem_v_posl_mes            0\n",
       "sum_rem_v_posl_mes        0\n",
       "prizn                     0\n",
       "stoim_rem_prizn           0\n",
       "date_                     0\n",
       "dtype: int64"
      ]
     },
     "execution_count": 123,
     "metadata": {},
     "output_type": "execute_result"
    }
   ],
   "source": [
    "data.isna().sum()"
   ]
  },
  {
   "cell_type": "code",
   "execution_count": 125,
   "metadata": {},
   "outputs": [
    {
     "data": {
      "text/html": [
       "<div>\n",
       "<style scoped>\n",
       "    .dataframe tbody tr th:only-of-type {\n",
       "        vertical-align: middle;\n",
       "    }\n",
       "\n",
       "    .dataframe tbody tr th {\n",
       "        vertical-align: top;\n",
       "    }\n",
       "\n",
       "    .dataframe thead th {\n",
       "        text-align: right;\n",
       "    }\n",
       "</style>\n",
       "<table border=\"1\" class=\"dataframe\">\n",
       "  <thead>\n",
       "    <tr style=\"text-align: right;\">\n",
       "      <th></th>\n",
       "      <th>probeg</th>\n",
       "      <th>ob_st_rem</th>\n",
       "      <th>rem_v_posl_mes</th>\n",
       "      <th>sum_rem_v_posl_mes</th>\n",
       "      <th>prizn</th>\n",
       "      <th>stoim_rem_prizn</th>\n",
       "    </tr>\n",
       "  </thead>\n",
       "  <tbody>\n",
       "    <tr>\n",
       "      <th>count</th>\n",
       "      <td>56152.000</td>\n",
       "      <td>56152.000</td>\n",
       "      <td>56152.000</td>\n",
       "      <td>56152.000</td>\n",
       "      <td>56152.000</td>\n",
       "      <td>56152.000</td>\n",
       "    </tr>\n",
       "    <tr>\n",
       "      <th>mean</th>\n",
       "      <td>24095.986</td>\n",
       "      <td>793172.878</td>\n",
       "      <td>0.296</td>\n",
       "      <td>16792.215</td>\n",
       "      <td>0.294</td>\n",
       "      <td>16985.716</td>\n",
       "    </tr>\n",
       "    <tr>\n",
       "      <th>std</th>\n",
       "      <td>62952.984</td>\n",
       "      <td>2377101.335</td>\n",
       "      <td>0.457</td>\n",
       "      <td>174177.630</td>\n",
       "      <td>0.456</td>\n",
       "      <td>174084.850</td>\n",
       "    </tr>\n",
       "    <tr>\n",
       "      <th>min</th>\n",
       "      <td>0.000</td>\n",
       "      <td>9.200</td>\n",
       "      <td>0.000</td>\n",
       "      <td>-151755.180</td>\n",
       "      <td>0.000</td>\n",
       "      <td>-250578.260</td>\n",
       "    </tr>\n",
       "    <tr>\n",
       "      <th>25%</th>\n",
       "      <td>616.750</td>\n",
       "      <td>28500.000</td>\n",
       "      <td>0.000</td>\n",
       "      <td>0.000</td>\n",
       "      <td>0.000</td>\n",
       "      <td>0.000</td>\n",
       "    </tr>\n",
       "    <tr>\n",
       "      <th>50%</th>\n",
       "      <td>5088.650</td>\n",
       "      <td>122711.745</td>\n",
       "      <td>0.000</td>\n",
       "      <td>0.000</td>\n",
       "      <td>0.000</td>\n",
       "      <td>0.000</td>\n",
       "    </tr>\n",
       "    <tr>\n",
       "      <th>75%</th>\n",
       "      <td>14152.250</td>\n",
       "      <td>497208.095</td>\n",
       "      <td>1.000</td>\n",
       "      <td>631.580</td>\n",
       "      <td>1.000</td>\n",
       "      <td>636.000</td>\n",
       "    </tr>\n",
       "    <tr>\n",
       "      <th>max</th>\n",
       "      <td>785210.000</td>\n",
       "      <td>37203407.230</td>\n",
       "      <td>1.000</td>\n",
       "      <td>19118061.500</td>\n",
       "      <td>1.000</td>\n",
       "      <td>19118061.500</td>\n",
       "    </tr>\n",
       "  </tbody>\n",
       "</table>\n",
       "</div>"
      ],
      "text/plain": [
       "          probeg    ob_st_rem  rem_v_posl_mes  sum_rem_v_posl_mes     prizn  \\\n",
       "count  56152.000    56152.000       56152.000           56152.000 56152.000   \n",
       "mean   24095.986   793172.878           0.296           16792.215     0.294   \n",
       "std    62952.984  2377101.335           0.457          174177.630     0.456   \n",
       "min        0.000        9.200           0.000         -151755.180     0.000   \n",
       "25%      616.750    28500.000           0.000               0.000     0.000   \n",
       "50%     5088.650   122711.745           0.000               0.000     0.000   \n",
       "75%    14152.250   497208.095           1.000             631.580     1.000   \n",
       "max   785210.000 37203407.230           1.000        19118061.500     1.000   \n",
       "\n",
       "       stoim_rem_prizn  \n",
       "count        56152.000  \n",
       "mean         16985.716  \n",
       "std         174084.850  \n",
       "min        -250578.260  \n",
       "25%              0.000  \n",
       "50%              0.000  \n",
       "75%            636.000  \n",
       "max       19118061.500  "
      ]
     },
     "execution_count": 125,
     "metadata": {},
     "output_type": "execute_result"
    }
   ],
   "source": [
    "data.describe()"
   ]
  },
  {
   "cell_type": "code",
   "execution_count": 143,
   "metadata": {},
   "outputs": [],
   "source": [
    "#del data[\"date_del\"]\n",
    "#del data[\"num_os\"]\n",
    "del data[\"os\"]\n",
    "del data[\"stoim_rem_prizn\"]"
   ]
  },
  {
   "cell_type": "code",
   "execution_count": 176,
   "metadata": {},
   "outputs": [
    {
     "name": "stdout",
     "output_type": "stream",
     "text": [
      "<class 'pandas.core.frame.DataFrame'>\n",
      "RangeIndex: 56152 entries, 0 to 56151\n",
      "Data columns (total 8 columns):\n",
      " #   Column              Non-Null Count  Dtype         \n",
      "---  ------              --------------  -----         \n",
      " 0   tip_ts              56152 non-null  object        \n",
      " 1   year_v              56152 non-null  int64         \n",
      " 2   probeg              56152 non-null  float64       \n",
      " 3   ob_st_rem           56152 non-null  float64       \n",
      " 4   rem_v_posl_mes      56152 non-null  int64         \n",
      " 5   sum_rem_v_posl_mes  56152 non-null  float64       \n",
      " 6   prizn               56152 non-null  int64         \n",
      " 7   date_               56152 non-null  datetime64[ns]\n",
      "dtypes: datetime64[ns](1), float64(3), int64(3), object(1)\n",
      "memory usage: 3.4+ MB\n"
     ]
    }
   ],
   "source": [
    "data.info()"
   ]
  },
  {
   "cell_type": "code",
   "execution_count": 150,
   "metadata": {},
   "outputs": [],
   "source": [
    "data_dumm = pd.get_dummies(data,columns=['tip_ts'])"
   ]
  },
  {
   "cell_type": "code",
   "execution_count": 153,
   "metadata": {},
   "outputs": [],
   "source": [
    "data_pr = data_dumm[data_dumm.date_ >=  '2020-01-01 00:00:00']"
   ]
  },
  {
   "cell_type": "code",
   "execution_count": 154,
   "metadata": {},
   "outputs": [],
   "source": [
    "data_ob = data_dumm[data_dumm.date_ <=  '2020-01-01 00:00:00']"
   ]
  },
  {
   "cell_type": "code",
   "execution_count": 157,
   "metadata": {},
   "outputs": [],
   "source": [
    "X = data_ob.drop(['prizn',\"date_\"],axis = 'columns')"
   ]
  },
  {
   "cell_type": "code",
   "execution_count": 173,
   "metadata": {},
   "outputs": [
    {
     "name": "stdout",
     "output_type": "stream",
     "text": [
      "<class 'pandas.core.frame.DataFrame'>\n",
      "Int64Index: 52367 entries, 0 to 56131\n",
      "Columns: 154 entries, year_v to tip_ts_спредер Bromma\n",
      "dtypes: float64(3), int64(2), uint8(149)\n",
      "memory usage: 9.8 MB\n"
     ]
    }
   ],
   "source": [
    "X.info()"
   ]
  },
  {
   "cell_type": "code",
   "execution_count": 159,
   "metadata": {},
   "outputs": [],
   "source": [
    "y = data_ob.prizn"
   ]
  },
  {
   "cell_type": "code",
   "execution_count": 162,
   "metadata": {},
   "outputs": [],
   "source": [
    "X_ = data_pr.drop(['prizn',\"date_\"],axis = 'columns')"
   ]
  },
  {
   "cell_type": "code",
   "execution_count": 165,
   "metadata": {},
   "outputs": [],
   "source": [
    "y_ = data_pr.prizn"
   ]
  },
  {
   "cell_type": "code",
   "execution_count": 180,
   "metadata": {},
   "outputs": [],
   "source": [
    "data_count = data.groupby(['tip_ts'])['date_'].count()\n",
    "\"Кальмар\" TRX192AL\n",
    "\"Тойота\" 7FD40\n",
    "Ролл-трейлер "
   ]
  },
  {
   "cell_type": "code",
   "execution_count": 194,
   "metadata": {},
   "outputs": [
    {
     "ename": "SyntaxError",
     "evalue": "invalid syntax (<ipython-input-194-ccc2c6a195ac>, line 1)",
     "output_type": "error",
     "traceback": [
      "\u001b[0;36m  File \u001b[0;32m\"<ipython-input-194-ccc2c6a195ac>\"\u001b[0;36m, line \u001b[0;32m1\u001b[0m\n\u001b[0;31m    data_toyota = data[data.tip_ts == \"\"\"\"Тойота\"\"\" 7FD40\"]\u001b[0m\n\u001b[0m                                                    ^\u001b[0m\n\u001b[0;31mSyntaxError\u001b[0m\u001b[0;31m:\u001b[0m invalid syntax\n"
     ]
    }
   ],
   "source": [
    "data_toyota = data[data.tip_ts == \"Тойота 7FD40\"]\n",
    "data_toyota"
   ]
  },
  {
   "cell_type": "code",
   "execution_count": 174,
   "metadata": {},
   "outputs": [
    {
     "name": "stdout",
     "output_type": "stream",
     "text": [
      "0.6780720676990429\n",
      "{'criterion': 'gini', 'max_depth': 2, 'min_samples_leaf': 1, 'min_samples_split': 2}\n"
     ]
    }
   ],
   "source": [
    "clf = RandomForestClassifier()\n",
    "\n",
    "# здесь пишем какие параметры будет перебирать\n",
    "\n",
    "param_greed = {\n",
    "    \"max_depth\" : [2,5,10],\n",
    "    \"criterion\" : ['gini', 'entropy'],\n",
    "    \"min_samples_split\" : [2,5,10],\n",
    "    \"min_samples_leaf\" : [1,5,10],\n",
    "}\n",
    "\n",
    "# пишем каие параметры перебираем scoring = как оцениваем  ,\n",
    "#cv = сколько тестовых выборок, n_jobs = -1 используем все процссоры\n",
    "GS = GridSearchCV(clf,param_greed,scoring = 'roc_auc',cv = 6,n_jobs = -1)\n",
    "GS.fit(X,y)\n",
    "\n",
    "# лучший показатель\n",
    "print(GS.best_score_)\n",
    "\n",
    "# лучшие параметры\n",
    "print(GS.best_params_)\n",
    "\n",
    "# обращаемся\n",
    "# GS.best_estimator_.feature_importances_\n",
    "\n",
    "# предсказываем\n",
    "# GS.best_estimator_.predict(may_sample_dataframe)"
   ]
  }
 ],
 "metadata": {
  "kernelspec": {
   "display_name": "Python 3",
   "language": "python",
   "name": "python3"
  },
  "language_info": {
   "codemirror_mode": {
    "name": "ipython",
    "version": 3
   },
   "file_extension": ".py",
   "mimetype": "text/x-python",
   "name": "python",
   "nbconvert_exporter": "python",
   "pygments_lexer": "ipython3",
   "version": "3.7.6"
  }
 },
 "nbformat": 4,
 "nbformat_minor": 4
}
