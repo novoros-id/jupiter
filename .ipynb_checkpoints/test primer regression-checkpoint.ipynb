{
 "cells": [
  {
   "cell_type": "code",
   "execution_count": 1,
   "id": "ad96cecb",
   "metadata": {},
   "outputs": [],
   "source": [
    "from sklearn.ensemble import RandomForestRegressor\n",
    "from sklearn.datasets import load_boston\n",
    "from sklearn.datasets import make_regression\n",
    "from sklearn.metrics import mean_squared_error\n",
    "from sklearn.model_selection import train_test_split\n",
    "from sklearn.preprocessing import scale\n",
    "import matplotlib.pyplot as plt\n",
    "from sklearn import set_config "
   ]
  },
  {
   "cell_type": "code",
   "execution_count": 6,
   "id": "74dc1766",
   "metadata": {},
   "outputs": [
    {
     "name": "stdout",
     "output_type": "stream",
     "text": [
      "[[ 0.83864158  0.71293261  0.98770524  1.52300689  0.71698078  0.07166759\n",
      "  -1.29731554 -0.73769256  0.34590846 -1.27583715]]\n",
      "[105.94701103]\n"
     ]
    }
   ],
   "source": [
    "x, y = make_regression(n_samples=5000, n_features=10)\n",
    "print(x[0:1])\n",
    "print(y[0:1])\n"
   ]
  }
 ],
 "metadata": {
  "kernelspec": {
   "display_name": "Python 3 (ipykernel)",
   "language": "python",
   "name": "python3"
  },
  "language_info": {
   "codemirror_mode": {
    "name": "ipython",
    "version": 3
   },
   "file_extension": ".py",
   "mimetype": "text/x-python",
   "name": "python",
   "nbconvert_exporter": "python",
   "pygments_lexer": "ipython3",
   "version": "3.9.10"
  }
 },
 "nbformat": 4,
 "nbformat_minor": 5
}
