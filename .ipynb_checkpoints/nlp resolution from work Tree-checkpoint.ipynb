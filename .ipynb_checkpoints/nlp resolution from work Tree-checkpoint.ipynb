{
 "cells": [
  {
   "cell_type": "code",
   "execution_count": 43,
   "metadata": {},
   "outputs": [],
   "source": [
    "import numpy as np\n",
    "import pandas\n",
    "import re\n",
    "import pickle\n",
    "\n",
    "from sklearn.feature_extraction.text import CountVectorizer\n",
    "from sklearn.ensemble import RandomForestClassifier\n",
    "from sklearn.model_selection import train_test_split\n",
    "from sklearn.metrics import roc_auc_score,classification_report,confusion_matrix,roc_curve,auc,precision_recall_curve,precision_score,recall_score,f1_score,accuracy_score\n",
    "\n",
    "#from pymystem3 import Mystem\n",
    "import pymorphy2\n"
   ]
  },
  {
   "cell_type": "code",
   "execution_count": null,
   "metadata": {},
   "outputs": [],
   "source": [
    "# инициализируем\n",
    "vectorizer = CountVectorizer()\n",
    "#m = Mystem()\n",
    "morph = pymorphy2.MorphAnalyzer()"
   ]
  },
  {
   "cell_type": "code",
   "execution_count": 26,
   "metadata": {},
   "outputs": [],
   "source": [
    "# функция для лемматизации\n",
    "\n",
    "def lemmatize(text):\n",
    "    text_str = str(text)\n",
    "    text_str = re.sub(r'[^\\w\\s]+|[\\d]+', r'',text_str).strip()\n",
    "    words = text_str.split() # разбиваем текст на слова\n",
    "    res = \"\"\n",
    "    for word in words:\n",
    "        p = morph.parse(word)[0]\n",
    "        res = res + \" \" + p.normal_form\n",
    "\n",
    "    return res"
   ]
  },
  {
   "cell_type": "code",
   "execution_count": 27,
   "metadata": {},
   "outputs": [],
   "source": [
    "data_xls = pandas.read_excel(\"resolution_100.xlsx\")"
   ]
  },
  {
   "cell_type": "code",
   "execution_count": 28,
   "metadata": {},
   "outputs": [],
   "source": [
    "# проводим лемматизацию\n",
    "data_xls['text'] = data_xls.apply(lambda row: lemmatize(row['text']), axis=1)"
   ]
  },
  {
   "cell_type": "code",
   "execution_count": 29,
   "metadata": {},
   "outputs": [],
   "source": [
    "text = data_xls.text"
   ]
  },
  {
   "cell_type": "code",
   "execution_count": 30,
   "metadata": {},
   "outputs": [],
   "source": [
    "# создаем векторы\n",
    "text_vector = vectorizer.fit_transform(text)"
   ]
  },
  {
   "cell_type": "code",
   "execution_count": 31,
   "metadata": {},
   "outputs": [],
   "source": [
    "# показать матрицу\n",
    "text_vector_array = text_vector.toarray()"
   ]
  },
  {
   "cell_type": "code",
   "execution_count": 32,
   "metadata": {},
   "outputs": [],
   "source": [
    "past_columns = [] # пустой массив, для опрееделени колонок\n",
    "for i in range(len(text_vector_array[0])): \n",
    "    past_columns.append(f\"v_{i}\")\n",
    "#past_columns"
   ]
  },
  {
   "cell_type": "code",
   "execution_count": 33,
   "metadata": {},
   "outputs": [],
   "source": [
    "dataframe_vector = pandas.DataFrame(data = text_vector_array,columns = past_columns)\n",
    "#dataframe_vector"
   ]
  },
  {
   "cell_type": "code",
   "execution_count": 34,
   "metadata": {},
   "outputs": [],
   "source": [
    "data = pandas.concat([data_xls,dataframe_vector],axis = 1)\n"
   ]
  },
  {
   "cell_type": "code",
   "execution_count": 35,
   "metadata": {},
   "outputs": [],
   "source": [
    "Y = data.priznak\n",
    "X = data[past_columns]"
   ]
  },
  {
   "cell_type": "code",
   "execution_count": 36,
   "metadata": {},
   "outputs": [],
   "source": [
    "X_train, X_test, y_train, y_test = train_test_split(X, Y, test_size=0.2,random_state=42)"
   ]
  },
  {
   "cell_type": "code",
   "execution_count": 39,
   "metadata": {},
   "outputs": [
    {
     "name": "stdout",
     "output_type": "stream",
     "text": [
      "Index(['v_0', 'v_1', 'v_2', 'v_3', 'v_4', 'v_5', 'v_6', 'v_7', 'v_8', 'v_9',\n",
      "       ...\n",
      "       'v_1326', 'v_1327', 'v_1328', 'v_1329', 'v_1330', 'v_1331', 'v_1332',\n",
      "       'v_1333', 'v_1334', 'v_1335'],\n",
      "      dtype='object', length=1336)\n",
      "[3.58701115e-04 1.63065019e-06 4.24769699e-04 ... 4.13800834e-04\n",
      " 1.78208538e-05 1.91690868e-07]\n"
     ]
    }
   ],
   "source": [
    "# предсказание простое\n",
    "clf = RandomForestClassifier(random_state=241)\n",
    "clf.fit(X_train, y_train)\n",
    "# расчет веса показателей\n",
    "importances = clf.feature_importances_\n",
    "print(X.columns)\n",
    "print(importances)"
   ]
  },
  {
   "cell_type": "code",
   "execution_count": 41,
   "metadata": {},
   "outputs": [],
   "source": [
    "y_pred=clf.predict(X_test)"
   ]
  },
  {
   "cell_type": "code",
   "execution_count": 44,
   "metadata": {},
   "outputs": [
    {
     "data": {
      "text/plain": [
       "0.95"
      ]
     },
     "execution_count": 44,
     "metadata": {},
     "output_type": "execute_result"
    }
   ],
   "source": [
    "accuracy_score(y_test,y_pred)"
   ]
  },
  {
   "cell_type": "code",
   "execution_count": 38,
   "metadata": {},
   "outputs": [
    {
     "name": "stdout",
     "output_type": "stream",
     "text": [
      "   v_0  v_1  v_2  v_3  v_4  v_5  v_6  v_7  v_8  v_9  ...  v_1326  v_1327  \\\n",
      "0    0    0    0    0    0    0    0    0    0    0  ...       0       0   \n",
      "\n",
      "   v_1328  v_1329  v_1330  v_1331  v_1332  v_1333  v_1334  v_1335  \n",
      "0       0       0       0       0       0       0       0       0  \n",
      "\n",
      "[1 rows x 1336 columns]\n"
     ]
    },
    {
     "data": {
      "text/plain": [
       "array([1])"
      ]
     },
     "execution_count": 38,
     "metadata": {},
     "output_type": "execute_result"
    }
   ],
   "source": [
    "# ДЛЯ ПРЯМОГО РАСЧЕТА\n",
    "# теперь можно быстро подсчитать вектор для нового документа\n",
    "#text2 = [\"the puppy\"]\n",
    "#vector = vectorizer.transform(text2)\n",
    "#print(vector.toarray())\n",
    "\n",
    "text_predict = 'Подготовить отчет'\n",
    "text_predict_lemmat = lemmatize(text_predict)\n",
    "new_v = vectorizer.transform([text_predict_lemmat])  # результат [[1 0 0 2]]\n",
    "new_v_array = new_v.toarray()\n",
    "dataframe_predict = pandas.DataFrame(data = new_v_array,columns = past_columns)\n",
    "print(dataframe_predict)\n",
    "clf.predict(dataframe_predict)"
   ]
  },
  {
   "cell_type": "code",
   "execution_count": 117,
   "metadata": {},
   "outputs": [],
   "source": [
    "# СОХРАНЕНИЕ МОДЕЛИ\n",
    "filename = 'finalized_model_resolut.sav'\n",
    "pickle.dump(clf, open(filename, 'wb'))"
   ]
  },
  {
   "cell_type": "code",
   "execution_count": 25,
   "metadata": {},
   "outputs": [],
   "source": [
    "# СОХРАНЕНИЕ ВЕКТОРОВ\n",
    "filename = 'finalized_vector_resolut.sav'\n",
    "pickle.dump(vectorizer, open(filename, 'wb'))"
   ]
  }
 ],
 "metadata": {
  "kernelspec": {
   "display_name": "Python 3",
   "language": "python",
   "name": "python3"
  },
  "language_info": {
   "codemirror_mode": {
    "name": "ipython",
    "version": 3
   },
   "file_extension": ".py",
   "mimetype": "text/x-python",
   "name": "python",
   "nbconvert_exporter": "python",
   "pygments_lexer": "ipython3",
   "version": "3.7.6"
  }
 },
 "nbformat": 4,
 "nbformat_minor": 4
}
