{
 "cells": [
  {
   "cell_type": "code",
   "execution_count": 172,
   "metadata": {},
   "outputs": [],
   "source": [
    "import numpy as np\n",
    "import cv2\n",
    "import time\n",
    "import os\n",
    "import random"
   ]
  },
  {
   "cell_type": "code",
   "execution_count": null,
   "metadata": {
    "code_folding": []
   },
   "outputs": [],
   "source": [
    "#ffmpeg -ss 00:00:02 -i \"mam.MOV\" -f image2 -vframes 1 \"file_out.jpg\""
   ]
  },
  {
   "cell_type": "code",
   "execution_count": 176,
   "metadata": {
    "code_folding": [
     0,
     26,
     47
    ]
   },
   "outputs": [],
   "source": [
    "# функции нарезки фото из видео\n",
    "# функция нарезает каждый фрэйм\n",
    "# разворачивает и уменьшает картинку\n",
    "\n",
    "def video_to_frames(video, prefix):\n",
    "    # extract frames from a video and save to directory as 'x.png' where \n",
    "    # x is the frame index\n",
    "    #video = cv2.VideoCapture('/Users/alexeyvaganov/doc/files/foto_mp/pap.mov')\n",
    "    vidcap = cv2.VideoCapture(video)\n",
    "    count = 0\n",
    "    while vidcap.isOpened():\n",
    "        success, image = vidcap.read()\n",
    "        if success:\n",
    "           # img_name = os.path.join(path_output_dir, 'img_%s_%d_0.png') % (prefix,count)\n",
    "            img_name = 'img_%s_%d.png' % (prefix,count)\n",
    "            img_path = return_file_name(img_name)\n",
    "            cv2.imwrite(img_path,image) \n",
    "            #convert_image(img_path)\n",
    "            #augmentation(img_name)\n",
    "            count += 1\n",
    "        else:\n",
    "            break\n",
    "    # print(count)\n",
    "    cv2.destroyAllWindows()\n",
    "    vidcap.release()\n",
    "\n",
    "def convert_image(image_path): # конвертировать картинку\n",
    "    \n",
    "    image = cv2.imread(image_path)\n",
    "    \n",
    "    #scale_percent = 12# Процент от изначального размера\n",
    "    #width = int(image.shape[1] * scale_percent / 100)\n",
    "    #height = int(image.shape[0] * scale_percent / 100)\n",
    "    \n",
    "    # УКАЗАТЬ РАЗМЕР\n",
    "    width = 230\n",
    "    height = 129\n",
    "    # УКАЗАТЬ РАЗМЕР\n",
    "    \n",
    "    dim = (width, height)\n",
    "    image = cv2.resize(image, dim, interpolation = cv2.INTER_AREA)\n",
    "    \n",
    "    # и тут же перевренем\n",
    "    image = rotate_bound(image, 90)\n",
    "\n",
    "    cv2.imwrite(image_path, image)\n",
    "    \n",
    "def rotate_bound(image, angle): # Повернуть картинку. параметры: картинка, угол\n",
    "    # grab the dimensions of the image and then determine the\n",
    "    # center\n",
    "    (h, w) = image.shape[:2]\n",
    "    (cX, cY) = (w // 2, h // 2)\n",
    "    # grab the rotation matrix (applying the negative of the\n",
    "    # angle to rotate clockwise), then grab the sine and cosine\n",
    "    # (i.e., the rotation components of the matrix)\n",
    "    M = cv2.getRotationMatrix2D((cX, cY), -angle, 1.0)\n",
    "    cos = np.abs(M[0, 0])\n",
    "    sin = np.abs(M[0, 1])\n",
    "    # compute the new bounding dimensions of the image\n",
    "    nW = int((h * sin) + (w * cos))\n",
    "    nH = int((h * cos) + (w * sin))\n",
    "    # adjust the rotation matrix to take into account translation\n",
    "    M[0, 2] += (nW / 2) - cX\n",
    "    M[1, 2] += (nH / 2) - cY\n",
    "    # perform the actual rotation and return the image\n",
    "\n",
    "    return cv2.warpAffine(image, M, (nW, nH))    "
   ]
  },
  {
   "cell_type": "code",
   "execution_count": 175,
   "metadata": {
    "code_folding": [
     0,
     1
    ]
   },
   "outputs": [],
   "source": [
    "# функции аугментацию\n",
    "def augmentation(img_name):\n",
    "    \n",
    "    img_name_ws = img_name.replace(\".png\",\"_\")\n",
    "    \n",
    "    img = cv2.imread(return_file_name(img_name))\n",
    "    \n",
    "    img_aug = rotation(img,30)\n",
    "    cv2.imwrite(return_file_name(img_name_ws + \"r+.png\"),img_aug)\n",
    "    \n",
    "    img_aug = rotation(img,-30)\n",
    "    cv2.imwrite(return_file_name(img_name_ws + \"r-.png\"),img_aug)\n",
    "    \n",
    "    img_aug = vertical_flip(img, True)\n",
    "    cv2.imwrite(return_file_name(img_name_ws + \"v.png\"),img_aug)\n",
    "    \n",
    "    img_aug = horizontal_flip(img, True)\n",
    "    cv2.imwrite(return_file_name(img_name_ws + \"t.png\"),img_aug)\n",
    "    \n",
    "    img_aug = channel_shift(img, 50)\n",
    "    cv2.imwrite(return_file_name(img_name_ws + \"c.png\"),img_aug)\n",
    "    \n",
    "    img_aug = zoom(img, 0.2)\n",
    "    cv2.imwrite(return_file_name(img_name_ws + \"z2.png\"),img_aug)\n",
    "    \n",
    "    img_aug = zoom(img, 0.3)\n",
    "    cv2.imwrite(return_file_name(img_name_ws + \"z3.png\"),img_aug)\n",
    "    \n",
    "    img_aug = brightness(img, 0.5, 3)\n",
    "    cv2.imwrite(return_file_name(img_name_ws + \"b.png\"),img_aug)\n",
    "    \n",
    "    img_aug = vertical_shift(img, 0.7)\n",
    "    cv2.imwrite(return_file_name(img_name_ws + \"vs.png\"),img_aug)\n",
    "    \n",
    "    img_aug = horizontal_shift(img, ratio=0.7)\n",
    "    cv2.imwrite(return_file_name(img_name_ws + \"gs.png\"),img_aug)     "
   ]
  },
  {
   "cell_type": "code",
   "execution_count": 174,
   "metadata": {
    "code_folding": [
     0
    ]
   },
   "outputs": [],
   "source": [
    "# вспомогательные функции для аугментации\n",
    "# https://towardsdatascience.com/complete-image-augmentation-in-opencv-31a6b02694f5\n",
    "\n",
    "# горизонтальное смещение\n",
    "def horizontal_shift(img, ratio=0.0):\n",
    "    if ratio > 1 or ratio < 0:\n",
    "        print('Value should be less than 1 and greater than 0')\n",
    "        return img\n",
    "    ratio = random.uniform(-ratio, ratio)\n",
    "    h, w = img.shape[:2]\n",
    "    to_shift = w*ratio\n",
    "    if ratio > 0:\n",
    "        img = img[:, :int(w-to_shift), :]\n",
    "    if ratio < 0:\n",
    "        img = img[:, int(-1*to_shift):, :]\n",
    "    img = fill(img, w, h)\n",
    "    return img\n",
    "\n",
    "# вертикальное смещение\n",
    "def vertical_shift(img, ratio=0.0):\n",
    "    if ratio > 1 or ratio < 0:\n",
    "        print('Value should be less than 1 and greater than 0')\n",
    "        return img\n",
    "    ratio = random.uniform(-ratio, ratio)\n",
    "    h, w = img.shape[:2]\n",
    "    to_shift = h*ratio\n",
    "    if ratio > 0:\n",
    "        img = img[:int(h-to_shift), :, :]\n",
    "    if ratio < 0:\n",
    "        img = img[int(-1*to_shift):, :, :]\n",
    "    img = fill(img, w, h)\n",
    "    return img\n",
    "\n",
    "# яркость\n",
    "def brightness(img, low, high):\n",
    "    value = random.uniform(low, high)\n",
    "    hsv = cv2.cvtColor(img, cv2.COLOR_BGR2HSV)\n",
    "    hsv = np.array(hsv, dtype = np.float64)\n",
    "    hsv[:,:,1] = hsv[:,:,1]*value\n",
    "    hsv[:,:,1][hsv[:,:,1]>255]  = 255\n",
    "    hsv[:,:,2] = hsv[:,:,2]*value \n",
    "    hsv[:,:,2][hsv[:,:,2]>255]  = 255\n",
    "    hsv = np.array(hsv, dtype = np.uint8)\n",
    "    img = cv2.cvtColor(hsv, cv2.COLOR_HSV2BGR)\n",
    "    return img\n",
    "\n",
    "# вспомогательная\n",
    "def fill(img, h, w):\n",
    "    img = cv2.resize(img, (h, w), cv2.INTER_CUBIC)\n",
    "    return img\n",
    "\n",
    "# зумиррование\n",
    "def zoom(img, value):\n",
    "    if value > 1 or value < 0:\n",
    "        print('Value for zoom should be less than 1 and greater than 0')\n",
    "        return img\n",
    "    value = random.uniform(value, 1)\n",
    "    h, w = img.shape[:2]\n",
    "    h_taken = int(value*h)\n",
    "    w_taken = int(value*w)\n",
    "    h_start = random.randint(0, h-h_taken)\n",
    "    w_start = random.randint(0, w-w_taken)\n",
    "    img = img[h_start:h_start+h_taken, w_start:w_start+w_taken, :]\n",
    "    img = fill(img, w, h)\n",
    "    return img\n",
    "\n",
    "# смещение канала\n",
    "def channel_shift(img, value):\n",
    "    value = int(random.uniform(-value, value))\n",
    "    img = img + value\n",
    "    img[:,:,:][img[:,:,:]>255]  = 255\n",
    "    img[:,:,:][img[:,:,:]<0]  = 0\n",
    "    img = img.astype(np.uint8)\n",
    "    return img\n",
    "\n",
    "# горизонтальное отображение\n",
    "def horizontal_flip(img, flag):\n",
    "    if flag:\n",
    "        return cv2.flip(img, 1)\n",
    "    else:\n",
    "        return img\n",
    "\n",
    "# вертикальное отображение\n",
    "def vertical_flip(img, flag):\n",
    "    if flag:\n",
    "        return cv2.flip(img, 0)\n",
    "    else:\n",
    "        return img\n",
    "\n",
    "#  сдвиг\n",
    "def rotation(img, angle):\n",
    "    angle = int(random.uniform(-angle, angle))\n",
    "    h, w = img.shape[:2]\n",
    "    M = cv2.getRotationMatrix2D((int(w/2), int(h/2)), angle, 1)\n",
    "    img = cv2.warpAffine(img, M, (w, h))\n",
    "    return img"
   ]
  },
  {
   "cell_type": "code",
   "execution_count": 173,
   "metadata": {
    "code_folding": [
     0
    ]
   },
   "outputs": [],
   "source": [
    "# вспомогательные\n",
    "def return_file_name(img_name):\n",
    "    return os.path.join(W_DIR, img_name)"
   ]
  },
  {
   "cell_type": "code",
   "execution_count": 178,
   "metadata": {},
   "outputs": [
    {
     "ename": "KeyboardInterrupt",
     "evalue": "",
     "output_type": "error",
     "traceback": [
      "\u001b[0;31m---------------------------------------------------------------------------\u001b[0m",
      "\u001b[0;31mKeyboardInterrupt\u001b[0m                         Traceback (most recent call last)",
      "\u001b[0;32m<ipython-input-178-1d466c0ffbf2>\u001b[0m in \u001b[0;36m<module>\u001b[0;34m\u001b[0m\n\u001b[1;32m      3\u001b[0m \u001b[0mprefix\u001b[0m \u001b[0;34m=\u001b[0m \u001b[0;34m\"mam\"\u001b[0m\u001b[0;34m\u001b[0m\u001b[0;34m\u001b[0m\u001b[0m\n\u001b[1;32m      4\u001b[0m \u001b[0;34m\u001b[0m\u001b[0m\n\u001b[0;32m----> 5\u001b[0;31m \u001b[0mvideo_to_frames\u001b[0m\u001b[0;34m(\u001b[0m\u001b[0mos\u001b[0m\u001b[0;34m.\u001b[0m\u001b[0mpath\u001b[0m\u001b[0;34m.\u001b[0m\u001b[0mjoin\u001b[0m\u001b[0;34m(\u001b[0m\u001b[0mW_DIR\u001b[0m\u001b[0;34m,\u001b[0m \u001b[0mFile_Name\u001b[0m\u001b[0;34m)\u001b[0m\u001b[0;34m,\u001b[0m\u001b[0mprefix\u001b[0m\u001b[0;34m)\u001b[0m\u001b[0;34m\u001b[0m\u001b[0;34m\u001b[0m\u001b[0m\n\u001b[0m",
      "\u001b[0;32m<ipython-input-176-e239fdc21898>\u001b[0m in \u001b[0;36mvideo_to_frames\u001b[0;34m(video, prefix)\u001b[0m\n\u001b[1;32m     15\u001b[0m             \u001b[0mimg_name\u001b[0m \u001b[0;34m=\u001b[0m \u001b[0;34m'img_%s_%d.png'\u001b[0m \u001b[0;34m%\u001b[0m \u001b[0;34m(\u001b[0m\u001b[0mprefix\u001b[0m\u001b[0;34m,\u001b[0m\u001b[0mcount\u001b[0m\u001b[0;34m)\u001b[0m\u001b[0;34m\u001b[0m\u001b[0;34m\u001b[0m\u001b[0m\n\u001b[1;32m     16\u001b[0m             \u001b[0mimg_path\u001b[0m \u001b[0;34m=\u001b[0m \u001b[0mreturn_file_name\u001b[0m\u001b[0;34m(\u001b[0m\u001b[0mimg_name\u001b[0m\u001b[0;34m)\u001b[0m\u001b[0;34m\u001b[0m\u001b[0;34m\u001b[0m\u001b[0m\n\u001b[0;32m---> 17\u001b[0;31m             \u001b[0mcv2\u001b[0m\u001b[0;34m.\u001b[0m\u001b[0mimwrite\u001b[0m\u001b[0;34m(\u001b[0m\u001b[0mimg_path\u001b[0m\u001b[0;34m,\u001b[0m\u001b[0mimage\u001b[0m\u001b[0;34m)\u001b[0m\u001b[0;34m\u001b[0m\u001b[0;34m\u001b[0m\u001b[0m\n\u001b[0m\u001b[1;32m     18\u001b[0m             \u001b[0;31m#convert_image(img_path)\u001b[0m\u001b[0;34m\u001b[0m\u001b[0;34m\u001b[0m\u001b[0;34m\u001b[0m\u001b[0m\n\u001b[1;32m     19\u001b[0m             \u001b[0;31m#augmentation(img_name)\u001b[0m\u001b[0;34m\u001b[0m\u001b[0;34m\u001b[0m\u001b[0;34m\u001b[0m\u001b[0m\n",
      "\u001b[0;31mKeyboardInterrupt\u001b[0m: "
     ]
    }
   ],
   "source": [
    "W_DIR = \"/Users/alexeyvaganov/doc/files/foto_mp/mam/\"\n",
    "File_Name = \"mam.mov\"\n",
    "prefix = \"mam\"\n",
    "\n",
    "video_to_frames(os.path.join(W_DIR, File_Name),prefix)\n"
   ]
  },
  {
   "cell_type": "code",
   "execution_count": null,
   "metadata": {},
   "outputs": [],
   "source": [
    "W_DIR = \"/Users/alexeyvaganov/doc/files/foto_mp/pap/\"\n",
    "File_Name = \"pap.mov\"\n",
    "prefix = \"pap\"\n",
    "\n",
    "video_to_frames(os.path.join(W_DIR, File_Name),prefix)"
   ]
  }
 ],
 "metadata": {
  "kernelspec": {
   "display_name": "Python 3",
   "language": "python",
   "name": "python3"
  },
  "language_info": {
   "codemirror_mode": {
    "name": "ipython",
    "version": 3
   },
   "file_extension": ".py",
   "mimetype": "text/x-python",
   "name": "python",
   "nbconvert_exporter": "python",
   "pygments_lexer": "ipython3",
   "version": "3.7.6"
  }
 },
 "nbformat": 4,
 "nbformat_minor": 4
}
