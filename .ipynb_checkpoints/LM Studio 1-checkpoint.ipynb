{
 "cells": [
  {
   "cell_type": "code",
   "execution_count": 4,
   "id": "14e9e7c9",
   "metadata": {},
   "outputs": [],
   "source": [
    "from openai._client import OpenAI"
   ]
  },
  {
   "cell_type": "code",
   "execution_count": 5,
   "id": "e2076d1e",
   "metadata": {},
   "outputs": [],
   "source": [
    "# Point to the local server\n",
    "client = OpenAI(base_url=\"http://localhost:1234/v1\", api_key=\"lm-studio\")"
   ]
  },
  {
   "cell_type": "code",
   "execution_count": 7,
   "id": "7c6f4e1e",
   "metadata": {},
   "outputs": [],
   "source": [
    "from langchain import PromptTemplate"
   ]
  },
  {
   "cell_type": "code",
   "execution_count": null,
   "id": "8815b620",
   "metadata": {},
   "outputs": [],
   "source": [
    "template = '''\n",
    "Ответь на вопрос\n",
    "\n",
    "Question: Кто был первый космонавт?\n",
    "\n",
    "Answer: Если не знаешь, ответь Не знаю\n",
    "'''"
   ]
  },
  {
   "cell_type": "code",
   "execution_count": 6,
   "id": "2f3eae2f",
   "metadata": {},
   "outputs": [
    {
     "name": "stdout",
     "output_type": "stream",
     "text": [
      "ChatCompletionMessage(content='\\nПервым космонавтом в мире стал Юрий Алексеевич Гагарин, который совершил полёт на космическом корабле «Восток» 12 апреля 1961 года. Это был первый успешный полёт человека в космос и он продолжался 108 минут.\\n\\nГагарин стал символом достижений советской науки и техники, а также национальным героем Советского Союза. Его полёт открыл новую эру в исследовании космоса и побудил другие страны к созданию своих собственных космических программ.\\n\\nСейчас Гагарин является одним из самых известных космонавтов в мире, а его полёт остается важным этапом в истории человечества и исследования космоса.\"', role='assistant', function_call=None, tool_calls=None)\n"
     ]
    }
   ],
   "source": [
    "#Если не знаешь ответ, ответь: Я не знаю. \n",
    "\n",
    "completion = client.chat.completions.create(\n",
    "  model=\"Ftfyhh/OmniFusion-1.1-gguf\",\n",
    "  messages=[\n",
    "    {\"role\": \"user\", \n",
    "     \"content\": \"\"\"\"Кто был первый космонавт?\"\"\"}\n",
    "  ],\n",
    "  temperature=0.1,\n",
    ")\n",
    "print(completion.choices[0].message)"
   ]
  }
 ],
 "metadata": {
  "kernelspec": {
   "display_name": "Python 3 (ipykernel)",
   "language": "python",
   "name": "python3"
  },
  "language_info": {
   "codemirror_mode": {
    "name": "ipython",
    "version": 3
   },
   "file_extension": ".py",
   "mimetype": "text/x-python",
   "name": "python",
   "nbconvert_exporter": "python",
   "pygments_lexer": "ipython3",
   "version": "3.9.10"
  }
 },
 "nbformat": 4,
 "nbformat_minor": 5
}
