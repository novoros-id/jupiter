{
 "cells": [
  {
   "cell_type": "code",
   "execution_count": 2,
   "metadata": {},
   "outputs": [],
   "source": [
    "import pandas as ps"
   ]
  },
  {
   "cell_type": "code",
   "execution_count": 8,
   "metadata": {},
   "outputs": [
    {
     "name": "stdout",
     "output_type": "stream",
     "text": [
      "total 30280\r\n",
      "-rw-r--r--@ 1 alexeyvaganov  staff  2914558  8 июн 19:58  resolution.numbers\r\n",
      "-rw-r--r--  1 alexeyvaganov  staff     3203  8 июн 22:56 IA resolution from file.ipynb\r\n",
      "-rw-r--r--  1 alexeyvaganov  staff     2252  5 июн 23:54 NLP tutorial.ipynb\r\n",
      "-rw-r--r--  1 alexeyvaganov  staff      728  6 июн 23:26 Untitled.ipynb\r\n",
      "-rw-r--r--@ 1 alexeyvaganov  staff      915  6 июн 20:08 data_rez_test.rtf\r\n",
      "-rw-------@ 1 alexeyvaganov  staff   117428  4 июн 15:13 dracon.xml\r\n",
      "-rw-------@ 1 alexeyvaganov  staff   117428  4 июн 15:13 draconicevolution-en_US (1).xml\r\n",
      "-rw-r--r--  1 alexeyvaganov  staff  4410160  8 июн 20:43 finalized_model.sav\r\n",
      "-rw-r--r--  1 alexeyvaganov  staff  4410160  8 июн 20:44 finalized_model_resolut.sav\r\n",
      "-rw-r--r--  1 alexeyvaganov  staff    75086  8 июн 21:48 finalized_vector_resolut.sav\r\n",
      "-rw-r--r--  1 alexeyvaganov  staff    10029 13 июн 14:39 from site training .ipynb\r\n",
      "-rw-r--r--  1 alexeyvaganov  staff     9168  4 июн 15:41 google_trans.ipynb\r\n",
      "-rw-r--r--  1 alexeyvaganov  staff   158190  8 июн 22:02 nlp resolution from work .ipynb\r\n",
      "-rw-r--r--@ 1 alexeyvaganov  staff   194477  8 июн 15:48 resolution.xlsx\r\n",
      "-rw-r--r--@ 1 alexeyvaganov  staff  1259118  9 июн 11:26 resolution_100.numbers\r\n",
      "-rw-r--r--@ 1 alexeyvaganov  staff    50618  8 июн 20:13 resolution_100.xlsx\r\n",
      "-rw-r--r--  1 alexeyvaganov  staff     7314  7 июн 16:53 test nlp.ipynb\r\n",
      "-rw-r--r--  1 alexeyvaganov  staff     6627 26 май 09:00 test_DS.ipynb\r\n",
      "-rwxr-xr-x@ 1 alexeyvaganov  staff   712731  7 июн 16:49 \u001b[31mtest_nlp.numbers\u001b[m\u001b[m\r\n",
      "-rw-r--r--@ 1 alexeyvaganov  staff     6095  7 июн 16:49 test_nlp.xlsx\r\n",
      "-rw-r--r--@ 1 alexeyvaganov  staff    61194  2 июн 21:44 titanic.csv\r\n",
      "-rw-r--r--  1 alexeyvaganov  staff     7268  5 июн 19:58 tree random class.ipynb\r\n"
     ]
    }
   ],
   "source": [
    "!ls -ll"
   ]
  },
  {
   "cell_type": "code",
   "execution_count": 5,
   "metadata": {},
   "outputs": [],
   "source": [
    "data = ps.read_csv(\"titanic.csv\")"
   ]
  },
  {
   "cell_type": "code",
   "execution_count": 13,
   "metadata": {},
   "outputs": [
    {
     "data": {
      "text/html": [
       "<div>\n",
       "<style scoped>\n",
       "    .dataframe tbody tr th:only-of-type {\n",
       "        vertical-align: middle;\n",
       "    }\n",
       "\n",
       "    .dataframe tbody tr th {\n",
       "        vertical-align: top;\n",
       "    }\n",
       "\n",
       "    .dataframe thead th {\n",
       "        text-align: right;\n",
       "    }\n",
       "</style>\n",
       "<table border=\"1\" class=\"dataframe\">\n",
       "  <thead>\n",
       "    <tr style=\"text-align: right;\">\n",
       "      <th></th>\n",
       "      <th>PassengerId</th>\n",
       "      <th>Survived</th>\n",
       "      <th>Pclass</th>\n",
       "      <th>Name</th>\n",
       "      <th>Sex</th>\n",
       "      <th>Age</th>\n",
       "      <th>SibSp</th>\n",
       "      <th>Parch</th>\n",
       "      <th>Ticket</th>\n",
       "      <th>Fare</th>\n",
       "      <th>Cabin</th>\n",
       "      <th>Embarked</th>\n",
       "    </tr>\n",
       "  </thead>\n",
       "  <tbody>\n",
       "    <tr>\n",
       "      <th>0</th>\n",
       "      <td>1</td>\n",
       "      <td>0</td>\n",
       "      <td>3</td>\n",
       "      <td>Braund, Mr. Owen Harris</td>\n",
       "      <td>male</td>\n",
       "      <td>22.0</td>\n",
       "      <td>1</td>\n",
       "      <td>0</td>\n",
       "      <td>A/5 21171</td>\n",
       "      <td>7.2500</td>\n",
       "      <td>NaN</td>\n",
       "      <td>S</td>\n",
       "    </tr>\n",
       "    <tr>\n",
       "      <th>1</th>\n",
       "      <td>2</td>\n",
       "      <td>1</td>\n",
       "      <td>1</td>\n",
       "      <td>Cumings, Mrs. John Bradley (Florence Briggs Th...</td>\n",
       "      <td>female</td>\n",
       "      <td>38.0</td>\n",
       "      <td>1</td>\n",
       "      <td>0</td>\n",
       "      <td>PC 17599</td>\n",
       "      <td>71.2833</td>\n",
       "      <td>C85</td>\n",
       "      <td>C</td>\n",
       "    </tr>\n",
       "    <tr>\n",
       "      <th>2</th>\n",
       "      <td>3</td>\n",
       "      <td>1</td>\n",
       "      <td>3</td>\n",
       "      <td>Heikkinen, Miss. Laina</td>\n",
       "      <td>female</td>\n",
       "      <td>26.0</td>\n",
       "      <td>0</td>\n",
       "      <td>0</td>\n",
       "      <td>STON/O2. 3101282</td>\n",
       "      <td>7.9250</td>\n",
       "      <td>NaN</td>\n",
       "      <td>S</td>\n",
       "    </tr>\n",
       "  </tbody>\n",
       "</table>\n",
       "</div>"
      ],
      "text/plain": [
       "   PassengerId  Survived  Pclass  \\\n",
       "0            1         0       3   \n",
       "1            2         1       1   \n",
       "2            3         1       3   \n",
       "\n",
       "                                                Name     Sex   Age  SibSp  \\\n",
       "0                            Braund, Mr. Owen Harris    male  22.0      1   \n",
       "1  Cumings, Mrs. John Bradley (Florence Briggs Th...  female  38.0      1   \n",
       "2                             Heikkinen, Miss. Laina  female  26.0      0   \n",
       "\n",
       "   Parch            Ticket     Fare Cabin Embarked  \n",
       "0      0         A/5 21171   7.2500   NaN        S  \n",
       "1      0          PC 17599  71.2833   C85        C  \n",
       "2      0  STON/O2. 3101282   7.9250   NaN        S  "
      ]
     },
     "execution_count": 13,
     "metadata": {},
     "output_type": "execute_result"
    }
   ],
   "source": [
    "data.iloc[0:3]"
   ]
  },
  {
   "cell_type": "code",
   "execution_count": null,
   "metadata": {},
   "outputs": [],
   "source": []
  }
 ],
 "metadata": {
  "kernelspec": {
   "display_name": "Python 3",
   "language": "python",
   "name": "python3"
  },
  "language_info": {
   "codemirror_mode": {
    "name": "ipython",
    "version": 3
   },
   "file_extension": ".py",
   "mimetype": "text/x-python",
   "name": "python",
   "nbconvert_exporter": "python",
   "pygments_lexer": "ipython3",
   "version": "3.7.6"
  }
 },
 "nbformat": 4,
 "nbformat_minor": 4
}
