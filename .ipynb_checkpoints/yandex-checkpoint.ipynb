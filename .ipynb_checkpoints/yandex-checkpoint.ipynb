{
 "cells": [
  {
   "cell_type": "code",
   "execution_count": 1,
   "metadata": {},
   "outputs": [],
   "source": [
    "#!L\n",
    "#from music21 import converter, instrument, note, chord\n",
    "from keras.models import Sequential\n",
    "from keras.layers import Dense\n",
    "from keras.layers import Dropout\n",
    "from keras.layers import LSTM\n",
    "from keras.layers import Activation\n",
    "from keras.layers import BatchNormalization as BatchNorm\n",
    "from keras.utils import np_utils\n",
    "from keras.callbacks import ModelCheckpoint\n",
    "import pandas as pd\n",
    "import numpy as np"
   ]
  },
  {
   "cell_type": "code",
   "execution_count": null,
   "metadata": {},
   "outputs": [],
   "source": [
    "/Users/alexeyvaganov/doc/files/weights_rytm.hdf5"
   ]
  },
  {
   "cell_type": "code",
   "execution_count": 2,
   "metadata": {},
   "outputs": [],
   "source": [
    "def create_network():\n",
    "    \n",
    "# \"\"\" create the structure of the neural network \"\"\"\n",
    "\n",
    "    model = Sequential()\n",
    "    model.add(LSTM(\n",
    "    512,\n",
    "    input_shape=(16, 1),\n",
    "        recurrent_dropout=0.3,\n",
    "        return_sequences=True\n",
    "        ))\n",
    "    model.add(LSTM(512, return_sequences=True, recurrent_dropout=0.3,))\n",
    "    model.add(LSTM(512))\n",
    "    model.add(BatchNorm())\n",
    "    model.add(Dropout(0.3))\n",
    "    model.add(Dense(256))\n",
    "    model.add(Activation('relu'))\n",
    "    model.add(BatchNorm())\n",
    "    model.add(Dropout(0.3))\n",
    "    model.add(Dense(29))\n",
    "    model.add(Activation('softmax'))\n",
    "    model.compile(loss='categorical_crossentropy', optimizer='adam')\n",
    "    \n",
    "    return model"
   ]
  },
  {
   "cell_type": "code",
   "execution_count": null,
   "metadata": {},
   "outputs": [],
   "source": [
    "def prepare_sequences_vgn(notes, n_vocab, notes_takt):\n",
    "    \"\"\" Prepare the sequences used by the Neural Network \"\"\"\n",
    "    sequence_length = 16\n",
    "\n",
    "    # get all pitch names\n",
    "    pitchnames = sorted(set(item for item in notes))\n",
    "\n",
    "     # create a dictionary to map pitches to integers\n",
    "    note_to_int = dict((note, number) for number, note in enumerate(pitchnames))\n",
    "\n",
    "    network_input = []\n",
    "    network_output = []\n",
    "\n",
    "    # create input sequences and the corresponding outputs\n",
    "    for notes_ in notes_takt: \n",
    "        for i in range(0, len(notes_) - sequence_length, 1):\n",
    "            sequence_in = notes[i:i + sequence_length]\n",
    "            sequence_out = notes_[i + sequence_length]\n",
    "            network_input.append([note_to_int[char] for char in sequence_in])\n",
    "            network_output.append(note_to_int[sequence_out])\n",
    "\n",
    "    n_patterns = len(network_input)\n",
    "\n",
    "    # reshape the input into a format compatible with LSTM layers\n",
    "    network_input = np.reshape(network_input, (n_patterns, sequence_length, 1))\n",
    "    # normalize input\n",
    "    network_input = network_input / float(n_vocab)\n",
    "\n",
    "    network_output = np_utils.to_categorical(network_output)\n",
    "\n",
    "    return (network_input, network_output)"
   ]
  },
  {
   "cell_type": "code",
   "execution_count": 3,
   "metadata": {},
   "outputs": [],
   "source": [
    "model = create_network()"
   ]
  },
  {
   "cell_type": "code",
   "execution_count": 4,
   "metadata": {},
   "outputs": [],
   "source": [
    "model.load_weights(\"/Users/alexeyvaganov/doc/files/weights_rytm.hdf5\")"
   ]
  },
  {
   "cell_type": "code",
   "execution_count": 8,
   "metadata": {},
   "outputs": [],
   "source": [
    "df_test = pd.read_csv(\"/Users/alexeyvaganov/doc/files/df_test\")"
   ]
  },
  {
   "cell_type": "code",
   "execution_count": 10,
   "metadata": {},
   "outputs": [],
   "source": [
    "notes = []\n",
    "df_part = df_test[0:10]\n",
    "for index, row in df_test.iterrows():\n",
    "    for c_ in row[\"R1\"]:\n",
    "        notes.append(c_)\n",
    "    for c_ in row[\"R2\"]:\n",
    "        notes.append(c_)\n",
    "    for c_ in row[\"R3\"]:\n",
    "        notes.append(c_)\n",
    "    for c_ in row[\"R4\"]:\n",
    "        notes.append(c_)\n",
    "    for c_ in row[\"R5\"]:\n",
    "        notes.append(c_)\n",
    "    for c_ in row[\"R6\"]:\n",
    "        notes.append(c_)\n",
    "    for c_ in row[\"R7\"]:\n",
    "        notes.append(c_)\n",
    "    for c_ in row[\"R8\"]:\n",
    "        notes.append(c_)"
   ]
  },
  {
   "cell_type": "code",
   "execution_count": 11,
   "metadata": {},
   "outputs": [],
   "source": [
    "notes_takt = []\n",
    "df_part = df_test[0:10]\n",
    "for index, row in df_test.iterrows():\n",
    "    notes_one_pr = []\n",
    "    \n",
    "    for c_ in row[\"R1\"]:\n",
    "        notes_one_pr.append(c_)\n",
    "    for c_ in row[\"R2\"]:\n",
    "        notes_one_pr.append(c_)\n",
    "    for c_ in row[\"R3\"]:\n",
    "        notes_one_pr.append(c_)\n",
    "    for c_ in row[\"R4\"]:\n",
    "        notes_one_pr.append(c_)\n",
    "    for c_ in row[\"R5\"]:\n",
    "        notes_one_pr.append(c_)\n",
    "    for c_ in row[\"R6\"]:\n",
    "        notes_one_pr.append(c_)\n",
    "    for c_ in row[\"R7\"]:\n",
    "        notes_one_pr.append(c_)\n",
    "    for c_ in row[\"R8\"]:\n",
    "        notes_one_pr.append(c_)\n",
    "        \n",
    "    notes_takt.append(notes_one_pr)"
   ]
  },
  {
   "cell_type": "code",
   "execution_count": null,
   "metadata": {},
   "outputs": [],
   "source": [
    "n_vocab = len(set(notes))\n",
    "\n",
    "network_input, network_output = prepare_sequences_vgn(notes, n_vocab,notes_takt)"
   ]
  }
 ],
 "metadata": {
  "kernelspec": {
   "display_name": "Python 3",
   "language": "python",
   "name": "python3"
  },
  "language_info": {
   "codemirror_mode": {
    "name": "ipython",
    "version": 3
   },
   "file_extension": ".py",
   "mimetype": "text/x-python",
   "name": "python",
   "nbconvert_exporter": "python",
   "pygments_lexer": "ipython3",
   "version": "3.7.6"
  }
 },
 "nbformat": 4,
 "nbformat_minor": 4
}
