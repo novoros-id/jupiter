{
 "cells": [
  {
   "cell_type": "code",
   "execution_count": 14,
   "id": "f399efba",
   "metadata": {},
   "outputs": [],
   "source": [
    "from langchain.document_loaders import PyPDFLoader\n",
    "from langchain.text_splitter import (\n",
    "    RecursiveCharacterTextSplitter,\n",
    ")\n",
    "from chromadb.config import Settings\n",
    "from langchain.vectorstores import Chroma\n",
    "\n",
    "from langchain.embeddings import HuggingFaceEmbeddings\n",
    "\n",
    "import os\n",
    "\n",
    "# Если у вас нет видеокарты, укажите 'device': 'cpu'\n",
    "hf_embeddings_model = HuggingFaceEmbeddings(\n",
    "    model_name=\"cointegrated/LaBSE-en-ru\", model_kwargs={\"device\": \"cpu\"}\n",
    ")"
   ]
  },
  {
   "cell_type": "code",
   "execution_count": 15,
   "id": "040c10f6",
   "metadata": {},
   "outputs": [],
   "source": [
    "# specify the directory where Chroma will build the vector db\n",
    "CHROMA_DB_DIRECTORY='db'\n",
    "\n",
    "# specify where the source documents are\n",
    "DOCUMENT_SOURCE_DIRECTORY='/path/to/source/documents'\n",
    "\n",
    "# settings include things like which database backend chroma will use\n",
    "# here we will be using duck db\n",
    "# and document will be stored under db\n",
    "# with no telemetry (i.e. nothing will be tracked)\n",
    "\n",
    "CHROMA_SETTINGS = Settings(\n",
    "    chroma_db_impl='duckdb+parquet',\n",
    "    persist_directory=CHROMA_DB_DIRECTORY,\n",
    "    anonymized_telemetry=False\n",
    ")\n",
    "\n",
    "# target number of relevant chunks to return \n",
    "TARGET_SOURCE_CHUNKS=4\n",
    "\n",
    "# the number of characters that will make up a chunk\n",
    "CHUNK_SIZE=3000\n",
    "\n",
    "# the number of overlapping characters to maintain the chunk\n",
    "# continuity\n",
    "CHUNK_OVERLAP=50\n",
    "\n",
    "# whether to show or hide specific documents while LLM giving response\n",
    "# i.e. whether we need to show the document sources that our LLM\n",
    "# referred while giving the answer \n",
    "\n",
    "HIDE_SOURCE_DOCUMENTS=False"
   ]
  },
  {
   "cell_type": "code",
   "execution_count": 2,
   "id": "b75f22c2",
   "metadata": {},
   "outputs": [
    {
     "name": "stderr",
     "output_type": "stream",
     "text": [
      "Ignoring wrong pointing object 6 0 (offset 0)\n",
      "Ignoring wrong pointing object 8 0 (offset 0)\n",
      "Ignoring wrong pointing object 10 0 (offset 0)\n",
      "Ignoring wrong pointing object 12 0 (offset 0)\n"
     ]
    }
   ],
   "source": [
    "# Loader\n",
    "loader = PyPDFLoader(\"/Users/alexeyvaganov/Downloads/ЗНР_1_+6.pdf\")\n",
    "documents = loader.load()\n",
    "\n",
    "\n",
    "\n"
   ]
  },
  {
   "cell_type": "code",
   "execution_count": 7,
   "id": "a19313bf",
   "metadata": {},
   "outputs": [
    {
     "data": {
      "text/plain": [
       "[Document(page_content='ЗНР на Требование 9.101 Основной процесс Требование Номер ФТ Отражение хозяйственных операций Формирование отчета. Project Commitment line items - PO WBS. Отчет для отслеживания заказов по WBS 9,101  1. Необходимо скопировать (сделать отдельный отчет) Отчет Overdue Open Commitment в Подсистему Внеоборотные активы – Отчеты по Внеоборотным активам 2. В Отчет необходимо внести изменение и поменять перечень подразделений на Подразделения WBS AUC (сейчас там WBS MI) 3. Необходимо сделать отбор по аналитике статья расходов: «на стоимость внеоборотного атива» (сейчас в отчете другие отборы по статьям – их надо убрать)  \\n \\n 4. Добавить в колонки отчета дополнительные столбцы:  5. Создать роль на редактирование и просмотр отчета   \\n', metadata={'source': '/Users/alexeyvaganov/Downloads/ЗНР_1_+6.pdf', 'page': 0})]"
      ]
     },
     "execution_count": 7,
     "metadata": {},
     "output_type": "execute_result"
    }
   ],
   "source": [
    "documents"
   ]
  },
  {
   "cell_type": "code",
   "execution_count": 4,
   "id": "6ec385f8",
   "metadata": {},
   "outputs": [
    {
     "name": "stdout",
     "output_type": "stream",
     "text": [
      "Total documents: 1\n"
     ]
    }
   ],
   "source": [
    "# text_splitter = RecursiveCharacterTextSplitter(\n",
    "#     chunk_size=1000,\n",
    "#     chunk_overlap=200,\n",
    "# )\n",
    "# documents = text_splitter.split_documents(documents)\n",
    "print(f\"Total documents: {len(documents)}\")"
   ]
  },
  {
   "cell_type": "code",
   "execution_count": 11,
   "id": "06c35175",
   "metadata": {},
   "outputs": [],
   "source": [
    "def is_pdf(file_path):\n",
    "    \"\"\"Проверяет, является ли файл формата PDF.\"\"\"\n",
    "    _, extension = os.path.splitext(file_path)\n",
    "    return extension == '.pdf'"
   ]
  },
  {
   "cell_type": "code",
   "execution_count": 13,
   "id": "d7a8f530",
   "metadata": {},
   "outputs": [
    {
     "name": "stdout",
     "output_type": "stream",
     "text": [
      "Файл является PDF.\n",
      "Файл является PDF.\n",
      "Файл является PDF.\n",
      "Файл является PDF.\n",
      "Файл является PDF.\n",
      "Файл является PDF.\n",
      "Файл является PDF.\n",
      "Файл является PDF.\n",
      "Файл является PDF.\n",
      "Файл является PDF.\n",
      "Файл является PDF.\n",
      "Файл является PDF.\n",
      "Файл является PDF.\n"
     ]
    }
   ],
   "source": [
    "directory_path = '/Users/alexeyvaganov/doc/1C/ZNR'\n",
    "files = os.listdir(directory_path)\n",
    "\n",
    "for file in files:\n",
    "    if os.path.isfile(os.path.join(directory_path, file)):\n",
    "        if is_pdf(file):\n",
    "            print(\"Файл является PDF.\")\n",
    "        else:\n",
    "            print(\"Файл не является PDF.\")"
   ]
  },
  {
   "cell_type": "code",
   "execution_count": 5,
   "id": "7c71109f",
   "metadata": {},
   "outputs": [],
   "source": [
    "#  Загрузка в баз\n",
    "db = Chroma.from_documents(\n",
    "    documents,\n",
    "    hf_embeddings_model,\n",
    "    client_settings=Settings(anonymized_telemetry=False),\n",
    ")"
   ]
  }
 ],
 "metadata": {
  "kernelspec": {
   "display_name": "Python 3 (ipykernel)",
   "language": "python",
   "name": "python3"
  },
  "language_info": {
   "codemirror_mode": {
    "name": "ipython",
    "version": 3
   },
   "file_extension": ".py",
   "mimetype": "text/x-python",
   "name": "python",
   "nbconvert_exporter": "python",
   "pygments_lexer": "ipython3",
   "version": "3.9.10"
  }
 },
 "nbformat": 4,
 "nbformat_minor": 5
}
