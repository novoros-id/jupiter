{
 "cells": [
  {
   "cell_type": "code",
   "execution_count": 13,
   "id": "31ca6b29",
   "metadata": {},
   "outputs": [],
   "source": [
    "def del_additional_signs(string):\n",
    "    words = string.split()\n",
    "    cleaned_words = []\n",
    "    \n",
    "    for word in words:\n",
    "        cleaned_word = ''\n",
    "        end_sign_found = False\n",
    "        for i, char in enumerate(word):\n",
    "            if i == len(word) - 1 and (char == '?' or char == '!') and not end_sign_found:\n",
    "                cleaned_word += char\n",
    "                end_sign_found = True\n",
    "            elif (char == '?' or char == '!'):\n",
    "                continue\n",
    "            else:\n",
    "                cleaned_word += char\n",
    "        cleaned_words.append(cleaned_word)\n",
    "    \n",
    "    return ' '.join(cleaned_words)\n"
   ]
  },
  {
   "cell_type": "code",
   "execution_count": 14,
   "id": "aff7b2d0",
   "metadata": {},
   "outputs": [
    {
     "name": "stdout",
     "output_type": "stream",
     "text": [
      "КРУТО! Где снаряды?\n"
     ]
    }
   ],
   "source": [
    "# Example Usage\n",
    "input_string = \"!!!!!КРУТО!!!!! Где снаряды?????????\"\n",
    "cleaned_string = del_additional_signs(input_string)\n",
    "print(cleaned_string)"
   ]
  }
 ],
 "metadata": {
  "kernelspec": {
   "display_name": "Python 3 (ipykernel)",
   "language": "python",
   "name": "python3"
  },
  "language_info": {
   "codemirror_mode": {
    "name": "ipython",
    "version": 3
   },
   "file_extension": ".py",
   "mimetype": "text/x-python",
   "name": "python",
   "nbconvert_exporter": "python",
   "pygments_lexer": "ipython3",
   "version": "3.9.10"
  }
 },
 "nbformat": 4,
 "nbformat_minor": 5
}
