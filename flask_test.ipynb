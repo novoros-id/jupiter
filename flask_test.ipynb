{
 "cells": [
  {
   "cell_type": "code",
   "execution_count": 11,
   "id": "6211977a",
   "metadata": {},
   "outputs": [],
   "source": [
    "from flask import Flask, request, jsonify"
   ]
  },
  {
   "cell_type": "code",
   "execution_count": 9,
   "id": "d4295064",
   "metadata": {},
   "outputs": [
    {
     "name": "stdout",
     "output_type": "stream",
     "text": [
      "Python 3.9.10\r\n"
     ]
    }
   ],
   "source": [
    "!python --version"
   ]
  },
  {
   "cell_type": "code",
   "execution_count": 10,
   "id": "8a4d82a3",
   "metadata": {},
   "outputs": [
    {
     "name": "stdout",
     "output_type": "stream",
     "text": [
      " * Serving Flask app '__main__'\n",
      " * Debug mode: on\n"
     ]
    },
    {
     "name": "stderr",
     "output_type": "stream",
     "text": [
      "WARNING: This is a development server. Do not use it in a production deployment. Use a production WSGI server instead.\n",
      " * Running on http://127.0.0.1:5005\n",
      "Press CTRL+C to quit\n",
      " * Restarting with stat\n",
      "Traceback (most recent call last):\n",
      "  File \"/Users/alexeyvaganov/miniforge3/lib/python3.9/site-packages/ipykernel_launcher.py\", line 17, in <module>\n",
      "    app.launch_new_instance()\n",
      "  File \"/Users/alexeyvaganov/miniforge3/lib/python3.9/site-packages/traitlets/config/application.py\", line 971, in launch_instance\n",
      "    app.initialize(argv)\n",
      "  File \"/Users/alexeyvaganov/miniforge3/lib/python3.9/site-packages/traitlets/config/application.py\", line 107, in inner\n",
      "    return method(app, *args, **kwargs)\n",
      "  File \"/Users/alexeyvaganov/miniforge3/lib/python3.9/site-packages/ipykernel/kernelapp.py\", line 666, in initialize\n",
      "    self.init_sockets()\n",
      "  File \"/Users/alexeyvaganov/miniforge3/lib/python3.9/site-packages/ipykernel/kernelapp.py\", line 307, in init_sockets\n",
      "    self.shell_port = self._bind_socket(self.shell_socket, self.shell_port)\n",
      "  File \"/Users/alexeyvaganov/miniforge3/lib/python3.9/site-packages/ipykernel/kernelapp.py\", line 244, in _bind_socket\n",
      "    return self._try_bind_socket(s, port)\n",
      "  File \"/Users/alexeyvaganov/miniforge3/lib/python3.9/site-packages/ipykernel/kernelapp.py\", line 220, in _try_bind_socket\n",
      "    s.bind(\"tcp://%s:%i\" % (self.ip, port))\n",
      "  File \"/Users/alexeyvaganov/miniforge3/lib/python3.9/site-packages/zmq/sugar/socket.py\", line 226, in bind\n",
      "    super().bind(addr)\n",
      "  File \"zmq/backend/cython/socket.pyx\", line 562, in zmq.backend.cython.socket.Socket.bind\n",
      "  File \"zmq/backend/cython/checkrc.pxd\", line 28, in zmq.backend.cython.checkrc._check_rc\n",
      "zmq.error.ZMQError: Address already in use\n"
     ]
    },
    {
     "ename": "SystemExit",
     "evalue": "1",
     "output_type": "error",
     "traceback": [
      "An exception has occurred, use %tb to see the full traceback.\n",
      "\u001b[0;31mSystemExit\u001b[0m\u001b[0;31m:\u001b[0m 1\n"
     ]
    }
   ],
   "source": [
    "app = Flask(__name__)\n",
    "\n",
    "@app.route('/increment', methods=['POST'])\n",
    "def increment_num():\n",
    "    \"\"\"\n",
    "    Принимает JSON с полями id и num, увеличивает num на 1 и возвращает обновленный JSON.\n",
    "\n",
    "    Пример входного JSON:\n",
    "    {\n",
    "        \"id\": 1,\n",
    "        \"num\": 42\n",
    "    }\n",
    "\n",
    "    Пример выходного JSON:\n",
    "    {\n",
    "        \"id\": 1,\n",
    "        \"num\": 43\n",
    "    }\n",
    "    \"\"\"\n",
    "    data = request.get_json()\n",
    "    if 'id' not in data or 'num' not in data:\n",
    "        return jsonify({\"error\": \"Invalid input, id and num are required\"}), 400\n",
    "    \n",
    "    try:\n",
    "        data['num'] = data['num'] + 1\n",
    "    except TypeError:\n",
    "        return jsonify({\"error\": \"num must be a number\"}), 400\n",
    "\n",
    "    return jsonify(data)\n",
    "\n",
    "if __name__ == '__main__':\n",
    "    app.run(port=5005,debug=True)\n"
   ]
  }
 ],
 "metadata": {
  "kernelspec": {
   "display_name": "Python 3 (ipykernel)",
   "language": "python",
   "name": "python3"
  },
  "language_info": {
   "codemirror_mode": {
    "name": "ipython",
    "version": 3
   },
   "file_extension": ".py",
   "mimetype": "text/x-python",
   "name": "python",
   "nbconvert_exporter": "python",
   "pygments_lexer": "ipython3",
   "version": "3.9.10"
  }
 },
 "nbformat": 4,
 "nbformat_minor": 5
}
