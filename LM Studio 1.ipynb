{
 "cells": [
  {
   "cell_type": "code",
   "execution_count": 35,
   "id": "b0caf627",
   "metadata": {},
   "outputs": [],
   "source": [
    "from openai._client import OpenAI"
   ]
  },
  {
   "cell_type": "code",
   "execution_count": 36,
   "id": "a34fe68a",
   "metadata": {},
   "outputs": [],
   "source": [
    "# Point to the local server\n",
    "client = OpenAI(base_url=\"http://localhost:1234/v1\", api_key=\"lm-studio\")"
   ]
  },
  {
   "cell_type": "code",
   "execution_count": 37,
   "id": "07807001",
   "metadata": {},
   "outputs": [
    {
     "name": "stdout",
     "output_type": "stream",
     "text": [
      "ChatCompletionMessage(content=\"\\n```python\\ndef is_work_offer(context, question):\\n    # Extract the message from the context\\n    message = context.get('message')\\n\\n    # Check if the message contains a work offer\\n    if 'работа' in message or 'заработок' in message:\\n        return 1\\n    else:\\n        return 0\\n```\", role='assistant', function_call=None, tool_calls=None)\n"
     ]
    }
   ],
   "source": [
    "completion = client.chat.completions.create(\n",
    "  model=\"Ftfyhh/OmniFusion-1.1-gguf\",\n",
    "  messages=[\n",
    "    {\"role\": \"user\", \n",
    "     \"content\": \"\"\"\"Определи, содержит ли сообщение в контексте предложение работы. Если содержит ответь 1, если не содержит ответь 0\n",
    "\n",
    "Контекст: Предлагаю заработок. быстро безопасно\n",
    "\n",
    "Вопрос: Содержит ли сообщение предложение работы?\"\"\"}\n",
    "  ],\n",
    "  temperature=0.1,\n",
    ")\n",
    "print(completion.choices[0].message)"
   ]
  },
  {
   "cell_type": "code",
   "execution_count": 34,
   "id": "5dfa449e",
   "metadata": {},
   "outputs": [
    {
     "name": "stdout",
     "output_type": "stream",
     "text": [
      "[Choice(finish_reason='stop', index=0, logprobs=None, message=ChatCompletionMessage(content=\"\\n```python\\ndef is_work_offer(context, question):\\n    # Extract the message from the context\\n    message = context.get('message')\\n\\n    # Check if the message contains a work offer\\n    if 'работа' in message or 'заработок' in message:\\n        return 1\\n    else:\\n        return 0\\n```\", role='assistant', function_call=None, tool_calls=None))]\n"
     ]
    }
   ],
   "source": [
    "print(completion.choices)"
   ]
  },
  {
   "cell_type": "code",
   "execution_count": 7,
   "id": "ae46b249",
   "metadata": {},
   "outputs": [],
   "source": [
    "from langchain import PromptTemplate"
   ]
  },
  {
   "cell_type": "code",
   "execution_count": 22,
   "id": "62c45391",
   "metadata": {},
   "outputs": [],
   "source": [
    "template = '''\n",
    "Определи, содержит ли сообщение в контексте предложение работы. Если содержит ответь 5, если не содержит ответь 6\n",
    "\n",
    "Context: {context}\n",
    "\n",
    "Question: Содержит ли сообщение предложение работы?\n",
    "\n",
    "Answer: Верни только одно число, без текста\n",
    "'''"
   ]
  },
  {
   "cell_type": "code",
   "execution_count": 23,
   "id": "b1615cb5",
   "metadata": {},
   "outputs": [],
   "source": [
    "prompt_template = PromptTemplate(\n",
    "    input_variables=[\"context\"],\n",
    "    template=template\n",
    ")"
   ]
  },
  {
   "cell_type": "code",
   "execution_count": 24,
   "id": "f8a3e7d5",
   "metadata": {},
   "outputs": [],
   "source": [
    "context = \"Предлагаю заработок, быстро и безопасно\"\n",
    "prompt = prompt_template.format(\n",
    "                    context=context)"
   ]
  },
  {
   "cell_type": "code",
   "execution_count": 25,
   "id": "a41d91ea",
   "metadata": {},
   "outputs": [
    {
     "name": "stdout",
     "output_type": "stream",
     "text": [
      "ChatCompletionMessage(content='\\n```python\\nimport re\\n\\ncontext = \"Предлагаю заработок, быстро и безопасно\"\\nquestion = \"Содержит ли сообщение предложение работы?\"\\nanswer = 5 if re.search(r\\'работа\\', context) else 6\\nprint(answer)\\n```', role='assistant', function_call=None, tool_calls=None)\n"
     ]
    }
   ],
   "source": [
    "completion = client.chat.completions.create(\n",
    "  model=\"Ftfyhh/OmniFusion-1.1-gguf\",\n",
    "  messages=[\n",
    "    {\"role\": \"user\", \n",
    "     \"content\": prompt}\n",
    "  ],\n",
    "  temperature=0.1,\n",
    ")\n",
    "print(completion.choices[0].message)"
   ]
  },
  {
   "cell_type": "code",
   "execution_count": 6,
   "id": "312069eb",
   "metadata": {},
   "outputs": [
    {
     "name": "stdout",
     "output_type": "stream",
     "text": [
      "ChatCompletionMessage(content='\\nПервым космонавтом в мире стал Юрий Алексеевич Гагарин, который совершил полёт на космическом корабле «Восток» 12 апреля 1961 года. Это был первый успешный полёт человека в космос и он продолжался 108 минут.\\n\\nГагарин стал символом достижений советской науки и техники, а также национальным героем Советского Союза. Его полёт открыл новую эру в исследовании космоса и побудил другие страны к созданию своих собственных космических программ.\\n\\nСейчас Гагарин является одним из самых известных космонавтов в мире, а его полёт остается важным этапом в истории человечества и исследования космоса.\"', role='assistant', function_call=None, tool_calls=None)\n"
     ]
    }
   ],
   "source": [
    "#Если не знаешь ответ, ответь: Я не знаю. \n",
    "\n",
    "completion = client.chat.completions.create(\n",
    "  model=\"Ftfyhh/OmniFusion-1.1-gguf\",\n",
    "  messages=[\n",
    "    {\"role\": \"user\", \n",
    "     \"content\": \"\"\"\"Кто был первый космонавт?\"\"\"}\n",
    "  ],\n",
    "  temperature=0.1,\n",
    ")\n",
    "print(completion.choices[0].message)"
   ]
  }
 ],
 "metadata": {
  "kernelspec": {
   "display_name": "Python 3 (ipykernel)",
   "language": "python",
   "name": "python3"
  },
  "language_info": {
   "codemirror_mode": {
    "name": "ipython",
    "version": 3
   },
   "file_extension": ".py",
   "mimetype": "text/x-python",
   "name": "python",
   "nbconvert_exporter": "python",
   "pygments_lexer": "ipython3",
   "version": "3.9.10"
  }
 },
 "nbformat": 4,
 "nbformat_minor": 5
}
