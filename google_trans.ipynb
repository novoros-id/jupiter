{
 "cells": [
  {
   "cell_type": "code",
   "execution_count": 1,
   "metadata": {},
   "outputs": [],
   "source": [
    "import googletrans"
   ]
  },
  {
   "cell_type": "code",
   "execution_count": 2,
   "metadata": {},
   "outputs": [
    {
     "name": "stdout",
     "output_type": "stream",
     "text": [
      "{'af': 'afrikaans', 'sq': 'albanian', 'am': 'amharic', 'ar': 'arabic', 'hy': 'armenian', 'az': 'azerbaijani', 'eu': 'basque', 'be': 'belarusian', 'bn': 'bengali', 'bs': 'bosnian', 'bg': 'bulgarian', 'ca': 'catalan', 'ceb': 'cebuano', 'ny': 'chichewa', 'zh-cn': 'chinese (simplified)', 'zh-tw': 'chinese (traditional)', 'co': 'corsican', 'hr': 'croatian', 'cs': 'czech', 'da': 'danish', 'nl': 'dutch', 'en': 'english', 'eo': 'esperanto', 'et': 'estonian', 'tl': 'filipino', 'fi': 'finnish', 'fr': 'french', 'fy': 'frisian', 'gl': 'galician', 'ka': 'georgian', 'de': 'german', 'el': 'greek', 'gu': 'gujarati', 'ht': 'haitian creole', 'ha': 'hausa', 'haw': 'hawaiian', 'iw': 'hebrew', 'hi': 'hindi', 'hmn': 'hmong', 'hu': 'hungarian', 'is': 'icelandic', 'ig': 'igbo', 'id': 'indonesian', 'ga': 'irish', 'it': 'italian', 'ja': 'japanese', 'jw': 'javanese', 'kn': 'kannada', 'kk': 'kazakh', 'km': 'khmer', 'ko': 'korean', 'ku': 'kurdish (kurmanji)', 'ky': 'kyrgyz', 'lo': 'lao', 'la': 'latin', 'lv': 'latvian', 'lt': 'lithuanian', 'lb': 'luxembourgish', 'mk': 'macedonian', 'mg': 'malagasy', 'ms': 'malay', 'ml': 'malayalam', 'mt': 'maltese', 'mi': 'maori', 'mr': 'marathi', 'mn': 'mongolian', 'my': 'myanmar (burmese)', 'ne': 'nepali', 'no': 'norwegian', 'ps': 'pashto', 'fa': 'persian', 'pl': 'polish', 'pt': 'portuguese', 'pa': 'punjabi', 'ro': 'romanian', 'ru': 'russian', 'sm': 'samoan', 'gd': 'scots gaelic', 'sr': 'serbian', 'st': 'sesotho', 'sn': 'shona', 'sd': 'sindhi', 'si': 'sinhala', 'sk': 'slovak', 'sl': 'slovenian', 'so': 'somali', 'es': 'spanish', 'su': 'sundanese', 'sw': 'swahili', 'sv': 'swedish', 'tg': 'tajik', 'ta': 'tamil', 'te': 'telugu', 'th': 'thai', 'tr': 'turkish', 'uk': 'ukrainian', 'ur': 'urdu', 'uz': 'uzbek', 'vi': 'vietnamese', 'cy': 'welsh', 'xh': 'xhosa', 'yi': 'yiddish', 'yo': 'yoruba', 'zu': 'zulu', 'fil': 'Filipino', 'he': 'Hebrew'}\n"
     ]
    }
   ],
   "source": [
    "print(googletrans.LANGUAGES)"
   ]
  },
  {
   "cell_type": "code",
   "execution_count": 6,
   "metadata": {},
   "outputs": [],
   "source": [
    "from googletrans import Translator\n",
    "trans = Translator()"
   ]
  },
  {
   "cell_type": "code",
   "execution_count": 10,
   "metadata": {},
   "outputs": [
    {
     "name": "stdout",
     "output_type": "stream",
     "text": [
      "Привет\n"
     ]
    }
   ],
   "source": [
    "result = trans.translate('Hello', src='en', dest='ru')\n",
    "print(result.text)"
   ]
  },
  {
   "cell_type": "code",
   "execution_count": 15,
   "metadata": {},
   "outputs": [],
   "source": [
    "import xml.etree.ElementTree as ET\n",
    "tree = ET.parse('dracon.xml')\n",
    "root = tree.getroot()"
   ]
  },
  {
   "cell_type": "code",
   "execution_count": 26,
   "metadata": {},
   "outputs": [
    {
     "name": "stdout",
     "output_type": "stream",
     "text": [
      "§6Robert W\n",
      "§r(Since 08/06/2015)§r\n",
      "\n",
      "§6pxoxd\n",
      "§r(Since 10/12/2015)§r\n",
      "\n",
      "§6antric83\n",
      "§r(Since 14/04/2016)§r\n",
      "\n",
      "§6SassyAmber\n",
      "§r(Since 25/05/2016)§r\n",
      "\n",
      "§6GreatOrator\n",
      "§r(Since 02/06/2016)§r\n",
      "\n",
      "§6Drekryan\n",
      "§r(Since 24/06/2016)§r\n",
      "\n",
      "§6Der DracheTV\n",
      "§r(Since 26/06/2016)§r\n",
      "\n",
      "§6Jordan\n",
      "§r(Since 20/07/2016)§r\n",
      "\n",
      "§6ModAPI\n",
      "§r(Since 29/11/2016)§r\n",
      "\n",
      "§6Mikepet\n",
      "§r(Since 09/12/2016)§r\n",
      "\n",
      "§6Nick_J_M\n",
      "§r(Since 19/01/2017)§r\n",
      "\n",
      "§6Halacon\n",
      "§r(Since 23/01/2017)§r\n",
      "\n",
      "§6Edward\n",
      "§r(Since 27/01/2017)§r\n",
      "\n",
      "§6WolufHD\n",
      "§r(Since 29/03/2017)§r\n",
      "\n",
      "§6Morpheus1101\n",
      "§r(Since 15/04/2017)§r\n",
      "\n",
      "§6exus_Chris\n",
      "§r(Since 18/04/2017)§r\n",
      "\n",
      "§6Zudakai\n",
      "§r(Since 21/04/2017)§r\n",
      "\n",
      "§6duomaz\n",
      "§r(Since 15/04/2017)§r\n",
      "\n",
      "§6Snakemgr12\n",
      "§r(Since 12/05/2017)§r\n",
      "\n",
      "§6Mhoku_\n",
      "§r(Since 08/06/2017)§r\n",
      "§6Robert W\n",
      "§R (С 08/06/2015) §r\n",
      "\n",
      "§6pxoxd\n",
      "§R (С 10/12/2015) §r\n",
      "\n",
      "§6antric83\n",
      "§R (С 14/04/2016) §r\n",
      "\n",
      "§6SassyAmber\n",
      "§R (С 25/05/2016) §r\n",
      "\n",
      "§6GreatOrator\n",
      "§R (С 02/06/2016) §r\n",
      "\n",
      "§6Drekryan\n",
      "§R (С 24/06/2016) §r\n",
      "\n",
      "§6Der DracheTV\n",
      "§R (С 26/06/2016) §r\n",
      "\n",
      "§6Jordan\n",
      "§R (С 20/07/2016) §r\n",
      "\n",
      "§6ModAPI\n",
      "§R (С 29/11/2016) §r\n",
      "\n",
      "§6Mikepet\n",
      "§R (С 09/12/2016) §r\n",
      "\n",
      "§6Nick_J_M\n",
      "§R (С 19/01/2017) §r\n",
      "\n",
      "§6Halacon\n",
      "§R (С 23/01/2017) §r\n",
      "\n",
      "§6Edward\n",
      "§R (С 27/01/2017) §r\n",
      "\n",
      "§6WolufHD\n",
      "§R (С 29/03/2017) §r\n",
      "\n",
      "§6Morpheus1101\n",
      "§R (С 15/04/2017) §r\n",
      "\n",
      "§6exus_Chris\n",
      "§R (С 18/04/2017) §r\n",
      "\n",
      "§6Zudakai\n",
      "§R (С 21/04/2017) §r\n",
      "\n",
      "§6duomaz\n",
      "§R (С 15/04/2017) §r\n",
      "\n",
      "§6Snakemgr12\n",
      "§R (С 12/05/2017) §r\n",
      "\n",
      "§6Mhoku_\n",
      "§R (С 08/06/2017) §r\n",
      "If you would like to become a patreon you can do so by following the link bellow.\n",
      "Если вы хотите стать patreon вы можете сделать это, следуя по ссылке ниже.\n",
      "§aThe following people are supporting me on patreon!\n",
      "The support these people give really helps\n",
      "make what I do possible. \n",
      "For this, I owe them all a debt of gratitude.\n",
      "§The следующие люди поддерживают меня на patreon!\n",
      "Поддержка эти люди дают действительно помогает\n",
      "сделать то, что я делаю это возможно.\n",
      "Для этого я должен всем им долг благодарности.\n",
      "Draconic Evolution is a mod that focuses mainly on extreamely powerful end game tools, weapons an machines.\n",
      "\n",
      "While at the same time maintaining balance (Although this can be tricky) with equally expensive recipes and very difficult bosses which you need to go through in order to get these items.\n",
      "\n",
      "But this mod started more like an Open Blocks or Extra Utilities type mod so it also has a lot of seemingly random but useful blocs and items.\n",
      "\n",
      "Some of the key features of this mod are: \n",
      "Драконий Evolution представляет собой моды, который ориентирован в основном на extreamely мощных инструментов конца игры, оружие А.Н. машины.\n",
      "\n",
      "Хотя в то же время сохраняя баланс (хотя это может быть сложно) с не менее дорогими рецептов и очень сложных боссов, которые вам нужно пройти, чтобы получить эти предметы.\n",
      "\n",
      "Но этот мод стал больше похож на тип мод открытые блоки или дополнительные утилиты, так оно и есть много, казалось бы, случайных, но полезных блоков и элементов.\n",
      "\n",
      "Некоторые из ключевых особенностей этого мода являются:\n"
     ]
    }
   ],
   "source": [
    "for child in root:\n",
    "    #print (child.tag)\n",
    "    #print (child.attrib)\n",
    "    str_atr = str(child.attrib)\n",
    "    if str_atr.find(\"textArea\") != - 1:\n",
    "        print (child.text)\n",
    "        result = trans.translate(child.text, src='en', dest='ru')\n",
    "        print(result.text)"
   ]
  }
 ],
 "metadata": {
  "kernelspec": {
   "display_name": "Python 3",
   "language": "python",
   "name": "python3"
  },
  "language_info": {
   "codemirror_mode": {
    "name": "ipython",
    "version": 3
   },
   "file_extension": ".py",
   "mimetype": "text/x-python",
   "name": "python",
   "nbconvert_exporter": "python",
   "pygments_lexer": "ipython3",
   "version": "3.7.6"
  }
 },
 "nbformat": 4,
 "nbformat_minor": 4
}
