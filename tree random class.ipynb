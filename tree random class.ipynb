{
 "cells": [
  {
   "cell_type": "code",
   "execution_count": 3,
   "metadata": {},
   "outputs": [],
   "source": [
    "import pandas\n",
    "from sklearn.ensemble import RandomForestClassifier\n",
    "from sklearn.model_selection import GridSearchCV"
   ]
  },
  {
   "cell_type": "code",
   "execution_count": 4,
   "metadata": {},
   "outputs": [],
   "source": [
    "# подготовка таблицы\n",
    "data = pandas.read_csv('titanic.csv')\n",
    "X_full = data[['Pclass', 'Fare', 'Age', 'Sex','Survived']]\n",
    "X_non_Na = X_full.dropna() # удаление пустых\n",
    "Y = X_non_Na.Survived\n",
    "X = X_non_Na[['Pclass', 'Fare', 'Age', 'Sex']]\n",
    "X_ = pandas.get_dummies(X,columns = ['Sex']) \n",
    "X = X_.drop('Sex_male',axis=1)\n"
   ]
  },
  {
   "cell_type": "code",
   "execution_count": 5,
   "metadata": {},
   "outputs": [],
   "source": [
    "# простая проверочная таблица\n",
    "my_sample = {'Pclass': 3, 'Fare': 7, 'Age': 32, 'Sex_female': 0}\n",
    "may_sample_dataframe = pandas.DataFrame(data=[my_sample])"
   ]
  },
  {
   "cell_type": "code",
   "execution_count": 6,
   "metadata": {},
   "outputs": [
    {
     "name": "stdout",
     "output_type": "stream",
     "text": [
      "Index(['Pclass', 'Fare', 'Age', 'Sex_female'], dtype='object')\n",
      "[0.11289637 0.31074446 0.31715916 0.25920002]\n"
     ]
    }
   ],
   "source": [
    "# предсказание простое\n",
    "clf = RandomForestClassifier(random_state=241)\n",
    "clf.fit(X, Y)\n",
    "# расчет веса показателей\n",
    "importances = clf.feature_importances_\n",
    "print(X.columns)\n",
    "print(importances)"
   ]
  },
  {
   "cell_type": "code",
   "execution_count": 36,
   "metadata": {},
   "outputs": [],
   "source": [
    "# пример использования подбора различных вариантов\n",
    "#clf = RandomForestClassifier(n_estimators=100,\n",
    "#                               random_state= 50,\n",
    "#                               max_features='sqrt',\n",
    "#                               n_jobs=-1, verbose=1)\n",
    "\n",
    "clf = RandomForestClassifier()\n",
    "\n",
    "# здесь пишем какие параметры будет перебирать\n",
    "#param_greed = {\n",
    "#    \"max_depth\" : [2,5,10],\n",
    "#    \"max_features\" : [2,5,10],\n",
    "#    \"splitter\" : ['best', 'random']\n",
    "#}\n",
    "\n",
    "param_greed = {\n",
    "    \"max_depth\" : [2,5,10],\n",
    "    \"criterion\" : ['gini', 'entropy'],\n",
    "    \"min_samples_split\" : [2,5,10],\n",
    "    \"min_samples_leaf\" : [1,5,10],\n",
    "}"
   ]
  },
  {
   "cell_type": "code",
   "execution_count": 37,
   "metadata": {},
   "outputs": [],
   "source": [
    "# пишем каие параметры перебираем scoring = как оцениваем  ,\n",
    "# cv = сколько тестовых выборок, n_jobs = -1 используем все процссоры\n",
    "GS = GridSearchCV(clf,param_greed,scoring = 'roc_auc',cv = 6,n_jobs = -1)"
   ]
  },
  {
   "cell_type": "code",
   "execution_count": 38,
   "metadata": {},
   "outputs": [
    {
     "data": {
      "text/plain": [
       "GridSearchCV(cv=6, error_score=nan,\n",
       "             estimator=RandomForestClassifier(bootstrap=True, ccp_alpha=0.0,\n",
       "                                              class_weight=None,\n",
       "                                              criterion='gini', max_depth=None,\n",
       "                                              max_features='auto',\n",
       "                                              max_leaf_nodes=None,\n",
       "                                              max_samples=None,\n",
       "                                              min_impurity_decrease=0.0,\n",
       "                                              min_impurity_split=None,\n",
       "                                              min_samples_leaf=1,\n",
       "                                              min_samples_split=2,\n",
       "                                              min_weight_fraction_leaf=0.0,\n",
       "                                              n_estimators=100, n_jobs=None,\n",
       "                                              oob_score=False,\n",
       "                                              random_state=None, verbose=0,\n",
       "                                              warm_start=False),\n",
       "             iid='deprecated', n_jobs=-1,\n",
       "             param_grid={'criterion': ['gini', 'entropy'],\n",
       "                         'max_depth': [2, 5, 10],\n",
       "                         'min_samples_leaf': [1, 5, 10],\n",
       "                         'min_samples_split': [2, 5, 10]},\n",
       "             pre_dispatch='2*n_jobs', refit=True, return_train_score=False,\n",
       "             scoring='roc_auc', verbose=0)"
      ]
     },
     "execution_count": 38,
     "metadata": {},
     "output_type": "execute_result"
    }
   ],
   "source": [
    "GS.fit(X,Y)"
   ]
  },
  {
   "cell_type": "code",
   "execution_count": 39,
   "metadata": {},
   "outputs": [
    {
     "data": {
      "text/plain": [
       "0.8639643273473038"
      ]
     },
     "execution_count": 39,
     "metadata": {},
     "output_type": "execute_result"
    }
   ],
   "source": [
    "# лучший показатель\n",
    "GS.best_score_"
   ]
  },
  {
   "cell_type": "code",
   "execution_count": 40,
   "metadata": {},
   "outputs": [
    {
     "data": {
      "text/plain": [
       "{'criterion': 'gini',\n",
       " 'max_depth': 5,\n",
       " 'min_samples_leaf': 1,\n",
       " 'min_samples_split': 2}"
      ]
     },
     "execution_count": 40,
     "metadata": {},
     "output_type": "execute_result"
    }
   ],
   "source": [
    "# луяшие параметры\n",
    "GS.best_params_"
   ]
  },
  {
   "cell_type": "code",
   "execution_count": 41,
   "metadata": {},
   "outputs": [
    {
     "data": {
      "text/plain": [
       "array([0.16982371, 0.19899107, 0.16674373, 0.46444149])"
      ]
     },
     "execution_count": 41,
     "metadata": {},
     "output_type": "execute_result"
    }
   ],
   "source": [
    "# обращаемся\n",
    "GS.best_estimator_.feature_importances_"
   ]
  },
  {
   "cell_type": "code",
   "execution_count": 42,
   "metadata": {},
   "outputs": [
    {
     "data": {
      "text/plain": [
       "array([0])"
      ]
     },
     "execution_count": 42,
     "metadata": {},
     "output_type": "execute_result"
    }
   ],
   "source": [
    "# предсказываем\n",
    "GS.best_estimator_.predict(may_sample_dataframe)"
   ]
  }
 ],
 "metadata": {
  "kernelspec": {
   "display_name": "Python 3",
   "language": "python",
   "name": "python3"
  },
  "language_info": {
   "codemirror_mode": {
    "name": "ipython",
    "version": 3
   },
   "file_extension": ".py",
   "mimetype": "text/x-python",
   "name": "python",
   "nbconvert_exporter": "python",
   "pygments_lexer": "ipython3",
   "version": "3.7.6"
  }
 },
 "nbformat": 4,
 "nbformat_minor": 4
}
