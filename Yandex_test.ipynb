{
 "cells": [
  {
   "cell_type": "code",
   "execution_count": 131,
   "metadata": {},
   "outputs": [],
   "source": [
    "import requests\n",
    "import shutil\n",
    "from PIL import Image,ImageDraw,ImageFont\n",
    "import tempfile"
   ]
  },
  {
   "cell_type": "code",
   "execution_count": 92,
   "metadata": {},
   "outputs": [],
   "source": [
    "chalk = ImageFont.truetype(\"Chalkduster.ttf\",16)"
   ]
  },
  {
   "cell_type": "code",
   "execution_count": 24,
   "metadata": {},
   "outputs": [
    {
     "ename": "ModuleNotFoundError",
     "evalue": "No module named 'pychubby'",
     "output_type": "error",
     "traceback": [
      "\u001b[0;31m---------------------------------------------------------------------------\u001b[0m",
      "\u001b[0;31mModuleNotFoundError\u001b[0m                       Traceback (most recent call last)",
      "\u001b[0;32m<ipython-input-24-173605b87021>\u001b[0m in \u001b[0;36m<module>\u001b[0;34m\u001b[0m\n\u001b[0;32m----> 1\u001b[0;31m \u001b[0;32mfrom\u001b[0m \u001b[0mpychubby\u001b[0m\u001b[0;34m.\u001b[0m\u001b[0mactions\u001b[0m \u001b[0;32mimport\u001b[0m \u001b[0mChubbify\u001b[0m\u001b[0;34m,\u001b[0m \u001b[0mMultiple\u001b[0m\u001b[0;34m,\u001b[0m \u001b[0mPipeline\u001b[0m\u001b[0;34m,\u001b[0m \u001b[0mSmile\u001b[0m\u001b[0;34m\u001b[0m\u001b[0;34m\u001b[0m\u001b[0m\n\u001b[0m\u001b[1;32m      2\u001b[0m \u001b[0;32mfrom\u001b[0m \u001b[0mpychubby\u001b[0m\u001b[0;34m.\u001b[0m\u001b[0mdetect\u001b[0m \u001b[0;32mimport\u001b[0m \u001b[0mLandmarkFace\u001b[0m\u001b[0;34m\u001b[0m\u001b[0;34m\u001b[0m\u001b[0m\n",
      "\u001b[0;31mModuleNotFoundError\u001b[0m: No module named 'pychubby'"
     ]
    }
   ],
   "source": [
    "from pychubby.actions import Chubbify, Multiple, Pipeline, Smile\n",
    "from pychubby.detect import LandmarkFace"
   ]
  },
  {
   "cell_type": "code",
   "execution_count": null,
   "metadata": {},
   "outputs": [],
   "source": [
    "\"spn\": \"0.552069,0.400552\",\n",
    "\"ll\": \"37.774006,44.687089\","
   ]
  },
  {
   "cell_type": "code",
   "execution_count": 9,
   "metadata": {},
   "outputs": [],
   "source": [
    " PARAMS = {\n",
    "            \"apikey\": \"3ee0f308-65f9-4989-a4fa-416c024dc6b3\",\n",
    "            \"text\": \"кофейня\",\n",
    "            \"lang\": \"ru_RU\",\n",
    "            \"type\": \"biz\",\n",
    "            \"results\": \"7\",\n",
    "            \"ll\": \"37.774006,44.687089\",\n",
    "            \"spn\": \"0.05,0.05\",\n",
    "            \"rspn\":1\n",
    "        }\n",
    "r = requests.get(url=\"https://search-maps.yandex.ru/v1/\", params=PARAMS)\n",
    "json_data = r.json()\n",
    "data_j = json_data[\"features\"]\n",
    "\n",
    "txt_forward = \"\"\n",
    "#https://static-maps.yandex.ru/1.x/?l=map&pt=37.771574,44.688905,ya_ru~37.788215,44.694076,pm2ntl1\n",
    "map_forward = \"https://static-maps.yandex.ru/1.x/?l=map&pt=37.774006,44.687089,ya_ru\"\n",
    "sch = 0\n",
    "for l in data_j:\n",
    "    try:\n",
    "        sch +=1\n",
    "        map_forward += \"~\" + str(l[\"geometry\"]['coordinates'][0]) + \",\" + str(l[\"geometry\"]['coordinates'][1]) + \",pm2ntl\" + str(sch)\n",
    "        txt_forward += str(sch) + \" \" + l[\"properties\"]['name'] + \"\\n\"\n",
    "        #txt_forward += str(l[\"geometry\"]['coordinates']) + \"\\n\"\n",
    "        txt_forward += l[\"properties\"]['CompanyMetaData'][\"address\"] + \"\\n\"\n",
    "        txt_forward += l[\"properties\"]['CompanyMetaData'][\"Hours\"][\"text\"] + \"\\n\"\n",
    "        txt_forward += \"----------------\" + \"\\n\"\n",
    "    except:\n",
    "        txt_forward += \"----------------\" + \"\\n\"\n"
   ]
  },
  {
   "cell_type": "code",
   "execution_count": 10,
   "metadata": {},
   "outputs": [
    {
     "name": "stdout",
     "output_type": "stream",
     "text": [
      "https://static-maps.yandex.ru/1.x/?l=map&pt=37.774006,44.687089,ya_ru~37.775423,44.686621,pm2ntl1~37.771574,44.688905,pm2ntl2~37.788215,44.694076,pm2ntl3~37.779775,44.677624,pm2ntl4~37.782383,44.685305,pm2ntl5~37.784625,44.676258,pm2ntl6~37.787228,44.693374,pm2ntl7\n"
     ]
    }
   ],
   "source": [
    "print(map_forward)"
   ]
  },
  {
   "cell_type": "code",
   "execution_count": 8,
   "metadata": {},
   "outputs": [
    {
     "name": "stdout",
     "output_type": "stream",
     "text": [
      "1 Хлебъ\n",
      "Россия, Краснодарский край, Новороссийск, улица Героев Десантников, 18\n",
      "ежедневно, 08:00–21:00\n",
      "----------------\n",
      "2 Crazy Coffee\n",
      "Россия, Краснодарский край, Новороссийск, улица Героев-Десантников, 87\n",
      "ежедневно, 09:00–21:00\n",
      "----------------\n",
      "3 Fly Coffee\n",
      "Россия, Краснодарский край, Новороссийск, Суворовская улица, 69\n",
      "ежедневно, 08:00–22:00\n",
      "----------------\n",
      "4 Кофейня Квартира № 8\n",
      "Россия, Краснодарский край, Новороссийск, проспект Дзержинского, 219\n",
      "ежедневно, 08:00–21:00\n",
      "----------------\n",
      "5 Bedoev coffee\n",
      "Россия, Краснодарский край, Новороссийск, улица Героев-Десантников, 2\n",
      "----------------\n",
      "6 Хлебъ\n",
      "Россия, Краснодарский край, Новороссийск, Южная улица, 11\n",
      "ежедневно, 08:00–21:00\n",
      "----------------\n",
      "7 Кофевар\n",
      "Россия, Краснодарский край, Новороссийск, проспект Ленина, 46\n",
      "ежедневно, 07:00–22:00\n",
      "----------------\n",
      "\n"
     ]
    }
   ],
   "source": [
    "print(txt_forward)"
   ]
  },
  {
   "cell_type": "code",
   "execution_count": 68,
   "metadata": {},
   "outputs": [],
   "source": [
    "map_ = requests.get(\"https://static-maps.yandex.ru/1.x/?l=map&pt=37.6,55.6~37.601,55.6,78~37.602,55.6,pmgrs~37.603,55.6,pm2rdm~37.604,55.6,pmntl100~37.605,55.6,pmors23~37.606,55.6,flag~37.607,55.6,pm2ywl99~37.608,55.6,ya_ru\")\n",
    "if map_.status_code == 200:\n",
    "    with open(\"img.png\", 'wb') as f:\n",
    "        for chunk in map_:\n",
    "            f.write(chunk)"
   ]
  },
  {
   "cell_type": "code",
   "execution_count": 11,
   "metadata": {},
   "outputs": [],
   "source": [
    "map_ = requests.get(map_forward)\n",
    "if map_.status_code == 200:\n",
    "    with open(\"img.png\", 'wb') as f:\n",
    "        for chunk in map_:\n",
    "            f.write(chunk)\n",
    "watermark_.save('/Users/alexeyvaganov/doc/files/cappuccino_PNG26_rs.png')"
   ]
  },
  {
   "cell_type": "code",
   "execution_count": 191,
   "metadata": {},
   "outputs": [],
   "source": [
    "card = Image.new(\"RGBA\", (920, 600), (255, 255, 255))\n",
    "img_orig = Image.open('/Users/alexeyvaganov/doc/files/espresso.png').convert(\"RGBA\")\n",
    "\n",
    "x, y = img_orig.size\n",
    "card.paste(img_orig, (0, 0, x, y), img_orig)\n",
    "card.save(\"/Users/alexeyvaganov/doc/files/espresso_rgba.png\", format=\"png\")"
   ]
  },
  {
   "cell_type": "code",
   "execution_count": 226,
   "metadata": {},
   "outputs": [
    {
     "name": "stdout",
     "output_type": "stream",
     "text": [
      "961\n",
      "1280\n"
     ]
    }
   ],
   "source": [
    "#im = Image.open('/Users/alexeyvaganov/doc/files/istockphoto-599142842-170667a.jpg')\n",
    "im = Image.open('/Users/alexeyvaganov/Downloads/eeeeeee.jpeg')\n",
    "\n",
    "#watermark = Image.open('/Users/alexeyvaganov/doc/files/cappuccino.png')\n",
    "# text_on_picture = \"I Like capuccino\"\n",
    "\n",
    "# watermark = Image.open('/Users/alexeyvaganov/doc/files/espresso.png')\n",
    "# text_on_picture = \"I Like espresso\"\n",
    "\n",
    "# watermark = Image.open('/Users/alexeyvaganov/doc/files/americano.png')\n",
    "# text_on_picture = \"I Like americano\"\n",
    "\n",
    "# watermark = Image.open('/Users/alexeyvaganov/doc/files/batch.png')\n",
    "# text_on_picture = \"I Like batch\"\n",
    "\n",
    "# watermark = Image.open('/Users/alexeyvaganov/doc/files/kemeks.png')\n",
    "# text_on_picture = \"I Like chemex\"\n",
    "\n",
    "# watermark = Image.open('/Users/alexeyvaganov/doc/files/aeropress.png')\n",
    "# text_on_picture = \"I Like aeropress\"\n",
    "\n",
    "# watermark = Image.open('/Users/alexeyvaganov/doc/files/latte.png')\n",
    "# text_on_picture = \"I Like latte\"\n",
    "\n",
    "# watermark = Image.open('/Users/alexeyvaganov/doc/files/raf.png')\n",
    "# text_on_picture = \"I Like RAF coffee\"\n",
    "\n",
    "# watermark = Image.open('/Users/alexeyvaganov/doc/files/ristretto.png')\n",
    "# text_on_picture = \"I Like ristretto\"\n",
    "\n",
    "watermark = Image.open('/Users/alexeyvaganov/doc/files/milk.png')\n",
    "text_on_picture = \"I Like MILK\"\n",
    "\n",
    "print(im.width)\n",
    "print(im.height)"
   ]
  },
  {
   "cell_type": "code",
   "execution_count": 228,
   "metadata": {},
   "outputs": [],
   "source": [
    "basewidth = int(im.size[0] / 3)\n",
    "\n",
    "wpercent = (basewidth/float(watermark.size[0]))\n",
    "hsize = int((float(watermark.size[1])*float(wpercent)))\n",
    "watermark_ = watermark.resize((basewidth,hsize), Image.ANTIALIAS)\n",
    "chalk = ImageFont.truetype(\"Chalkduster.ttf\",int(im.width / 10))\n",
    "\n",
    "with tempfile.NamedTemporaryFile() as fp:\n",
    "    watermark_.save(str(fp.name) + \".png\")\n",
    "    position = (im.width - watermark_.width,im.height - watermark_.height)\n",
    "    im.paste(watermark_, position, watermark_)\n",
    "    draw = ImageDraw.Draw(im)\n",
    "    draw.text((10,im.height - 156),text_on_picture,align = \"center\",font=chalk,fill=(200,75,135),stroke_fill  = (255,255,255))\n",
    "    draw.text((10,10),\"telegram: coffee_photo_bot \",fill=(200,75,135))\n",
    "    im.show()\n"
   ]
  },
  {
   "cell_type": "code",
   "execution_count": 236,
   "metadata": {},
   "outputs": [],
   "source": [
    "number_coffee = {\"Эспрессо\":\"espresso.png\",\n",
    "                 \"Капучино\":\"cappuccino.png\",\n",
    "                 \"Американо\":\"americano.png\",\n",
    "                 \"Батч-брю\":\"batch.png\",\n",
    "                 \"Кемекс\":\"kemeks.png\",\n",
    "                 \"Аэропресс\":\"aeropress.png\",\n",
    "                 \"Латте\":\"latte.png\",\n",
    "                 \"РАФ\":\"raf.png'\",\n",
    "                 \"Ристретто\":\"ristretto.png\"\n",
    "                 }"
   ]
  },
  {
   "cell_type": "code",
   "execution_count": 237,
   "metadata": {},
   "outputs": [
    {
     "data": {
      "text/plain": [
       "'espresso.png'"
      ]
     },
     "execution_count": 237,
     "metadata": {},
     "output_type": "execute_result"
    }
   ],
   "source": [
    "number_coffee.get(\"Эспрессо\")"
   ]
  },
  {
   "cell_type": "code",
   "execution_count": 238,
   "metadata": {},
   "outputs": [],
   "source": [
    "list_coffee = [\"Эспрессо\",\"Капучино\",\"Американо\",\"Батч-брю\",\"Кемекс\",\"Аэропресс\",\"Латте\",\"РАФ\",\"Ристретто\"]"
   ]
  },
  {
   "cell_type": "code",
   "execution_count": 240,
   "metadata": {},
   "outputs": [
    {
     "data": {
      "text/plain": [
       "0"
      ]
     },
     "execution_count": 240,
     "metadata": {},
     "output_type": "execute_result"
    }
   ],
   "source": [
    "list_coffee.index(\"Эспрессо\")"
   ]
  }
 ],
 "metadata": {
  "kernelspec": {
   "display_name": "Python 3",
   "language": "python",
   "name": "python3"
  },
  "language_info": {
   "codemirror_mode": {
    "name": "ipython",
    "version": 3
   },
   "file_extension": ".py",
   "mimetype": "text/x-python",
   "name": "python",
   "nbconvert_exporter": "python",
   "pygments_lexer": "ipython3",
   "version": "3.7.6"
  }
 },
 "nbformat": 4,
 "nbformat_minor": 4
}
