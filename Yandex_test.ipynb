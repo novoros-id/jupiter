{
 "cells": [
  {
   "cell_type": "code",
   "execution_count": 65,
   "metadata": {},
   "outputs": [],
   "source": [
    "import requests\n",
    "import shutil"
   ]
  },
  {
   "cell_type": "code",
   "execution_count": null,
   "metadata": {},
   "outputs": [],
   "source": [
    "\"spn\": \"0.552069,0.400552\",\n",
    "\"ll\": \"37.774006,44.687089\","
   ]
  },
  {
   "cell_type": "code",
   "execution_count": 93,
   "metadata": {},
   "outputs": [],
   "source": [
    " PARAMS = {\n",
    "            \"apikey\": \"\",\n",
    "            \"text\": \"кофейня\",\n",
    "            \"lang\": \"ru_RU\",\n",
    "            \"type\": \"biz\",\n",
    "            \"results\": \"10\",\n",
    "            \"ll\": \"37.774006,44.687089\",\n",
    "            \"spn\": \"0.5,0.5\",\n",
    "            \"rspn\":1\n",
    "        }\n",
    "r = requests.get(url=\"https://search-maps.yandex.ru/v1/\", params=PARAMS)\n",
    "json_data = r.json()\n",
    "data_j = json_data[\"features\"]\n",
    "\n",
    "txt_forward = \"\"\n",
    "#https://static-maps.yandex.ru/1.x/?l=map&pt=37.771574,44.688905,ya_ru~37.788215,44.694076,pm2ntl1\n",
    "map_forward = \"https://static-maps.yandex.ru/1.x/?l=map&pt=37.771574,44.688905,ya_ru\"\n",
    "sch = 0\n",
    "for l in data_j:\n",
    "    try:\n",
    "        sch +=1\n",
    "        map_forward += \"~\" + str(l[\"geometry\"]['coordinates'][0]) + \",\" + str(l[\"geometry\"]['coordinates'][1]) + \",pm2ntl\" + str(sch)\n",
    "        txt_forward += str(sch) + \" \" + l[\"properties\"]['name'] + \"\\n\"\n",
    "        #txt_forward += str(l[\"geometry\"]['coordinates']) + \"\\n\"\n",
    "        txt_forward += l[\"properties\"]['CompanyMetaData'][\"address\"] + \"\\n\"\n",
    "        txt_forward += l[\"properties\"]['CompanyMetaData'][\"Hours\"][\"text\"] + \"\\n\"\n",
    "        txt_forward += \"----------------\" + \"\\n\"\n",
    "    except:\n",
    "        txt_forward += \"----------------\" + \"\\n\"\n"
   ]
  },
  {
   "cell_type": "code",
   "execution_count": 94,
   "metadata": {},
   "outputs": [
    {
     "name": "stdout",
     "output_type": "stream",
     "text": [
      "https://static-maps.yandex.ru/1.x/?l=map&pt=37.771574,44.688905,ya_ru~37.771574,44.688905,pm2ntl1~37.788215,44.694076,pm2ntl2~37.779775,44.677624,pm2ntl3~37.782383,44.685305,pm2ntl4~37.777789,44.718805,pm2ntl5~37.787228,44.693374,pm2ntl6~37.785736,44.70107,pm2ntl7~37.757943,44.65738,pm2ntl8~37.791738,44.692458,pm2ntl9~37.781363,44.718585,pm2ntl10\n"
     ]
    }
   ],
   "source": [
    "print(map_forward)"
   ]
  },
  {
   "cell_type": "code",
   "execution_count": 92,
   "metadata": {},
   "outputs": [
    {
     "name": "stdout",
     "output_type": "stream",
     "text": [
      "1 Crazy Coffee\n",
      "Россия, Краснодарский край, Новороссийск, улица Героев-Десантников, 87\n",
      "ежедневно, 09:00–21:00\n",
      "----------------\n",
      "2 Fly Coffee\n",
      "Россия, Краснодарский край, Новороссийск, Суворовская улица, 69\n",
      "ежедневно, 08:00–22:00\n",
      "----------------\n",
      "3 Кофейня Квартира № 8\n",
      "Россия, Краснодарский край, Новороссийск, проспект Дзержинского, 219\n",
      "ежедневно, 08:00–21:00\n",
      "----------------\n",
      "4 Кофевар\n",
      "Россия, Краснодарский край, Новороссийск, проспект Ленина, 46\n",
      "ежедневно, 07:00–22:00\n",
      "----------------\n",
      "5 Мы с кофе\n",
      "Россия, Краснодарский край, городской округ Новороссийск, село Мысхако, Центральная улица, 3А\n",
      "ежедневно, 07:30–20:00\n",
      "----------------\n",
      "\n"
     ]
    }
   ],
   "source": [
    "print(txt_forward)"
   ]
  },
  {
   "cell_type": "code",
   "execution_count": 68,
   "metadata": {},
   "outputs": [],
   "source": [
    "map_ = requests.get(\"https://static-maps.yandex.ru/1.x/?l=map&pt=37.6,55.6~37.601,55.6,78~37.602,55.6,pmgrs~37.603,55.6,pm2rdm~37.604,55.6,pmntl100~37.605,55.6,pmors23~37.606,55.6,flag~37.607,55.6,pm2ywl99~37.608,55.6,ya_ru\")\n",
    "if map_.status_code == 200:\n",
    "    with open(\"img.png\", 'wb') as f:\n",
    "        for chunk in map_:\n",
    "            f.write(chunk)"
   ]
  },
  {
   "cell_type": "code",
   "execution_count": 74,
   "metadata": {},
   "outputs": [],
   "source": [
    "map_ = requests.get(map_forward)\n",
    "if map_.status_code == 200:\n",
    "    with open(\"img.png\", 'wb') as f:\n",
    "        for chunk in map_:\n",
    "            f.write(chunk)"
   ]
  }
 ],
 "metadata": {
  "kernelspec": {
   "display_name": "Python 3",
   "language": "python",
   "name": "python3"
  },
  "language_info": {
   "codemirror_mode": {
    "name": "ipython",
    "version": 3
   },
   "file_extension": ".py",
   "mimetype": "text/x-python",
   "name": "python",
   "nbconvert_exporter": "python",
   "pygments_lexer": "ipython3",
   "version": "3.7.6"
  }
 },
 "nbformat": 4,
 "nbformat_minor": 4
}
