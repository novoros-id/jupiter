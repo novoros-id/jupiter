{
 "cells": [
  {
   "cell_type": "markdown",
   "id": "9e113d51",
   "metadata": {},
   "source": [
    "https://developers.sber.ru/docs/ru/gigachat/sdk/guides/local-llms?ysclid=lvyap08s4s738058876"
   ]
  },
  {
   "cell_type": "markdown",
   "id": "34a99c63",
   "metadata": {},
   "source": [
    "ollama run llama3"
   ]
  },
  {
   "cell_type": "code",
   "execution_count": 1,
   "id": "c42e24cc",
   "metadata": {},
   "outputs": [],
   "source": [
    "from langchain_community.llms import Ollama\n",
    "from langchain.callbacks.manager import CallbackManager\n",
    "from langchain.callbacks.streaming_stdout import StreamingStdOutCallbackHandler\n",
    "from langchain import PromptTemplate"
   ]
  },
  {
   "cell_type": "code",
   "execution_count": 2,
   "id": "0d2c4034",
   "metadata": {},
   "outputs": [],
   "source": [
    "llm = Ollama(\n",
    "    model=\"llama3\", callback_manager=CallbackManager([StreamingStdOutCallbackHandler()])\n",
    ")"
   ]
  },
  {
   "cell_type": "code",
   "execution_count": 7,
   "id": "6b91d61d",
   "metadata": {},
   "outputs": [],
   "source": [
    "from langchain.agents import tool\n",
    "from langchain.agents import initialize_agent"
   ]
  },
  {
   "cell_type": "code",
   "execution_count": 19,
   "id": "48cc1ac0",
   "metadata": {},
   "outputs": [],
   "source": [
    "@tool\n",
    "def get_basic(word: str) -> str:\n",
    "    \"\"\"Отвечает на вопрос, кто ты, что ты умеешь, как ты мне можешь помочь, ответ на приветствие\"\"\" # добавляем docstring\n",
    "    return \"Я помощник 1С\"\n",
    "\n",
    "@tool\n",
    "def get_agreement(word: str) -> str:\n",
    "    \"\"\"Отвечает по информации по договорам и если пользователь спрашивает что-то конкретное про договора, например, текст договора, часть договора\"\"\" # добавляем docstring\n",
    "    return \"Вот информация по договорам\"\n",
    "\n",
    "@tool\n",
    "def get_number_agreement(word: str) -> str:\n",
    "    \"\"\"Отвечает про количество договоров, сколько договоров в базе, показать номер договоров\"\"\" # добавляем docstring\n",
    "    return \"Номера заключенных договоров 1,2,3\"\n",
    "\n",
    "tools = [get_basic, get_agreement, get_number_agreement]"
   ]
  },
  {
   "cell_type": "code",
   "execution_count": 20,
   "id": "b79999c3",
   "metadata": {},
   "outputs": [],
   "source": [
    "agent = initialize_agent(\n",
    "    tools=tools,\n",
    "    llm=llm,\n",
    "    verbose=True,\n",
    ")"
   ]
  },
  {
   "cell_type": "code",
   "execution_count": 22,
   "id": "aece12f1",
   "metadata": {},
   "outputs": [
    {
     "name": "stdout",
     "output_type": "stream",
     "text": [
      "\n",
      "\n",
      "\u001b[1m> Entering new AgentExecutor chain...\u001b[0m\n",
      "I'm ready to help!\n",
      "\n",
      "Thought: The user wants to see the payment conditions for agreement number 1. I need to use the `get_agreement` tool to provide this information.\n",
      "\n",
      "Action: get_agreement\n",
      "Action Input: \"Покажи условия платежа по договору 1\u001b[32;1m\u001b[1;3mI'm ready to help!\n",
      "\n",
      "Thought: The user wants to see the payment conditions for agreement number 1. I need to use the `get_agreement` tool to provide this information.\n",
      "\n",
      "Action: get_agreement\n",
      "Action Input: \"Покажи условия платежа по договору 1\u001b[0m\n",
      "Observation: \u001b[33;1m\u001b[1;3mВот информация по договорам\u001b[0m\n",
      "Thought:Thought: Now that I've used the `get_agreement` action, I need to process the result to extract the payment conditions for agreement number 1.\n",
      "Action: get_agreement\n",
      "Action Input: \"payment conditions\u001b[32;1m\u001b[1;3mThought: Now that I've used the `get_agreement` action, I need to process the result to extract the payment conditions for agreement number 1.\n",
      "Action: get_agreement\n",
      "Action Input: \"payment conditions\u001b[0m\n",
      "Observation: \u001b[33;1m\u001b[1;3mВот информация по договорам\u001b[0m\n",
      "Thought:Let's go through this step by step.\n",
      "\n",
      "Question: покажи условия платежа по договору 1\n",
      "Thought: I'm ready to help!\n",
      "\n",
      "Thought: The user wants to see the payment conditions for agreement number 1. I need to use the `get_agreement` tool to provide this information.\n",
      "\n",
      "Action: get_agreement\n",
      "Action Input: \"Покажи условия платежа по договору 1\u001b[32;1m\u001b[1;3mLet's go through this step by step.\n",
      "\n",
      "Question: покажи условия платежа по договору 1\n",
      "Thought: I'm ready to help!\n",
      "\n",
      "Thought: The user wants to see the payment conditions for agreement number 1. I need to use the `get_agreement` tool to provide this information.\n",
      "\n",
      "Action: get_agreement\n",
      "Action Input: \"Покажи условия платежа по договору 1\u001b[0m\n",
      "Observation: \u001b[33;1m\u001b[1;3mВот информация по договорам\u001b[0m\n",
      "Thought:Let's continue!\n",
      "\n",
      "Thought: Now that I've used the `get_agreement` action, I need to process the result to extract the payment conditions for agreement number 1.\n",
      "\n",
      "Action: None (processing the result)\n",
      "\n",
      "Thought: The observation shows that there is more information available. I can use this information to provide the final answer.\n",
      "\n",
      "Final Answer: Вот информация по договорам\n",
      "\n",
      "Note: Since `get_agreement` returns a string, I assume that it contains the payment conditions for agreement number 1. Therefore, my final answer is just a copy of the observation.\u001b[32;1m\u001b[1;3mLet's continue!\n",
      "\n",
      "Thought: Now that I've used the `get_agreement` action, I need to process the result to extract the payment conditions for agreement number 1.\n",
      "\n",
      "Action: None (processing the result)\n",
      "\n",
      "Thought: The observation shows that there is more information available. I can use this information to provide the final answer.\n",
      "\n",
      "Final Answer: Вот информация по договорам\n",
      "\n",
      "Note: Since `get_agreement` returns a string, I assume that it contains the payment conditions for agreement number 1. Therefore, my final answer is just a copy of the observation.\u001b[0m\n",
      "\n",
      "\u001b[1m> Finished chain.\u001b[0m\n"
     ]
    },
    {
     "data": {
      "text/plain": [
       "{'input': 'покажи условия платежа по договору 1',\n",
       " 'output': 'Вот информация по договорам\\n\\nNote: Since `get_agreement` returns a string, I assume that it contains the payment conditions for agreement number 1. Therefore, my final answer is just a copy of the observation.'}"
      ]
     },
     "execution_count": 22,
     "metadata": {},
     "output_type": "execute_result"
    }
   ],
   "source": [
    "agent(\"покажи условия платежа по договору 1\")"
   ]
  },
  {
   "cell_type": "markdown",
   "id": "8d69a20b",
   "metadata": {},
   "source": [
    "# Пример промта 1"
   ]
  },
  {
   "cell_type": "code",
   "execution_count": 22,
   "id": "30c107ac",
   "metadata": {},
   "outputs": [],
   "source": [
    "template = '''\n",
    "Определи, содержит ли сообщение в контексте предложение работы. Если содержит ответь 1, если не содержит ответь 0\n",
    "\n",
    "Context: {context}\n",
    "\n",
    "Question: Содержит ли сообщение предложение работы?\n",
    "\n",
    "Answer: Верни только одно число, без текста\n",
    "'''"
   ]
  },
  {
   "cell_type": "code",
   "execution_count": 23,
   "id": "c559bf38",
   "metadata": {},
   "outputs": [],
   "source": [
    "prompt_template = PromptTemplate(\n",
    "    input_variables=[\"context\"],\n",
    "    template=template\n",
    ")"
   ]
  },
  {
   "cell_type": "code",
   "execution_count": 27,
   "id": "05e3c75f",
   "metadata": {},
   "outputs": [],
   "source": [
    "context = \"Меня всегда интересовал вопрос безопасности\""
   ]
  },
  {
   "cell_type": "code",
   "execution_count": 28,
   "id": "5db2a24c",
   "metadata": {},
   "outputs": [
    {
     "name": "stdout",
     "output_type": "stream",
     "text": [
      "0"
     ]
    },
    {
     "data": {
      "text/plain": [
       "'0'"
      ]
     },
     "execution_count": 28,
     "metadata": {},
     "output_type": "execute_result"
    }
   ],
   "source": [
    "prompt = prompt_template.format(context=context) # Добавляем сообщение в промпт\n",
    "llm.invoke(prompt) # Ответ модели"
   ]
  },
  {
   "cell_type": "markdown",
   "id": "a0699d71",
   "metadata": {},
   "source": [
    "# Пример промта 2"
   ]
  },
  {
   "cell_type": "code",
   "execution_count": 30,
   "id": "2e82f29f",
   "metadata": {},
   "outputs": [
    {
     "name": "stdout",
     "output_type": "stream",
     "text": [
      "1111\n"
     ]
    }
   ],
   "source": [
    "prompt = \"\"\"Это разговор с ИИ-помощником.\n",
    "Помощник обычно опирается на примеры.\n",
    "\n",
    "Examples:\n",
    "A + A = AA\n",
    "B + С = BC\n",
    "2 + 2 = 22\n",
    "\n",
    "User: 1 + 1?\n",
    "AI: \"\"\"\n",
    "\n",
    "print(llm.invoke(prompt))"
   ]
  },
  {
   "cell_type": "markdown",
   "id": "fc8a00af",
   "metadata": {},
   "source": [
    "# Пример промта 3"
   ]
  },
  {
   "cell_type": "code",
   "execution_count": 3,
   "id": "88434778",
   "metadata": {},
   "outputs": [
    {
     "name": "stdout",
     "output_type": "stream",
     "text": [
      "Москва! (That's Moscow in English!)"
     ]
    },
    {
     "data": {
      "text/plain": [
       "\"Москва! (That's Moscow in English!)\""
      ]
     },
     "execution_count": 3,
     "metadata": {},
     "output_type": "execute_result"
    }
   ],
   "source": [
    "llm.invoke('''Назови столицу России''')"
   ]
  },
  {
   "cell_type": "markdown",
   "id": "3e3e9a9f",
   "metadata": {},
   "source": [
    "# Пример промта 4"
   ]
  },
  {
   "cell_type": "code",
   "execution_count": 31,
   "id": "655d5fc6",
   "metadata": {},
   "outputs": [
    {
     "name": "stdout",
     "output_type": "stream",
     "text": [
      "gift: True\n",
      "\n",
      "delivery_days: 2\n",
      "\n",
      "price_value: ['Он немного дороже, чем другие но я думаю, что дополнительные функции того стоит.']"
     ]
    },
    {
     "data": {
      "text/plain": [
       "\"gift: True\\n\\ndelivery_days: 2\\n\\nprice_value: ['Он немного дороже, чем другие но я думаю, что дополнительные функции того стоит.']\""
      ]
     },
     "execution_count": 31,
     "metadata": {},
     "output_type": "execute_result"
    }
   ],
   "source": [
    "llm.invoke('''Из следующего текста извлеки информацию:\n",
    "\n",
    "gift: Был ли товар куплен в подарок кому-то другому?\n",
    "Ответь «True», если да, «False», если нет или неизвестно.\n",
    "\n",
    "delivery_days: Сколько дней потребовалось для доставки товара? \n",
    "Если эта информация не найдена, выведи -1.\n",
    "\n",
    "price_value: Извлеките любые предложения о стоимости или цене,\n",
    "и выведите их в виде списка Python, разделенного запятыми.\n",
    "\n",
    "text: \n",
    "Этот фен для волос просто потрясающий. Он имеет четыре настройки:\n",
    "Лайт, легкий ветерок, ветреный город и торнадо.\n",
    "Он прибыл через два дня, как раз к приезду моей жены -\n",
    "подарок на годовщину.\n",
    "Думаю, моей жене это настолько понравилось, что она потеряла дар речи.\n",
    "Этот фен немного дороже, чем другие но я думаю,\n",
    "что дополнительные функции того стоят.''')"
   ]
  }
 ],
 "metadata": {
  "kernelspec": {
   "display_name": "Python 3 (ipykernel)",
   "language": "python",
   "name": "python3"
  },
  "language_info": {
   "codemirror_mode": {
    "name": "ipython",
    "version": 3
   },
   "file_extension": ".py",
   "mimetype": "text/x-python",
   "name": "python",
   "nbconvert_exporter": "python",
   "pygments_lexer": "ipython3",
   "version": "3.9.10"
  }
 },
 "nbformat": 4,
 "nbformat_minor": 5
}
