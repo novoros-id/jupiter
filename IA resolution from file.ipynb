{
 "cells": [
  {
   "cell_type": "code",
   "execution_count": 20,
   "metadata": {},
   "outputs": [],
   "source": [
    "#import numpy as np\n",
    "import pandas\n",
    "import re\n",
    "import pickle\n",
    "\n",
    "#from sklearn.feature_extraction.text import CountVectorizer\n",
    "#from sklearn.ensemble import RandomForestClassifier\n",
    "#from sklearn.model_selection import GridSearchCV\n",
    "\n",
    "#from pymystem3 import Mystem\n",
    "import pymorphy2\n",
    "\n",
    "# инициализируем\n",
    "#vectorizer = CountVectorizer()\n",
    "morph = pymorphy2.MorphAnalyzer()"
   ]
  },
  {
   "cell_type": "code",
   "execution_count": 21,
   "metadata": {},
   "outputs": [],
   "source": [
    "past_columns = [] # пустой массив, для опрееделени колонок\n",
    "for i in range(1336): \n",
    "    past_columns.append(f\"v_{i}\")"
   ]
  },
  {
   "cell_type": "code",
   "execution_count": 22,
   "metadata": {},
   "outputs": [],
   "source": [
    "# функция для лемматизации\n",
    "\n",
    "def lemmatize(text):\n",
    "    text_str = str(text)\n",
    "    text_str = re.sub(r'[^\\w\\s]+|[\\d]+', r'',text_str).strip()\n",
    "    words = text_str.split() # разбиваем текст на слова\n",
    "    res = \"\"\n",
    "    for word in words:\n",
    "        p = morph.parse(word)[0]\n",
    "        res = res + \" \" + p.normal_form\n",
    "\n",
    "    return res"
   ]
  },
  {
   "cell_type": "code",
   "execution_count": 23,
   "metadata": {},
   "outputs": [],
   "source": [
    "# ЗАГРУЗКА МОДЕЛИ\n",
    "filename = 'finalized_model_resolut.sav'\n",
    "loaded_clf = pickle.load(open(filename, 'rb'))"
   ]
  },
  {
   "cell_type": "code",
   "execution_count": 24,
   "metadata": {},
   "outputs": [],
   "source": [
    "# ЗАГРУЗКА ВЕКТОРОВ\n",
    "filename = 'finalized_vector_resolut.sav'\n",
    "loaded_vectorizer = pickle.load(open(filename, 'rb'))"
   ]
  },
  {
   "cell_type": "code",
   "execution_count": 26,
   "metadata": {},
   "outputs": [
    {
     "data": {
      "text/plain": [
       "array([0])"
      ]
     },
     "execution_count": 26,
     "metadata": {},
     "output_type": "execute_result"
    }
   ],
   "source": [
    "# РАСЧЕТ С ЗАГРУЖЕННОЙ МОДЕЛИ\n",
    "\n",
    "text_predict = 'ознакомиться'\n",
    "text_predict_lemmat = lemmatize(text_predict)\n",
    "new_v = loaded_vectorizer.transform([text_predict_lemmat])  # результат \n",
    "new_v_array = new_v.toarray()\n",
    "dataframe_predict = pandas.DataFrame(data = new_v_array,columns = past_columns)\n",
    "loaded_clf.predict(dataframe_predict)"
   ]
  }
 ],
 "metadata": {
  "kernelspec": {
   "display_name": "Python 3",
   "language": "python",
   "name": "python3"
  },
  "language_info": {
   "codemirror_mode": {
    "name": "ipython",
    "version": 3
   },
   "file_extension": ".py",
   "mimetype": "text/x-python",
   "name": "python",
   "nbconvert_exporter": "python",
   "pygments_lexer": "ipython3",
   "version": "3.7.6"
  }
 },
 "nbformat": 4,
 "nbformat_minor": 4
}
