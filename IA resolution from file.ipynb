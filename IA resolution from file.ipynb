{
 "cells": [
  {
   "cell_type": "code",
   "execution_count": 1,
   "metadata": {},
   "outputs": [],
   "source": [
    "#import numpy as np\n",
    "import pandas\n",
    "import re\n",
    "import pickle\n",
    "\n",
    "#from sklearn.feature_extraction.text import CountVectorizer\n",
    "#from sklearn.ensemble import RandomForestClassifier\n",
    "#from sklearn.model_selection import GridSearchCV\n",
    "\n",
    "#from pymystem3 import Mystem\n",
    "import pymorphy2\n",
    "\n",
    "# инициализируем\n",
    "#vectorizer = CountVectorizer()\n",
    "morph = pymorphy2.MorphAnalyzer()"
   ]
  },
  {
   "cell_type": "code",
   "execution_count": 2,
   "metadata": {},
   "outputs": [],
   "source": [
    "past_columns = [] # пустой массив, для опрееделени колонок\n",
    "for i in range(1336): \n",
    "    past_columns.append(f\"v_{i}\")"
   ]
  },
  {
   "cell_type": "code",
   "execution_count": 3,
   "metadata": {},
   "outputs": [],
   "source": [
    "# функция для лемматизации\n",
    "\n",
    "def lemmatize(text):\n",
    "    text_str = str(text)\n",
    "    text_str = re.sub(r'[^\\w\\s]+|[\\d]+', r'',text_str).strip()\n",
    "    words = text_str.split() # разбиваем текст на слова\n",
    "    res = \"\"\n",
    "    for word in words:\n",
    "        p = morph.parse(word)[0]\n",
    "        res = res + \" \" + p.normal_form\n",
    "\n",
    "    return res"
   ]
  },
  {
   "cell_type": "code",
   "execution_count": 4,
   "metadata": {},
   "outputs": [],
   "source": [
    "# ЗАГРУЗКА МОДЕЛИ\n",
    "filename = 'finalized_model_resolut.sav'\n",
    "loaded_clf = pickle.load(open(filename, 'rb'))"
   ]
  },
  {
   "cell_type": "code",
   "execution_count": 5,
   "metadata": {},
   "outputs": [],
   "source": [
    "# ЗАГРУЗКА ВЕКТОРОВ\n",
    "filename = 'finalized_vector_resolut.sav'\n",
    "loaded_vectorizer = pickle.load(open(filename, 'rb'))"
   ]
  },
  {
   "cell_type": "code",
   "execution_count": 6,
   "metadata": {},
   "outputs": [
    {
     "data": {
      "text/plain": [
       "array([1])"
      ]
     },
     "execution_count": 6,
     "metadata": {},
     "output_type": "execute_result"
    }
   ],
   "source": [
    "# РАСЧЕТ С ЗАГРУЖЕННОЙ МОДЕЛИ\n",
    "\n",
    "text_predict = 'подготовить ответ'\n",
    "text_predict_lemmat = lemmatize(text_predict)\n",
    "new_v = loaded_vectorizer.transform([text_predict_lemmat])  # результат \n",
    "new_v_array = new_v.toarray()\n",
    "dataframe_predict = pandas.DataFrame(data = new_v_array,columns = past_columns)\n",
    "loaded_clf.predict(dataframe_predict)"
   ]
  },
  {
   "cell_type": "code",
   "execution_count": 7,
   "metadata": {},
   "outputs": [],
   "source": [
    "node_indicator = loaded_clf.decision_path(dataframe_predict)"
   ]
  },
  {
   "cell_type": "code",
   "execution_count": 8,
   "metadata": {},
   "outputs": [
    {
     "name": "stdout",
     "output_type": "stream",
     "text": [
      "(<1x60626 sparse matrix of type '<class 'numpy.longlong'>'\n",
      "\twith 2243 stored elements in Compressed Sparse Row format>, array([    0,   733,  1254,  1885,  2614,  3179,  3606,  4285,  5034,\n",
      "        5661,  6306,  7109,  7614,  8231,  8702,  9333,  9942, 10583,\n",
      "       11054, 11649, 12494, 13251, 13742, 14351, 14948, 15491, 16116,\n",
      "       16707, 17224, 17679, 18274, 18685, 19192, 19939, 20444, 21025,\n",
      "       21808, 22615, 23262, 24005, 24582, 25173, 25916, 26463, 27138,\n",
      "       27567, 28092, 28731, 29262, 30073, 30702, 31215, 31686, 32275,\n",
      "       32962, 33633, 34220, 34765, 35348, 35863, 36416, 37229, 37804,\n",
      "       38443, 38918, 39559, 40118, 40727, 41382, 41967, 42400, 42919,\n",
      "       43594, 44141, 44730, 45317, 45800, 46185, 46776, 47205, 47928,\n",
      "       48479, 48984, 49651, 50170, 50713, 51418, 52223, 52942, 53551,\n",
      "       54118, 54631, 55370, 56045, 56714, 57441, 57896, 58553, 59360,\n",
      "       59967, 60626]))\n"
     ]
    }
   ],
   "source": [
    "print(node_indicator)"
   ]
  },
  {
   "cell_type": "code",
   "execution_count": 10,
   "metadata": {},
   "outputs": [
    {
     "ename": "AttributeError",
     "evalue": "'tuple' object has no attribute 'indptr'",
     "output_type": "error",
     "traceback": [
      "\u001b[0;31m---------------------------------------------------------------------------\u001b[0m",
      "\u001b[0;31mAttributeError\u001b[0m                            Traceback (most recent call last)",
      "\u001b[0;32m<ipython-input-10-c464fdd70248>\u001b[0m in \u001b[0;36m<module>\u001b[0;34m\u001b[0m\n\u001b[0;32m----> 1\u001b[0;31m \u001b[0mnode_indicator\u001b[0m\u001b[0;34m.\u001b[0m\u001b[0mindptr\u001b[0m\u001b[0;34m[\u001b[0m\u001b[0;36m0\u001b[0m\u001b[0;34m]\u001b[0m\u001b[0;34m\u001b[0m\u001b[0;34m\u001b[0m\u001b[0m\n\u001b[0m",
      "\u001b[0;31mAttributeError\u001b[0m: 'tuple' object has no attribute 'indptr'"
     ]
    }
   ],
   "source": [
    "node_indicator.indptr[0]"
   ]
  },
  {
   "cell_type": "code",
   "execution_count": 12,
   "metadata": {},
   "outputs": [
    {
     "ename": "AttributeError",
     "evalue": "'tuple' object has no attribute 'indices'",
     "output_type": "error",
     "traceback": [
      "\u001b[0;31m---------------------------------------------------------------------------\u001b[0m",
      "\u001b[0;31mAttributeError\u001b[0m                            Traceback (most recent call last)",
      "\u001b[0;32m<ipython-input-12-0112a751e10f>\u001b[0m in \u001b[0;36m<module>\u001b[0;34m\u001b[0m\n\u001b[1;32m      1\u001b[0m \u001b[0msample_id\u001b[0m \u001b[0;34m=\u001b[0m \u001b[0;36m0\u001b[0m\u001b[0;34m\u001b[0m\u001b[0;34m\u001b[0m\u001b[0m\n\u001b[0;32m----> 2\u001b[0;31m \u001b[0mnode_index\u001b[0m \u001b[0;34m=\u001b[0m \u001b[0mnode_indicator\u001b[0m\u001b[0;34m.\u001b[0m\u001b[0mindices\u001b[0m\u001b[0;34m[\u001b[0m\u001b[0mnode_indicator\u001b[0m\u001b[0;34m.\u001b[0m\u001b[0mindptr\u001b[0m\u001b[0;34m[\u001b[0m\u001b[0msample_id\u001b[0m\u001b[0;34m]\u001b[0m\u001b[0;34m:\u001b[0m\u001b[0mnode_indicator\u001b[0m\u001b[0;34m.\u001b[0m\u001b[0mindptr\u001b[0m\u001b[0;34m[\u001b[0m\u001b[0msample_id\u001b[0m \u001b[0;34m+\u001b[0m \u001b[0;36m1\u001b[0m\u001b[0;34m]\u001b[0m\u001b[0;34m]\u001b[0m\u001b[0;34m\u001b[0m\u001b[0;34m\u001b[0m\u001b[0m\n\u001b[0m",
      "\u001b[0;31mAttributeError\u001b[0m: 'tuple' object has no attribute 'indices'"
     ]
    }
   ],
   "source": [
    "sample_id = 0\n",
    "node_index = node_indicator.indices[node_indicator.indptr[sample_id]:node_indicator.indptr[sample_id + 1]]"
   ]
  }
 ],
 "metadata": {
  "kernelspec": {
   "display_name": "Python 3",
   "language": "python",
   "name": "python3"
  },
  "language_info": {
   "codemirror_mode": {
    "name": "ipython",
    "version": 3
   },
   "file_extension": ".py",
   "mimetype": "text/x-python",
   "name": "python",
   "nbconvert_exporter": "python",
   "pygments_lexer": "ipython3",
   "version": "3.7.6"
  }
 },
 "nbformat": 4,
 "nbformat_minor": 4
}
